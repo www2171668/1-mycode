{
 "cells": [
  {
   "cell_type": "code",
   "execution_count": 1,
   "metadata": {
    "collapsed": true,
    "scrolled": true
   },
   "outputs": [],
   "source": [
    "import torch\n",
    "import torch.utils.data as Data\n",
    "import matplotlib.pyplot as plt"
   ]
  },
  {
   "cell_type": "markdown",
   "metadata": {},
   "source": [
    "##### 1、准备输入数据X与Y"
   ]
  },
  {
   "cell_type": "code",
   "execution_count": 3,
   "metadata": {},
   "outputs": [
    {
     "data": {
      "image/png": "[encoded data removed]",
      "text/plain": [
       "<matplotlib.figure.Figure at 0x1dc719c85f8>"
      ]
     },
     "metadata": {},
     "output_type": "display_data"
    }
   ],
   "source": [
    "x = torch.linspace(1, 10, 10)\n",
    "y = torch.linspace(10, 1, 10)\n",
    "\n",
    "plt.scatter(x.data, y.data, s=10, cmap='autumn')\n",
    "plt.show()"
   ]
  },
  {
   "cell_type": "markdown",
   "metadata": {},
   "source": [
    "##### 2、创建dataloader ★★\n",
    "—— Data.TensorDataset(x, y) 封装数据（合并数据）\n",
    "\n",
    "—— Data.DataLoader(dataset,batch_size,shuffle) 加载数据，设置单词batch数量，最后配合enumerate()使用"
   ]
  },
  {
   "cell_type": "code",
   "execution_count": 4,
   "metadata": {
    "collapsed": true
   },
   "outputs": [],
   "source": [
    "BATCH_SIZE = 5\n",
    "torch_dataset = Data.TensorDataset(x, y)\n",
    "# 每次选batch数量的样本进行模型参数更新\n",
    "loader = Data.DataLoader(dataset=torch_dataset,batch_size=BATCH_SIZE,shuffle=False,)"
   ]
  },
  {
   "cell_type": "code",
   "execution_count": 10,
   "metadata": {},
   "outputs": [
    {
     "name": "stdout",
     "output_type": "stream",
     "text": [
      "2\n",
      "10\n"
     ]
    }
   ],
   "source": [
    "print(len(loader))   # 单批次样本数  ★\n",
    "print(len(loader.dataset))   # 总样本数  ★"
   ]
  },
  {
   "cell_type": "markdown",
   "metadata": {},
   "source": [
    "##### 3、MBGD训练"
   ]
  },
  {
   "cell_type": "code",
   "execution_count": 9,
   "metadata": {},
   "outputs": [
    {
     "name": "stdout",
     "output_type": "stream",
     "text": [
      "Epoch:  0 | Step:  0 | batch x:  [1. 2. 3.] | batch y:  [10.  9.  8.]\n",
      "Epoch:  0 | Step:  1 | batch x:  [4. 5. 6.] | batch y:  [7. 6. 5.]\n",
      "Epoch:  0 | Step:  2 | batch x:  [7. 8. 9.] | batch y:  [4. 3. 2.]\n",
      "Epoch:  0 | Step:  3 | batch x:  [10.] | batch y:  [1.]\n",
      "Epoch:  1 | Step:  0 | batch x:  [1. 2. 3.] | batch y:  [10.  9.  8.]\n",
      "Epoch:  1 | Step:  1 | batch x:  [4. 5. 6.] | batch y:  [7. 6. 5.]\n",
      "Epoch:  1 | Step:  2 | batch x:  [7. 8. 9.] | batch y:  [4. 3. 2.]\n",
      "Epoch:  1 | Step:  3 | batch x:  [10.] | batch y:  [1.]\n",
      "Epoch:  2 | Step:  0 | batch x:  [1. 2. 3.] | batch y:  [10.  9.  8.]\n",
      "Epoch:  2 | Step:  1 | batch x:  [4. 5. 6.] | batch y:  [7. 6. 5.]\n",
      "Epoch:  2 | Step:  2 | batch x:  [7. 8. 9.] | batch y:  [4. 3. 2.]\n",
      "Epoch:  2 | Step:  3 | batch x:  [10.] | batch y:  [1.]\n"
     ]
    }
   ],
   "source": [
    "if __name__ == '__main__':\n",
    "    for epoch in range(3):   # 总迭代次数\n",
    "        for step, (batch_x, batch_y) in enumerate(loader):   # 用(batch_x, batch_y)接收data\n",
    "            print('Epoch: ', epoch, '| Step: ', step, '| batch x: ', batch_x.numpy(), '| batch y: ', batch_y.numpy())"
   ]
  },
  {
   "cell_type": "code",
   "execution_count": null,
   "metadata": {
    "collapsed": true
   },
   "outputs": [],
   "source": []
  }
 ],
 "metadata": {
  "kernelspec": {
   "display_name": "Python 3",
   "language": "python",
   "name": "python3"
  },
  "language_info": {
   "codemirror_mode": {
    "name": "ipython",
    "version": 3
   },
   "file_extension": ".py",
   "mimetype": "text/x-python",
   "name": "python",
   "nbconvert_exporter": "python",
   "pygments_lexer": "ipython3",
   "version": "3.6.2"
  }
 },
 "nbformat": 4,
 "nbformat_minor": 2
}
