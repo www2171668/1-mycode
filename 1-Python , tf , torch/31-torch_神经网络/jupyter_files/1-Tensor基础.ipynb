{
 "cells": [
  {
   "cell_type": "code",
   "execution_count": 2,
   "metadata": {
    "collapsed": true
   },
   "outputs": [],
   "source": [
    "import torch\n",
    "import numpy as np"
   ]
  },
  {
   "cell_type": "code",
   "execution_count": 147,
   "metadata": {},
   "outputs": [
    {
     "name": "stdout",
     "output_type": "stream",
     "text": [
      "tensor([3, 1, 1, 5, 1, 4], dtype=torch.int8)\n",
      "torch.Size([6])\n"
     ]
    }
   ],
   "source": [
    "a = torch.tensor([3,1,1,5,1,4],dtype=torch.int8)   # dtype=torch.long\n",
    "print(a)\n",
    "print(a.size())"
   ]
  },
  {
   "cell_type": "code",
   "execution_count": null,
   "metadata": {
    "collapsed": true
   },
   "outputs": [],
   "source": [
    "torch.tensor((2,2), dtype=torch.float)\n",
    "\n",
    "torch.zero((2,2)) # 初始化元素为0\n",
    "torch.ones((2,2)) # 初始化元素为1\n",
    "\n",
    "torch.rand(2,2) #随机初始化[0,1]\n",
    "torch.randn(2,2) #随机初始化, 0-均值 1-方差"
   ]
  },
  {
   "cell_type": "markdown",
   "metadata": {},
   "source": [
    "—— ﹡.size()与﹡.shape：显示形状"
   ]
  },
  {
   "cell_type": "code",
   "execution_count": 93,
   "metadata": {},
   "outputs": [
    {
     "name": "stdout",
     "output_type": "stream",
     "text": [
      "torch.Size([2])\n",
      "(2,)\n"
     ]
    }
   ],
   "source": [
    "a = torch.tensor([2,2])\n",
    "b = np.array([2,2])\n",
    "print(a.size())\n",
    "print(b.shape)"
   ]
  },
  {
   "cell_type": "markdown",
   "metadata": {},
   "source": [
    "—— *.transpose()：转置\n",
    "\n",
    "    tensor一次只能对两个维度进行转置，但numpy可以同时对多个维度进行转置"
   ]
  },
  {
   "cell_type": "code",
   "execution_count": 152,
   "metadata": {
    "scrolled": true
   },
   "outputs": [
    {
     "name": "stdout",
     "output_type": "stream",
     "text": [
      "tensor([[[ 0,  1,  2,  3,  4],\n",
      "         [15, 16, 17, 18, 19]],\n",
      "\n",
      "        [[ 5,  6,  7,  8,  9],\n",
      "         [20, 21, 22, 23, 24]],\n",
      "\n",
      "        [[10, 11, 12, 13, 14],\n",
      "         [25, 26, 27, 28, 29]]])\n"
     ]
    }
   ],
   "source": [
    "a = torch.arange(30).reshape(2, 3, 5)\n",
    "print(a.transpose(1, 0))"
   ]
  },
  {
   "cell_type": "code",
   "execution_count": 154,
   "metadata": {},
   "outputs": [
    {
     "name": "stdout",
     "output_type": "stream",
     "text": [
      "[[[ 0  1  2  3  4]\n",
      "  [ 5  6  7  8  9]\n",
      "  [10 11 12 13 14]]\n",
      "\n",
      " [[15 16 17 18 19]\n",
      "  [20 21 22 23 24]\n",
      "  [25 26 27 28 29]]]\n",
      "\n",
      "[[[ 0  1  2  3  4]\n",
      "  [15 16 17 18 19]]\n",
      "\n",
      " [[ 5  6  7  8  9]\n",
      "  [20 21 22 23 24]]\n",
      "\n",
      " [[10 11 12 13 14]\n",
      "  [25 26 27 28 29]]]\n"
     ]
    }
   ],
   "source": [
    "# 交换第0维度和第1维度的数据\n",
    "a = np.arange(30).reshape(2, 3, 5)  # 对7来说，[0,1,2]\n",
    "print(a)\n",
    "print()\n",
    "print(a.transpose(1, 0, 2))   # 对7来说，[1,0,2]"
   ]
  },
  {
   "cell_type": "markdown",
   "metadata": {},
   "source": [
    "1、numpy转torch\n",
    "\n",
    "—— torch.from_numpy(*)"
   ]
  },
  {
   "cell_type": "code",
   "execution_count": 74,
   "metadata": {},
   "outputs": [
    {
     "data": {
      "text/plain": [
       "tensor([0, 1, 2, 3, 4, 5, 6, 7], dtype=torch.int32)"
      ]
     },
     "execution_count": 74,
     "metadata": {},
     "output_type": "execute_result"
    }
   ],
   "source": [
    "a = np.arange(8)\n",
    "b = torch.from_numpy(a)\n",
    "b"
   ]
  },
  {
   "cell_type": "markdown",
   "metadata": {},
   "source": [
    "2、torch转numpy"
   ]
  },
  {
   "cell_type": "code",
   "execution_count": 78,
   "metadata": {},
   "outputs": [
    {
     "data": {
      "text/plain": [
       "array([0, 1, 2, 3, 4, 5, 6, 7], dtype=int64)"
      ]
     },
     "execution_count": 78,
     "metadata": {},
     "output_type": "execute_result"
    }
   ],
   "source": [
    "a = torch.tensor(8)\n",
    "b = np.arange(a)\n",
    "b"
   ]
  },
  {
   "cell_type": "markdown",
   "metadata": {},
   "source": [
    "—— torch.max(﹡,n,keepdim) ：返回最大值和其index ★"
   ]
  },
  {
   "cell_type": "code",
   "execution_count": 160,
   "metadata": {},
   "outputs": [
    {
     "name": "stdout",
     "output_type": "stream",
     "text": [
      "tensor([3., 6., 9.])\n",
      "tensor([2, 2, 2])\n"
     ]
    }
   ],
   "source": [
    "anch_ious=torch.Tensor([[1,2,3],[4,5,6],[7,8,9]])\n",
    "\n",
    "b=torch.max(anch_ious.data, 1)\n",
    "print(b[0])  # 最大值\n",
    "print(b[1])  # index"
   ]
  },
  {
   "cell_type": "code",
   "execution_count": 161,
   "metadata": {},
   "outputs": [
    {
     "name": "stdout",
     "output_type": "stream",
     "text": [
      "tensor([[3.],\n",
      "        [6.],\n",
      "        [9.]])\n",
      "tensor([[2],\n",
      "        [2],\n",
      "        [2]])\n",
      "tensor([2, 2, 2])\n",
      "tensor([3., 6., 9.])\n"
     ]
    }
   ],
   "source": [
    "anch_ious=torch.Tensor([[1,2,3],[4,5,6],[7,8,9]])\n",
    "\n",
    "b=torch.max(anch_ious, 1, keepdim=True)   # 保持原形状\n",
    "print(b[0])\n",
    "print(b[1])\n",
    "\n",
    "b=b[1].squeeze(1)\n",
    "print(b)\n",
    "print(anch_ious[list(range(anch_ious.size(0))),b])"
   ]
  },
  {
   "cell_type": "markdown",
   "metadata": {},
   "source": [
    "##### 矩阵形状\n",
    "\n",
    "—— *.squeeze()：保持原元素，消去维度为1的维度；对二维矩阵没有影响\n",
    "\n",
    "—— *.unsqueeze(n)：在第n维度增加1个维度"
   ]
  },
  {
   "cell_type": "code",
   "execution_count": 19,
   "metadata": {},
   "outputs": [
    {
     "name": "stdout",
     "output_type": "stream",
     "text": [
      "torch.Size([3, 1, 2])\n",
      "tensor([[[0.7216, 0.1696]],\n",
      "\n",
      "        [[0.3087, 0.7559]],\n",
      "\n",
      "        [[0.6273, 0.2395]]])\n"
     ]
    }
   ],
   "source": [
    "a = torch.rand([3,1,2])\n",
    "print(a.size())\n",
    "print(a)"
   ]
  },
  {
   "cell_type": "code",
   "execution_count": 20,
   "metadata": {},
   "outputs": [
    {
     "name": "stdout",
     "output_type": "stream",
     "text": [
      "torch.Size([3, 2])\n",
      "tensor([[0.7216, 0.1696],\n",
      "        [0.3087, 0.7559],\n",
      "        [0.6273, 0.2395]])\n"
     ]
    }
   ],
   "source": [
    "a2 = a.squeeze()\n",
    "print(a2.size())\n",
    "print(a2)"
   ]
  },
  {
   "cell_type": "code",
   "execution_count": 25,
   "metadata": {},
   "outputs": [
    {
     "name": "stdout",
     "output_type": "stream",
     "text": [
      "torch.Size([3, 1, 1, 2])\n",
      "tensor([[[[0.7216, 0.1696]]],\n",
      "\n",
      "\n",
      "        [[[0.3087, 0.7559]]],\n",
      "\n",
      "\n",
      "        [[[0.6273, 0.2395]]]])\n"
     ]
    }
   ],
   "source": [
    "a3 = a.unsqueeze(1)\n",
    "print(a3.size())\n",
    "print(a3)"
   ]
  },
  {
   "cell_type": "markdown",
   "metadata": {
    "collapsed": true
   },
   "source": [
    "##### 数据与梯度\n",
    "\n",
    "—— requires_grad = True时，表示声明的是梯度。必须浮点型数据才可以使用梯度\n",
    "\n",
    "—— *.backward.()：使用链式法则反向求导，如果对非标量*求导，函数需要额外指定grad_tensors，grad_tensors的shape必须和*的相同\n",
    "\n",
    "    grad_fn:表示获取方式\n",
    "\n",
    "—— *.grad：获取梯度\n",
    "\n",
    "—— *.data：获取数据"
   ]
  },
  {
   "cell_type": "code",
   "execution_count": 63,
   "metadata": {},
   "outputs": [
    {
     "name": "stdout",
     "output_type": "stream",
     "text": [
      "tensor([16.], requires_grad=True)\n",
      "tensor([16.])\n",
      "tensor([32.])\n"
     ]
    }
   ],
   "source": [
    "# 案例一\n",
    "x = torch.tensor([16.0],requires_grad=True)\n",
    "print(x)   # 具有梯度的x\n",
    "print(x.data)   # 没有梯度的x.data\n",
    "y=x**2\n",
    "y.backward()\n",
    "print(x.grad)"
   ]
  },
  {
   "cell_type": "code",
   "execution_count": 62,
   "metadata": {},
   "outputs": [
    {
     "name": "stdout",
     "output_type": "stream",
     "text": [
      "tensor([[2., 2.],\n",
      "        [2., 2.]])\n",
      "tensor(2., grad_fn=<MeanBackward1>)\n",
      "tensor([[0.5000, 0.5000],\n",
      "        [0.5000, 0.5000]])\n"
     ]
    }
   ],
   "source": [
    "# 案例二\n",
    "x = torch.ones(2,2,requires_grad=True)\n",
    "y = x*2\n",
    "print(y)\n",
    "z = y.mean()   # z=1\\4（yy1+yy2+yy3+yy4）\n",
    "print(z)\n",
    "z.backward()   # 对z求x的偏导\n",
    "print(x.grad)   # 梯度 = 偏导*z"
   ]
  },
  {
   "cell_type": "markdown",
   "metadata": {
    "collapsed": true
   },
   "source": [
    "—— .view() 和 .reshape()"
   ]
  },
  {
   "cell_type": "code",
   "execution_count": 66,
   "metadata": {},
   "outputs": [
    {
     "name": "stdout",
     "output_type": "stream",
     "text": [
      "b [[[0 1]\n",
      "  [2 3]]\n",
      "\n",
      " [[4 5]\n",
      "  [6 7]]]\n",
      "c tensor([[[0, 1],\n",
      "         [2, 3]],\n",
      "\n",
      "        [[4, 5],\n",
      "         [6, 7]]], dtype=torch.int32)\n"
     ]
    }
   ],
   "source": [
    "a = np.arange(8)\n",
    "b = a.reshape(2,2,2)\n",
    "print('b', b)\n",
    "\n",
    "b = torch.tensor(a)\n",
    "c = b.view(2,2,2)\n",
    "print('c',c)"
   ]
  },
  {
   "cell_type": "code",
   "execution_count": null,
   "metadata": {
    "collapsed": true
   },
   "outputs": [],
   "source": []
  }
 ],
 "metadata": {
  "kernelspec": {
   "display_name": "Python 3",
   "language": "python",
   "name": "python3"
  },
  "language_info": {
   "codemirror_mode": {
    "name": "ipython",
    "version": 3
   },
   "file_extension": ".py",
   "mimetype": "text/x-python",
   "name": "python",
   "nbconvert_exporter": "python",
   "pygments_lexer": "ipython3",
   "version": "3.6.2"
  }
 },
 "nbformat": 4,
 "nbformat_minor": 2
}
