{
 "cells": [
  {
   "cell_type": "code",
   "execution_count": 3,
   "metadata": {
    "collapsed": true
   },
   "outputs": [],
   "source": [
    "import torch\n",
    "from torch.autograd import Variable\n",
    "from torch.nn import functional"
   ]
  },
  {
   "cell_type": "markdown",
   "metadata": {},
   "source": [
    "##### 1、生成数据"
   ]
  },
  {
   "cell_type": "code",
   "execution_count": 4,
   "metadata": {
    "collapsed": true
   },
   "outputs": [],
   "source": [
    "data_num = 100\n",
    "x = torch.unsqueeze(torch.linspace(-1,1,data_num), dim=1)\n",
    "y0 = torch.zeros(50) \n",
    "y1 = torch.ones(50)\n",
    "y = torch.cat((y0, y1), ).type(torch.LongTensor)"
   ]
  },
  {
   "cell_type": "markdown",
   "metadata": {},
   "source": [
    "##### 2、构架快速训练模块Sequential（使用第二种方式来构建这个深度模型）\n",
    "—— torch.nn.Sequential()：所有的网络结构及其forward都建立在Sequential中\n",
    "\n",
    "该方法只是在网络构造的时候不同，使用的时候还是一样的"
   ]
  },
  {
   "cell_type": "code",
   "execution_count": 5,
   "metadata": {},
   "outputs": [
    {
     "name": "stdout",
     "output_type": "stream",
     "text": [
      "Sequential(\n",
      "  (0): Linear(in_features=1, out_features=10, bias=True)\n",
      "  (1): ReLU()\n",
      "  (2): Linear(in_features=10, out_features=2, bias=True)\n",
      ")\n"
     ]
    }
   ],
   "source": [
    "mynet = torch.nn.Sequential(\n",
    "    torch.nn.Linear(1, 10),   # 注意，以，相隔 ★\n",
    "    torch.nn.ReLU(),\n",
    "    torch.nn.Linear(10, 2)\n",
    ")\n",
    "print(mynet)"
   ]
  },
  {
   "cell_type": "markdown",
   "metadata": {},
   "source": [
    "##### 3、模型训练"
   ]
  },
  {
   "cell_type": "code",
   "execution_count": 3,
   "metadata": {
    "collapsed": true
   },
   "outputs": [],
   "source": [
    "# 定义分类精度评估函数\n",
    "def get_acc(labels, outputs):\n",
    "    _, predicted = torch.max(outputs.data, 1)\n",
    "    data_num = y.shape[0]*1.0\n",
    "    #item() to get a Python number from a tensor containing a single value:\n",
    "    correct_num = (predicted == labels).sum().item()\n",
    "    accuracy = correct_num/data_num\n",
    "    return accuracy"
   ]
  },
  {
   "cell_type": "code",
   "execution_count": null,
   "metadata": {
    "collapsed": true
   },
   "outputs": [],
   "source": [
    "optimizer = torch.optim.SGD(mynet.parameters(), lr=0.01)\n",
    "loss_func = torch.nn.CrossEntropyLoss()\n",
    "\n",
    "for t in range(1000):\n",
    "    out = mynet(x)\n",
    "    loss = loss_func(out, y)\n",
    "    optimizer.zero_grad()\n",
    "    loss.backward()\n",
    "    optimizer.step()\n",
    "\n",
    "    if t % 10 == 0:\n",
    "        acc = get_acc(y, out)\n",
    "        print('acc is:', acc)"
   ]
  },
  {
   "cell_type": "code",
   "execution_count": null,
   "metadata": {
    "collapsed": true
   },
   "outputs": [],
   "source": []
  }
 ],
 "metadata": {
  "kernelspec": {
   "display_name": "Python 3",
   "language": "python",
   "name": "python3"
  },
  "language_info": {
   "codemirror_mode": {
    "name": "ipython",
    "version": 3
   },
   "file_extension": ".py",
   "mimetype": "text/x-python",
   "name": "python",
   "nbconvert_exporter": "python",
   "pygments_lexer": "ipython3",
   "version": "3.6.2"
  }
 },
 "nbformat": 4,
 "nbformat_minor": 2
}
