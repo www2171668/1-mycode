{
 "cells": [
  {
   "cell_type": "code",
   "execution_count": 5,
   "metadata": {
    "collapsed": true
   },
   "outputs": [],
   "source": [
    "import torch\n",
    "from torch.autograd import Variable\n",
    "from torch.nn import functional"
   ]
  },
  {
   "cell_type": "markdown",
   "metadata": {},
   "source": [
    "##### 1、构建训练数据"
   ]
  },
  {
   "cell_type": "code",
   "execution_count": 6,
   "metadata": {
    "collapsed": true
   },
   "outputs": [],
   "source": [
    "data_num = 100\n",
    "x = torch.unsqueeze(torch.linspace(-1,1,data_num), dim=1)\n",
    "y0 = torch.zeros(50) \n",
    "y1 = torch.ones(50)\n",
    "y = torch.cat((y0, y1), ).type(torch.LongTensor)"
   ]
  },
  {
   "cell_type": "code",
   "execution_count": 7,
   "metadata": {
    "collapsed": true
   },
   "outputs": [],
   "source": [
    "def get_acc(labels, outputs):\n",
    "    '''get_acc: Get the classification accuracy\n",
    "        Inputs: labels: the ground truth; \n",
    "                outputs: the predicted labels of a DNN \n",
    "        Outputs: the accuracy \n",
    "    '''\n",
    "    _, predicted = torch.max(outputs.data, 1)\n",
    "    data_num = y.shape[0]*1.0\n",
    "    #item() to get a Python number from a tensor containing a single value:\n",
    "    correct_num = (predicted == labels).sum().item()\n",
    "    accuracy = correct_num/data_num\n",
    "    return accuracy"
   ]
  },
  {
   "cell_type": "markdown",
   "metadata": {},
   "source": [
    "## （一）保存网络模型\n",
    "—— torch.save(net,保存名称)"
   ]
  },
  {
   "cell_type": "code",
   "execution_count": 8,
   "metadata": {
    "collapsed": true
   },
   "outputs": [],
   "source": [
    "def save():\n",
    "    # 2、构建网络\n",
    "    mynet = torch.nn.Sequential(\n",
    "        torch.nn.Linear(1, 10),\n",
    "        torch.nn.ReLU(),\n",
    "        torch.nn.Linear(10, 2)\n",
    "    )\n",
    "\n",
    "    # 3、设置网络参数\n",
    "    optimizer = torch.optim.SGD(mynet.parameters(), lr=0.01)\n",
    "    loss_func = torch.nn.CrossEntropyLoss()\n",
    "\n",
    "    # 4、模型训练\n",
    "    for t in range(1000):\n",
    "        out = mynet(x)\n",
    "        loss = loss_func(out, y)\n",
    "        optimizer.zero_grad()\n",
    "        loss.backward()\n",
    "        optimizer.step()\n",
    "\n",
    "        if t % 100 == 0:\n",
    "            acc = get_acc(y, out)\n",
    "            print('acc is:', acc)\n",
    "    \n",
    "    torch.save(mynet, 'net.pkl' )  # 保存训练好的网咯"
   ]
  },
  {
   "cell_type": "code",
   "execution_count": 9,
   "metadata": {},
   "outputs": [
    {
     "name": "stdout",
     "output_type": "stream",
     "text": [
      "acc is: 0.5\n",
      "acc is: 0.94\n",
      "acc is: 0.97\n",
      "acc is: 0.98\n",
      "acc is: 0.99\n",
      "acc is: 0.99\n",
      "acc is: 0.99\n",
      "acc is: 1.0\n",
      "acc is: 1.0\n",
      "acc is: 1.0\n"
     ]
    }
   ],
   "source": [
    "save() # ①、训练 + 保存训练好的网络"
   ]
  },
  {
   "cell_type": "markdown",
   "metadata": {},
   "source": [
    "## （二）恢复网络模型\n",
    "—— torch.load(名称)"
   ]
  },
  {
   "cell_type": "code",
   "execution_count": 21,
   "metadata": {
    "collapsed": true
   },
   "outputs": [],
   "source": [
    "def restore_net():\n",
    "    loaded_net = torch.load('net.pkl')   # 加载一个训练好的DNN，并测试其准确性\n",
    "    return loaded_net"
   ]
  },
  {
   "cell_type": "markdown",
   "metadata": {},
   "source": [
    "##### 2、利用加载的模型运行程序"
   ]
  },
  {
   "cell_type": "code",
   "execution_count": 22,
   "metadata": {},
   "outputs": [
    {
     "name": "stdout",
     "output_type": "stream",
     "text": [
      "Sequential(\n",
      "  (0): Linear(in_features=1, out_features=10, bias=True)\n",
      "  (1): ReLU()\n",
      "  (2): Linear(in_features=10, out_features=2, bias=True)\n",
      ")\n",
      "准确率: 1.0\n"
     ]
    }
   ],
   "source": [
    "net = restore_net() # ②、直接读取训练好的网络\n",
    "print(net)\n",
    "\n",
    "out = net(x)\n",
    "acc = get_acc(y, out)\n",
    "print('准确率:', acc)"
   ]
  },
  {
   "cell_type": "code",
   "execution_count": null,
   "metadata": {
    "collapsed": true
   },
   "outputs": [],
   "source": []
  }
 ],
 "metadata": {
  "kernelspec": {
   "display_name": "Python 3",
   "language": "python",
   "name": "python3"
  },
  "language_info": {
   "codemirror_mode": {
    "name": "ipython",
    "version": 3
   },
   "file_extension": ".py",
   "mimetype": "text/x-python",
   "name": "python",
   "nbconvert_exporter": "python",
   "pygments_lexer": "ipython3",
   "version": "3.6.2"
  }
 },
 "nbformat": 4,
 "nbformat_minor": 2
}
