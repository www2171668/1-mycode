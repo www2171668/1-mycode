{
 "cells": [
  {
   "cell_type": "code",
   "execution_count": 2,
   "metadata": {},
   "outputs": [],
   "source": [
    "import numpy as np\n",
    "import pandas as pd\n",
    "\n",
    "import matplotlib as mpl\n",
    "import matplotlib.pyplot as plt\n",
    "\n",
    "import warnings\n",
    "\n",
    "from sklearn import svm  # svm导入\n",
    "from sklearn.model_selection import train_test_split\n",
    "from sklearn.metrics import accuracy_score\n",
    "from sklearn.exceptions import ChangedBehaviorWarning"
   ]
  },
  {
   "cell_type": "code",
   "execution_count": 3,
   "metadata": {},
   "outputs": [],
   "source": [
    "## 设置属性防止中文乱码\n",
    "mpl.rcParams['font.sans-serif'] = [u'SimHei']\n",
    "mpl.rcParams['axes.unicode_minus'] = False\n",
    "\n",
    "warnings.filterwarnings('ignore', category=ChangedBehaviorWarning)"
   ]
  },
  {
   "cell_type": "markdown",
   "metadata": {},
   "source": [
    "##### 1、读取数据"
   ]
  },
  {
   "cell_type": "code",
   "execution_count": 4,
   "metadata": {},
   "outputs": [],
   "source": [
    "# 'sepal length', 'sepal width', 'petal length', 'petal width'\n",
    "iris_feature = u'花萼长度', u'花萼宽度', u'花瓣长度', u'花瓣宽度'\n",
    "path = './datas/iris.data'  # 数据文件路径\n",
    "data = pd.read_csv(path, header=None)"
   ]
  },
  {
   "cell_type": "markdown",
   "metadata": {},
   "source": [
    "##### 2、数据处理+数据分割"
   ]
  },
  {
   "cell_type": "code",
   "execution_count": 5,
   "metadata": {},
   "outputs": [
    {
     "name": "stderr",
     "output_type": "stream",
     "text": [
      "C:\\4_IT\\Anaconda\\lib\\site-packages\\sklearn\\model_selection\\_split.py:2179: FutureWarning: From version 0.21, test_size will always complement train_size unless both are specified.\n",
      "  FutureWarning)\n"
     ]
    }
   ],
   "source": [
    "x, y = data[list(range(4))], data[4]\n",
    "y = pd.Categorical(y).codes  # 转换编码\n",
    "x = x[[0, 1]]\n",
    "\n",
    "# 数据分割\n",
    "x_train, x_test, y_train, y_test = train_test_split(x, y, random_state=0, train_size=0.8)"
   ]
  },
  {
   "cell_type": "markdown",
   "metadata": {},
   "source": [
    "##### 3、SVM分类器模型构建 + 模型训练 + 评估 + 预测"
   ]
  },
  {
   "cell_type": "markdown",
   "metadata": {},
   "source": [
    "—— svm.SVC(C,kernel.gamma,...)\n",
    "#C: 误差项的惩罚系数，默认为1.0；C越大表示在训练过程中对于总误差的关注度越高，即对于训练集的表现会越好，但是有可能引发过度拟合的问题\n",
    "#kernel：指定SVM内部函数的类型，可选值：linear、poly、rbf、sigmoid；默认是rbf；\n",
    "#degree：当使用多项式函数poly作为svm内部的函数的时候，需要给定多项式的项数，默认为3\n",
    "#gamma：当SVM内部使用poly、rbf、sigmoid的时候，核函数的系数值，即公式中的gamma。当默认值为auto的时候，实际系数为1/n_features\n",
    "#coef0: 当核函数为poly或者sigmoid的时候，给定的独立系数，默认为0\n",
    "#probability：是否启用概率估计，默认不启动，不太建议启动\n",
    "#shrinking：是否开启收缩启发式计算，默认为True\n",
    "#tol: 模型构建收敛参数，当模型的的误差变化率小于该值的时候，结束模型构建过程，默认值:1e-3\n",
    "#cache_size：在模型构建过程中，缓存数据的最大内存大小，默认为空，单位MB\n",
    "#class_weight：给定各个类别的权重，默认为空\n",
    "#max_iter：最大迭代次数，默认-1表示不限制\n",
    "#decision_function_shape: 决策函数，可选值：ovo和ovr，默认为None；推荐使用ovr；"
   ]
  },
  {
   "cell_type": "code",
   "execution_count": 6,
   "metadata": {},
   "outputs": [
    {
     "data": {
      "text/plain": [
       "SVC(C=1, cache_size=200, class_weight=None, coef0=0.0,\n",
       "  decision_function_shape='ovr', degree=3, gamma=0.1, kernel='rbf',\n",
       "  max_iter=-1, probability=False, random_state=None, shrinking=True,\n",
       "  tol=0.001, verbose=False)"
      ]
     },
     "execution_count": 6,
     "metadata": {},
     "output_type": "execute_result"
    }
   ],
   "source": [
    "clf = svm.SVC(C=1,kernel='rbf',gamma=0.1)\n",
    "#gamma值越大，训练集的拟合就越好，但是会造成过拟合，导致测试集拟合变差\n",
    "#gamma值越小，模型的泛化能力越好，训练集和测试集的拟合相近，但是会导致训练集出现欠拟合问题，从而，准确率变低，导致测试集准确率也变低。\n",
    "## 模型训练\n",
    "clf.fit(x_train, y_train)"
   ]
  },
  {
   "cell_type": "markdown",
   "metadata": {},
   "source": [
    "—— clf.score(x,y) 准确率，返回给定测试数据和标签的平均准确度。\n",
    "\n",
    "—— accuracy_score(y,predict(x)) 分类准确率，返回正确分类的百分比。\n",
    "\n",
    "—— clf.decision_function 计算样本x到各个分割平面的距离(即决策函数的值)"
   ]
  },
  {
   "cell_type": "code",
   "execution_count": 7,
   "metadata": {},
   "outputs": [
    {
     "name": "stdout",
     "output_type": "stream",
     "text": [
      "0.85\n",
      "训练集准确率： 0.85\n",
      "0.7333333333333333\n",
      "测试集准确率： 0.7333333333333333\n",
      "decision_function:\n",
      " [[-0.25039727  1.0886331   2.16176417]\n",
      " [ 1.03478736  2.11650098 -0.15128834]\n",
      " [ 2.23214438  1.00598335 -0.23812773]\n",
      " [-0.19163546  2.1175139   1.07412155]\n",
      " [-0.32152579  1.14496276  2.17656303]\n",
      " [ 1.02173467  2.16988825 -0.19162293]\n",
      " [ 2.14580325  0.95677746 -0.10258071]\n",
      " [-0.23566638  2.17796366  1.05770273]\n",
      " [-0.13008471  2.12075927  1.00932543]\n",
      " [-0.19844194  2.1995431   0.99889884]\n",
      " [-0.36343522  1.08701831  2.27641692]\n",
      " [ 2.30535715  1.04393285 -0.34929   ]\n",
      " [-0.35915878  1.06384614  2.29531264]\n",
      " [ 2.29333629  0.99860275 -0.29193904]\n",
      " [ 2.21795456  0.97111601 -0.18907056]\n",
      " [ 0.92054508  2.2724345  -0.19297958]\n",
      " [-0.2997012   1.10328323  2.19641797]\n",
      " [-0.2730624   1.03890272  2.23415968]\n",
      " [-0.33839217  2.26132199  1.07707018]\n",
      " [-0.44273262  1.17653689  2.26619573]\n",
      " [-0.15877661  2.21746358  0.94131303]\n",
      " [-0.44724083  1.02472152  2.42251931]\n",
      " [-0.17202518  1.05287918  2.119146  ]\n",
      " [-0.14988387  2.23343312  0.91645074]\n",
      " [-0.31861821  1.16774019  2.15087802]\n",
      " [-0.29622421  1.14950193  2.14672228]\n",
      " [ 1.0664275   2.1904298  -0.2568573 ]\n",
      " [-0.35991183  1.20227659  2.15763525]\n",
      " [-0.35330602  1.04124945  2.31205657]\n",
      " [-0.2997012   1.10328323  2.19641797]\n",
      " [-0.05522314  2.03779287  1.01743027]\n",
      " [ 2.25203496  1.06973396 -0.32176891]\n",
      " [-0.17449621  2.18085941  0.9936368 ]\n",
      " [-0.11021164  2.18046075  0.92975089]\n",
      " [-0.05865155  2.14084287  0.91780868]\n",
      " [-0.12662311  2.21612151  0.9105016 ]\n",
      " [-0.19163546  2.1175139   1.07412155]\n",
      " [-0.38070881  1.0296007   2.35110811]\n",
      " [ 2.24957743  0.96861839 -0.21819582]\n",
      " [ 2.35477694  1.05478502 -0.40956196]\n",
      " [-0.34332437  1.16288782  2.18043655]\n",
      " [-0.06527735  2.12119172  0.94408563]\n",
      " [ 2.14185505  1.03254567 -0.17440072]\n",
      " [ 2.27389225  0.85571723 -0.12960948]\n",
      " [-0.35915878  1.06384614  2.29531264]\n",
      " [ 2.30724951  1.05732668 -0.3645762 ]\n",
      " [-0.13008471  2.12075927  1.00932543]\n",
      " [ 1.00329378  2.20214884 -0.20544262]\n",
      " [ 2.37889994  0.99914274 -0.37804268]\n",
      " [-0.38865303  2.25320429  1.13544874]\n",
      " [-0.29145938  0.96854255  2.32291684]\n",
      " [-0.09164014  2.14161983  0.95002031]\n",
      " [ 2.22623117  1.08968182 -0.31591299]\n",
      " [-0.4096892   1.06746523  2.34222397]\n",
      " [-0.33660296  1.0467762   2.28982676]\n",
      " [-0.2997012   1.10328323  2.19641797]\n",
      " [-0.32152579  1.14496276  2.17656303]\n",
      " [ 2.33278328  0.94341849 -0.27620177]\n",
      " [ 2.32663406  1.00960575 -0.33623981]\n",
      " [-0.25094655  1.06568299  2.18526357]\n",
      " [-0.2730624   1.03890272  2.23415968]\n",
      " [ 2.13304331  1.19108118 -0.32412449]\n",
      " [-0.11663626  1.03526731  2.08136896]\n",
      " [ 2.19635991  1.09554303 -0.29190293]\n",
      " [-0.19042462  2.21791314  0.97251148]\n",
      " [-0.35915878  1.06384614  2.29531264]\n",
      " [ 2.37987847  1.02502782 -0.40490629]\n",
      " [ 2.31697854  0.97865204 -0.29563057]\n",
      " [-0.42101983  1.06048387  2.36053596]\n",
      " [ 2.26321395  1.00248244 -0.26569639]\n",
      " [ 2.3322641   1.06231608 -0.39458018]\n",
      " [ 2.2645061   0.93262533 -0.19713143]\n",
      " [-0.17206568  2.24979256  0.92227312]\n",
      " [-0.31794906  1.05203355  2.2659155 ]\n",
      " [-0.44593685  1.03180134  2.41413551]\n",
      " [ 2.26321395  1.00248244 -0.26569639]\n",
      " [ 2.22247594  1.07534695 -0.29782289]\n",
      " [ 2.20680036  1.02662003 -0.23342039]\n",
      " [-0.11748127  2.16161947  0.9558618 ]\n",
      " [-0.32277435  1.09831759  2.22445676]\n",
      " [ 2.21795026  1.05994599 -0.27789625]\n",
      " [ 2.21270515  1.04364305 -0.2563482 ]\n",
      " [-0.2986835   1.12654041  2.17214309]\n",
      " [ 2.14185505  1.03254567 -0.17440072]\n",
      " [-0.5         1.07338601  2.42661399]\n",
      " [ 1.0415998   2.20742886 -0.24902865]\n",
      " [-0.30569708  0.92274296  2.38295412]\n",
      " [-0.32111039  1.07499685  2.24611354]\n",
      " [ 2.36439692  0.89257767 -0.25697458]\n",
      " [-0.1613555   2.11948124  1.04187426]\n",
      " [ 2.161655    0.92086513 -0.08252013]\n",
      " [-0.47608835  1.04954709  2.42654126]\n",
      " [ 2.33278328  0.94341849 -0.27620177]\n",
      " [ 2.30535715  1.04393285 -0.34929   ]\n",
      " [-0.47075253  1.07424442  2.39650811]\n",
      " [ 2.24367895  1.03936622 -0.28304517]\n",
      " [-0.14575094  1.03325696  2.11249398]\n",
      " [-0.11748127  2.16161947  0.9558618 ]\n",
      " [-0.17449621  2.18085941  0.9936368 ]\n",
      " [-0.16701198  2.19987473  0.96713725]\n",
      " [-0.22523374  1.06936924  2.1558645 ]\n",
      " [-0.34404723  1.09287868  2.25116855]\n",
      " [-0.35991183  1.20227659  2.15763525]\n",
      " [-0.34404723  1.09287868  2.25116855]\n",
      " [ 2.16544172  1.10090524 -0.26634696]\n",
      " [-0.14988387  2.23343312  0.91645074]\n",
      " [-0.32111039  1.07499685  2.24611354]\n",
      " [-0.17449621  2.18085941  0.9936368 ]\n",
      " [ 2.23827935  1.02296045 -0.2612398 ]\n",
      " [-0.34541291  1.11637043  2.22904248]\n",
      " [ 0.96788879  2.12033521 -0.088224  ]\n",
      " [-0.07704422  2.07965201  0.99739221]\n",
      " [-0.3958175   1.23359604  2.16222145]\n",
      " [ 2.13504156  1.01391343 -0.14895499]\n",
      " [ 2.31059852  0.96260146 -0.27319998]\n",
      " [ 2.22247594  1.07534695 -0.29782289]\n",
      " [-0.27283046  1.13075432  2.14207614]\n",
      " [-0.17449621  2.18085941  0.9936368 ]\n",
      " [-0.29717239  0.92710063  2.37007176]\n",
      " [ 2.33180515  1.03788212 -0.36968728]]\n",
      "\n",
      "predict:\n",
      " [2 1 0 1 2 1 0 1 1 1 2 0 2 0 0 1 2 2 1 2 1 2 2 1 2 2 1 2 2 2 1 0 1 1 1 1 1\n",
      " 2 0 0 2 1 0 0 2 0 1 1 0 1 2 1 0 2 2 2 2 0 0 2 2 0 2 0 1 2 0 0 2 0 0 0 1 2\n",
      " 2 0 0 0 1 2 0 0 2 0 2 1 2 2 0 1 0 2 0 0 2 0 2 1 1 1 2 2 2 2 0 1 2 1 0 2 1\n",
      " 1 2 0 0 0 2 1 2 0]\n"
     ]
    }
   ],
   "source": [
    "# 计算模型的准确率/精度\n",
    "print (clf.score(x_train, y_train)) \n",
    "print ('训练集准确率：', accuracy_score(y_train, clf.predict(x_train)))\n",
    "print (clf.score(x_test, y_test))\n",
    "print ('测试集准确率：', accuracy_score(y_test, clf.predict(x_test)))\n",
    "\n",
    "# 计算决策函数的值以及预测值\n",
    "print ('decision_function:\\n', clf.decision_function(x_train))\n",
    "print ('\\npredict:\\n', clf.predict(x_train))"
   ]
  },
  {
   "cell_type": "code",
   "execution_count": 29,
   "metadata": {
    "scrolled": false
   },
   "outputs": [],
   "source": [
    "N = 500\n",
    "x1_min, x2_min = x.min()\n",
    "x1_max, x2_max = x.max()\n",
    "\n",
    "t1 = np.linspace(x1_min, x1_max, N)\n",
    "t2 = np.linspace(x2_min, x2_max, N)\n",
    "x1, x2 = np.meshgrid(t1, t2)  # 生成网格采样点\n",
    "grid_show = np.dstack((x1.flat, x2.flat))[0] # 测试点\n",
    "\n",
    "grid_hat = clf.predict(grid_show)       # 预测分类值\n",
    "grid_hat = grid_hat.reshape(x1.shape)  # 使之与输入的形状相同"
   ]
  },
  {
   "cell_type": "code",
   "execution_count": 33,
   "metadata": {},
   "outputs": [
    {
     "data": {
      "image/png": "[encoded data removed]",
      "text/plain": [
       "<Figure size 432x288 with 1 Axes>"
      ]
     },
     "metadata": {},
     "output_type": "display_data"
    }
   ],
   "source": [
    "cm_light = mpl.colors.ListedColormap(['#00FFCC', '#FFA0A0', '#A0A0FF'])\n",
    "cm_dark = mpl.colors.ListedColormap(['g', 'r', 'b'])\n",
    "plt.figure(facecolor='w')\n",
    "\n",
    "plt.pcolormesh(x1, x2, grid_hat, cmap=cm_light)   # 区域图，分类底色\n",
    "plt.scatter(x_train[0], x_train[1], c=y_train, s=50, edgecolors='k', cmap=cm_dark)   # 训练集样本点\n",
    "\n",
    "plt.scatter(x_test[0], x_test[1], c=y_test, s=150, edgecolors='k',cmap=cm_dark, zorder=10, marker='*')   # 测试集样本点\n",
    "\n",
    "plt.xlabel(iris_feature[0], fontsize=13)\n",
    "plt.ylabel(iris_feature[1], fontsize=13)\n",
    "plt.xlim(x1_min, x1_max)\n",
    "plt.ylim(x2_min, x2_max)\n",
    "plt.title(u'鸢尾花SVM特征分类', fontsize=16)\n",
    "plt.grid(b=True, ls=':')\n",
    "plt.tight_layout(pad=1.5)\n",
    "plt.show()"
   ]
  },
  {
   "cell_type": "code",
   "execution_count": null,
   "metadata": {},
   "outputs": [],
   "source": []
  }
 ],
 "metadata": {
  "kernelspec": {
   "display_name": "Python 3",
   "language": "python",
   "name": "python3"
  },
  "language_info": {
   "codemirror_mode": {
    "name": "ipython",
    "version": 3
   },
   "file_extension": ".py",
   "mimetype": "text/x-python",
   "name": "python",
   "nbconvert_exporter": "python",
   "pygments_lexer": "ipython3",
   "version": "3.7.1"
  }
 },
 "nbformat": 4,
 "nbformat_minor": 1
}
