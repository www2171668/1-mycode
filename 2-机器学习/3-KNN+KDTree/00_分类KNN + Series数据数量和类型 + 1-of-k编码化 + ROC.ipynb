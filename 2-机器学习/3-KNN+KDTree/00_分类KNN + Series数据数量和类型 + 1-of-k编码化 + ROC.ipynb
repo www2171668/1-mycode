{
 "cells": [
  {
   "cell_type": "code",
   "execution_count": 1,
   "metadata": {
    "collapsed": true
   },
   "outputs": [],
   "source": [
    "import numpy as np\n",
    "import pandas as pd\n",
    "import matplotlib as mpl\n",
    "import matplotlib.pyplot as plt\n",
    "\n",
    "import warnings\n",
    "from sklearn.linear_model.coordinate_descent import ConvergenceWarning\n",
    "\n",
    "from sklearn.model_selection import train_test_split\n",
    "\n",
    "import sklearn\n",
    "from sklearn.linear_model import LogisticRegressionCV\n",
    "from sklearn.neighbors import KNeighborsClassifier\n",
    "\n",
    "from sklearn.preprocessing import label_binarize\n",
    "from sklearn import metrics"
   ]
  },
  {
   "cell_type": "code",
   "execution_count": 2,
   "metadata": {
    "collapsed": true
   },
   "outputs": [],
   "source": [
    "## 设置字符集，防止中文乱码\n",
    "mpl.rcParams['font.sans-serif']=[u'simHei']\n",
    "mpl.rcParams['axes.unicode_minus']=False\n",
    "## 拦截异常\n",
    "warnings.filterwarnings(action = 'ignore', category=ConvergenceWarning)"
   ]
  },
  {
   "cell_type": "markdown",
   "metadata": {},
   "source": [
    "##### 1、数据加载"
   ]
  },
  {
   "cell_type": "code",
   "execution_count": 28,
   "metadata": {},
   "outputs": [
    {
     "data": {
      "text/html": [
       "<div>\n",
       "<style scoped>\n",
       "    .dataframe tbody tr th:only-of-type {\n",
       "        vertical-align: middle;\n",
       "    }\n",
       "\n",
       "    .dataframe tbody tr th {\n",
       "        vertical-align: top;\n",
       "    }\n",
       "\n",
       "    .dataframe thead th {\n",
       "        text-align: right;\n",
       "    }\n",
       "</style>\n",
       "<table border=\"1\" class=\"dataframe\">\n",
       "  <thead>\n",
       "    <tr style=\"text-align: right;\">\n",
       "      <th></th>\n",
       "      <th>sepal length</th>\n",
       "      <th>sepal width</th>\n",
       "      <th>petal length</th>\n",
       "      <th>petal width</th>\n",
       "      <th>cla</th>\n",
       "    </tr>\n",
       "  </thead>\n",
       "  <tbody>\n",
       "    <tr>\n",
       "      <th>0</th>\n",
       "      <td>5.1</td>\n",
       "      <td>3.5</td>\n",
       "      <td>1.4</td>\n",
       "      <td>0.2</td>\n",
       "      <td>Iris-setosa</td>\n",
       "    </tr>\n",
       "    <tr>\n",
       "      <th>1</th>\n",
       "      <td>4.9</td>\n",
       "      <td>3.0</td>\n",
       "      <td>1.4</td>\n",
       "      <td>0.2</td>\n",
       "      <td>Iris-setosa</td>\n",
       "    </tr>\n",
       "    <tr>\n",
       "      <th>2</th>\n",
       "      <td>4.7</td>\n",
       "      <td>3.2</td>\n",
       "      <td>1.3</td>\n",
       "      <td>0.2</td>\n",
       "      <td>Iris-setosa</td>\n",
       "    </tr>\n",
       "    <tr>\n",
       "      <th>3</th>\n",
       "      <td>4.6</td>\n",
       "      <td>3.1</td>\n",
       "      <td>1.5</td>\n",
       "      <td>0.2</td>\n",
       "      <td>Iris-setosa</td>\n",
       "    </tr>\n",
       "    <tr>\n",
       "      <th>4</th>\n",
       "      <td>5.0</td>\n",
       "      <td>3.6</td>\n",
       "      <td>1.4</td>\n",
       "      <td>0.2</td>\n",
       "      <td>Iris-setosa</td>\n",
       "    </tr>\n",
       "  </tbody>\n",
       "</table>\n",
       "</div>"
      ],
      "text/plain": [
       "   sepal length  sepal width  petal length  petal width          cla\n",
       "0           5.1          3.5           1.4          0.2  Iris-setosa\n",
       "1           4.9          3.0           1.4          0.2  Iris-setosa\n",
       "2           4.7          3.2           1.3          0.2  Iris-setosa\n",
       "3           4.6          3.1           1.5          0.2  Iris-setosa\n",
       "4           5.0          3.6           1.4          0.2  Iris-setosa"
      ]
     },
     "execution_count": 28,
     "metadata": {},
     "output_type": "execute_result"
    }
   ],
   "source": [
    "path = \"datas/iris.data\"\n",
    "names = ['sepal length', 'sepal width', 'petal length', 'petal width', 'cla']\n",
    "df = pd.read_csv(path, header=None, names=names)\n",
    "\n",
    "df.head()"
   ]
  },
  {
   "cell_type": "markdown",
   "metadata": {},
   "source": [
    "—— Series.value_counts 查看Series的数据类型及数量 ★"
   ]
  },
  {
   "cell_type": "code",
   "execution_count": 22,
   "metadata": {},
   "outputs": [
    {
     "data": {
      "text/plain": [
       "Iris-setosa        50\n",
       "Iris-versicolor    50\n",
       "Iris-virginica     50\n",
       "Name: cla, dtype: int64"
      ]
     },
     "execution_count": 22,
     "metadata": {},
     "output_type": "execute_result"
    }
   ],
   "source": [
    "df['cla'].value_counts()   # 查看 cla 数据类型及数量"
   ]
  },
  {
   "cell_type": "markdown",
   "metadata": {},
   "source": [
    "##### 2、数据处理 + 数据分割"
   ]
  },
  {
   "cell_type": "code",
   "execution_count": 86,
   "metadata": {},
   "outputs": [
    {
     "name": "stdout",
     "output_type": "stream",
     "text": [
      "原始数据条数:150；训练数据条数:90；特征个数:4；测试样本条数:60\n",
      "[2 1 0 2 0 2 0 1 1 1 2 1 1 1 1 0 1 1 0 0 2 1 0 0 2 0 0 1 1 0 2 1 0 2 2 1 0\n",
      " 1 1 1 2 0 2 0 0 1 2 2 2 2 1 2 1 1 2 2 2 2 1 2]\n"
     ]
    }
   ],
   "source": [
    "datas = df.dropna(how='any')\n",
    "X = datas[names[0:-1]]\n",
    "Y = datas[names[-1]]\n",
    "Y = pd.Categorical(Y).codes   # 1-of-k哑编码化\n",
    "\n",
    "X_train,X_test,Y_train,Y_test = train_test_split(X, Y, test_size=0.4, random_state=0)\n",
    "print (\"原始数据条数:%d；训练数据条数:%d；特征个数:%d；测试样本条数:%d\" % (len(X), len(X_train), X_train.shape[1], X_test.shape[0]))\n",
    "print(Y_test)"
   ]
  },
  {
   "cell_type": "markdown",
   "metadata": {},
   "source": [
    "##### 3、模型构建 + 训练 + 预测\n",
    "—— KNeighborsClassifier\n",
    "\n",
    "    -》n_neighbors 近邻数"
   ]
  },
  {
   "cell_type": "code",
   "execution_count": 87,
   "metadata": {
    "collapsed": true
   },
   "outputs": [],
   "source": [
    "knn = KNeighborsClassifier(n_neighbors=3)\n",
    "knn.fit(X_train, Y_train)\n",
    "\n",
    "y_predict = knn.predict(X_test)"
   ]
  },
  {
   "cell_type": "markdown",
   "metadata": {},
   "source": [
    "### 4 绘制ROC曲线 ★"
   ]
  },
  {
   "cell_type": "markdown",
   "metadata": {},
   "source": [
    "##### 4.1、预测标签概率\n",
    "—— model.predict_proba() 预测所属不同分类的概率 ★"
   ]
  },
  {
   "cell_type": "code",
   "execution_count": 88,
   "metadata": {},
   "outputs": [
    {
     "data": {
      "text/plain": [
       "array([[0., 0., 1.],\n",
       "       [0., 1., 0.],\n",
       "       [1., 0., 0.],\n",
       "       [0., 0., 1.],\n",
       "       [1., 0., 0.]])"
      ]
     },
     "execution_count": 88,
     "metadata": {},
     "output_type": "execute_result"
    }
   ],
   "source": [
    "y_predict_class = knn.predict_proba(X_test)   # 预测为1，2，3值的概率\n",
    "y_predict_class[0:5]"
   ]
  },
  {
   "cell_type": "markdown",
   "metadata": {},
   "source": [
    "##### 4.2、训练集标签\n",
    "—— label_binarize(Y,classes) 对标签进行1-of-k编码化，与classes匹配的X[i]值为1，否则为0\n",
    "\n",
    "    -》classes 匹配标签。对于 N*1 的Y\n",
    "    ①、如果classes只有两个数，如(0,1)，Y在标签化后仍是 N*1 ；\n",
    "    ②、当超过两个数字时，如(0,1,2)，会呈现 N*3 矩阵\n",
    "    \n",
    "    Z = np.array([1,0,2])\n",
    "    U = label_binarize(Z,classes=(0,1,2))\n",
    "    U"
   ]
  },
  {
   "cell_type": "code",
   "execution_count": 83,
   "metadata": {
    "scrolled": true
   },
   "outputs": [
    {
     "name": "stdout",
     "output_type": "stream",
     "text": [
      "[[0 0 1]\n",
      " [0 1 0]\n",
      " [1 0 0]\n",
      " [0 0 1]\n",
      " [1 0 0]]\n",
      "KNN算法R^2值： 0.9888888888888889\n",
      "KNN算法AUC值： 0.9700000000000001\n"
     ]
    }
   ],
   "source": [
    "y_test_class = label_binarize(Y_test,classes=(0,1,2))  # 判定将Y_test的 class 值\n",
    "print(y_test_class[0:5])"
   ]
  },
  {
   "cell_type": "markdown",
   "metadata": {},
   "source": [
    "##### 4.3、ROC曲线值 AUC\n",
    "—— metrics.roc_curve() 返回FPR值集合、TPR值集合、阈值thresholds集合\n",
    "\n",
    "    阈值：分类器的一个重要功能“概率输出”，即表示分类器认为某个样本具有多大的概率属于正样本（或负样本）。当测试样本属于正样本的概率大于或等于threshold时，我们认为它为正样本，否则为负样本。每次选取一个不同的threshold，可以得到一组FPR和TPR，即ROC曲线上的一点。将这些(FPR,TPR)对连接起来，就得到了ROC曲线。\n",
    "    不一定要得到每个测试样本是正样本的概率值，只要得到这个分类器对该测试样本的“评分值”即可（评分值并不一定在(0,1)区间）。评分越高，表示分类器越肯定地认为这个测试样本是正样本，而且同时使用各个评分值作为threshold。评分值也就是概率。 \n",
    "\n",
    "    ROC曲线的横坐标为false positive rate（FPR），纵坐标为true positive rate（TPR）\n",
    "\n",
    "—— metrics.auc(FPR,TPR) 计算AUC值，即ROC曲线下的面积"
   ]
  },
  {
   "cell_type": "code",
   "execution_count": 91,
   "metadata": {},
   "outputs": [
    {
     "name": "stdout",
     "output_type": "stream",
     "text": [
      "KNN算法R^2值： 0.9888888888888889\n",
      "KNN算法AUC值： 0.9700000000000001\n"
     ]
    }
   ],
   "source": [
    "knn_FPR, knn_TPR, knn_threasholds = metrics.roc_curve(y_test_class.ravel(),y_predict_class.ravel())\n",
    "knn_auc = metrics.auc(knn_FPR, knn_TPR)\n",
    "\n",
    "print (\"KNN算法R^2值：\", knn.score(X_train, Y_train))\n",
    "print (\"KNN算法AUC值：\", knn_auc)"
   ]
  },
  {
   "cell_type": "markdown",
   "metadata": {},
   "source": [
    "AUC = 1，是完美分类器，采用这个预测模型时，不管设定什么阈值都能得出完美预测。绝大多数预测的场合，不存在完美分类器。\n",
    "\n",
    "0.5 < AUC < 1，优于随机猜测。这个分类器（模型）妥善设定阈值的话，能有预测价值。\n",
    "\n",
    "AUC = 0.5，跟随机猜测一样（例：丢铜板），模型没有预测价值。"
   ]
  },
  {
   "cell_type": "markdown",
   "metadata": {},
   "source": [
    "##### 4.4、绘制ROC图形"
   ]
  },
  {
   "cell_type": "code",
   "execution_count": 84,
   "metadata": {},
   "outputs": [
    {
     "data": {
      "image/png": "[encoded data removed]",
      "text/plain": [
       "<Figure size 576x432 with 1 Axes>"
      ]
     },
     "metadata": {},
     "output_type": "display_data"
    }
   ],
   "source": [
    "plt.figure(figsize=(8, 6), facecolor='w')\n",
    "\n",
    "plt.plot((0,1),(0,1),c='#a0a0a0',lw=2,ls='--')   # 虚线\n",
    "plt.plot(knn_FPR,knn_TPR,c='g',lw=2,label='KNN算法,AUC=%.3f' % knn_auc)   # ROC曲线\n",
    "plt.legend(loc='lower right', fancybox=True, framealpha=0.8, fontsize=12)   # —— fancybox 标签框；framealpha 标签框透明度\n",
    "\n",
    "plt.xlim(-0.01, 1.02)\n",
    "plt.ylim(-0.01, 1.02)\n",
    "plt.xticks(np.arange(0, 1.1, 0.1))\n",
    "plt.yticks(np.arange(0, 1.1, 0.1))\n",
    "plt.xlabel('False Positive Rate(FPR)', fontsize=16)\n",
    "plt.ylabel('True Positive Rate(TPR)', fontsize=16)\n",
    "plt.grid(b=True, ls=':')\n",
    "plt.title('鸢尾花数据Logistic和KNN算法的ROC/AUC', fontsize=18)\n",
    "\n",
    "plt.show()"
   ]
  },
  {
   "cell_type": "markdown",
   "metadata": {},
   "source": [
    "##### 5、绘制预测结果图"
   ]
  },
  {
   "cell_type": "code",
   "execution_count": 85,
   "metadata": {
    "scrolled": false
   },
   "outputs": [
    {
     "data": {
      "image/png": "[encoded data removed]",
      "text/plain": [
       "<Figure size 864x648 with 1 Axes>"
      ]
     },
     "metadata": {},
     "output_type": "display_data"
    }
   ],
   "source": [
    "x_test_len = range(len(X_test))   # X轴转换\n",
    "plt.figure(figsize=(12, 9), facecolor='w')\n",
    "\n",
    "plt.plot(x_test_len, Y_test, 'ro',markersize = 6, zorder=3, label='真实值')\n",
    "plt.plot(x_test_len, y_predict, 'yo', markersize = 16, zorder=1, label='KNN算法预测值,$R^2$=%.3f' % knn.score(X_test, Y_test))\n",
    "plt.legend(loc = 'lower right')\n",
    "\n",
    "plt.ylim(0.5,3.5)\n",
    "plt.xlabel('数据编号', fontsize=18)\n",
    "plt.ylabel('种类', fontsize=18)\n",
    "plt.title('鸢尾花数据分类', fontsize=20)\n",
    "plt.show()\n"
   ]
  },
  {
   "cell_type": "code",
   "execution_count": null,
   "metadata": {
    "collapsed": true
   },
   "outputs": [],
   "source": []
  },
  {
   "cell_type": "markdown",
   "metadata": {},
   "source": [
    "### 数据处理：pd.Categorical().codes的实际意义"
   ]
  },
  {
   "cell_type": "code",
   "execution_count": 16,
   "metadata": {
    "collapsed": true
   },
   "outputs": [],
   "source": [
    "def parseRecord(record):   # 将cla中的值转为数字\n",
    "    result=[]\n",
    "    r = zip(names,record)   # ——zip() 用于将可迭代的对象作为参数，将对象中对应的元素打包成一个个元组，然后返回由这些元组组成的列表。\n",
    "    for name,v in r:\n",
    "        if name == 'cla':\n",
    "            if v == 'Iris-setosa':\n",
    "                result.append(1)\n",
    "            elif v == 'Iris-versicolor':\n",
    "                result.append(2)\n",
    "            elif v == 'Iris-virginica':\n",
    "                result.append(3)\n",
    "            else:\n",
    "                result.append(np.nan)  # 转为 NaN 一会可以删除无效样本\n",
    "        else:\n",
    "            result.append(float(v))\n",
    "#     result = pd.Series(data = result,index = names)   # 将数组转Series\n",
    "    return result   # 返回Series"
   ]
  },
  {
   "cell_type": "code",
   "execution_count": 17,
   "metadata": {
    "scrolled": false
   },
   "outputs": [
    {
     "data": {
      "text/plain": [
       "0    [5.1, 3.5, 1.4, 0.2, 1]\n",
       "1    [4.9, 3.0, 1.4, 0.2, 1]\n",
       "2    [4.7, 3.2, 1.3, 0.2, 1]\n",
       "3    [4.6, 3.1, 1.5, 0.2, 1]\n",
       "4    [5.0, 3.6, 1.4, 0.2, 1]\n",
       "dtype: object"
      ]
     },
     "execution_count": 17,
     "metadata": {},
     "output_type": "execute_result"
    }
   ],
   "source": [
    "datas = df.apply(lambda r: parseRecord(r), axis=1)  # 传df DataFrame表，按行传。每一个record为一个Series型数据\n",
    "                                                    # 返回Series时组成DataFrame；返回数组时组成Series"
   ]
  }
 ],
 "metadata": {
  "anaconda-cloud": {},
  "kernelspec": {
   "display_name": "Python 3",
   "language": "python",
   "name": "python3"
  },
  "language_info": {
   "codemirror_mode": {
    "name": "ipython",
    "version": 3
   },
   "file_extension": ".py",
   "mimetype": "text/x-python",
   "name": "python",
   "nbconvert_exporter": "python",
   "pygments_lexer": "ipython3",
   "version": "3.6.2"
  }
 },
 "nbformat": 4,
 "nbformat_minor": 1
}
