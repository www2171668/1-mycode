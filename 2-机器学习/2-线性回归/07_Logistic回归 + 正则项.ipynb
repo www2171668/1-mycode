{
 "cells": [
  {
   "cell_type": "code",
   "execution_count": 5,
   "metadata": {
    "collapsed": true
   },
   "outputs": [],
   "source": [
    "import numpy as np\n",
    "import pandas as pd\n",
    "import matplotlib as mpl\n",
    "import matplotlib.pyplot as plt\n",
    "\n",
    "import warnings\n",
    "from sklearn.linear_model.coordinate_descent import ConvergenceWarning   # 拦截异常\n",
    "\n",
    "import sklearn\n",
    "from sklearn.preprocessing import StandardScaler\n",
    "from sklearn.linear_model import LogisticRegressionCV,LinearRegression\n",
    "\n",
    "from sklearn.model_selection import train_test_split"
   ]
  },
  {
   "cell_type": "code",
   "execution_count": 6,
   "metadata": {
    "collapsed": true
   },
   "outputs": [],
   "source": [
    "## 设置字符集，防止中文乱码\n",
    "mpl.rcParams['font.sans-serif']=[u'simHei']\n",
    "mpl.rcParams['axes.unicode_minus']=False\n",
    "## 拦截异常\n",
    "warnings.filterwarnings(action = 'ignore', category=ConvergenceWarning)"
   ]
  },
  {
   "cell_type": "markdown",
   "metadata": {},
   "source": [
    "##### 1、数据加载 + 数据处理"
   ]
  },
  {
   "cell_type": "code",
   "execution_count": 7,
   "metadata": {},
   "outputs": [
    {
     "data": {
      "text/html": [
       "<div>\n",
       "<style>\n",
       "    .dataframe thead tr:only-child th {\n",
       "        text-align: right;\n",
       "    }\n",
       "\n",
       "    .dataframe thead th {\n",
       "        text-align: left;\n",
       "    }\n",
       "\n",
       "    .dataframe tbody tr th {\n",
       "        vertical-align: top;\n",
       "    }\n",
       "</style>\n",
       "<table border=\"1\" class=\"dataframe\">\n",
       "  <thead>\n",
       "    <tr style=\"text-align: right;\">\n",
       "      <th></th>\n",
       "      <th>id</th>\n",
       "      <th>Clump Thickness</th>\n",
       "      <th>Uniformity of Cell Size</th>\n",
       "      <th>Uniformity of Cell Shape</th>\n",
       "      <th>Marginal Adhesion</th>\n",
       "      <th>Single Epithelial Cell Size</th>\n",
       "      <th>Bare Nuclei</th>\n",
       "      <th>Bland Chromatin</th>\n",
       "      <th>Normal Nucleoli</th>\n",
       "      <th>Mitoses</th>\n",
       "      <th>Class</th>\n",
       "    </tr>\n",
       "  </thead>\n",
       "  <tbody>\n",
       "    <tr>\n",
       "      <th>0</th>\n",
       "      <td>1000025</td>\n",
       "      <td>5</td>\n",
       "      <td>1</td>\n",
       "      <td>1</td>\n",
       "      <td>1</td>\n",
       "      <td>2</td>\n",
       "      <td>1</td>\n",
       "      <td>3</td>\n",
       "      <td>1</td>\n",
       "      <td>1</td>\n",
       "      <td>2</td>\n",
       "    </tr>\n",
       "    <tr>\n",
       "      <th>1</th>\n",
       "      <td>1002945</td>\n",
       "      <td>5</td>\n",
       "      <td>4</td>\n",
       "      <td>4</td>\n",
       "      <td>5</td>\n",
       "      <td>7</td>\n",
       "      <td>10</td>\n",
       "      <td>3</td>\n",
       "      <td>2</td>\n",
       "      <td>1</td>\n",
       "      <td>2</td>\n",
       "    </tr>\n",
       "    <tr>\n",
       "      <th>2</th>\n",
       "      <td>1015425</td>\n",
       "      <td>3</td>\n",
       "      <td>1</td>\n",
       "      <td>1</td>\n",
       "      <td>1</td>\n",
       "      <td>2</td>\n",
       "      <td>2</td>\n",
       "      <td>3</td>\n",
       "      <td>1</td>\n",
       "      <td>1</td>\n",
       "      <td>2</td>\n",
       "    </tr>\n",
       "    <tr>\n",
       "      <th>3</th>\n",
       "      <td>1016277</td>\n",
       "      <td>6</td>\n",
       "      <td>8</td>\n",
       "      <td>8</td>\n",
       "      <td>1</td>\n",
       "      <td>3</td>\n",
       "      <td>4</td>\n",
       "      <td>3</td>\n",
       "      <td>7</td>\n",
       "      <td>1</td>\n",
       "      <td>2</td>\n",
       "    </tr>\n",
       "    <tr>\n",
       "      <th>4</th>\n",
       "      <td>1017023</td>\n",
       "      <td>4</td>\n",
       "      <td>1</td>\n",
       "      <td>1</td>\n",
       "      <td>3</td>\n",
       "      <td>2</td>\n",
       "      <td>1</td>\n",
       "      <td>3</td>\n",
       "      <td>1</td>\n",
       "      <td>1</td>\n",
       "      <td>2</td>\n",
       "    </tr>\n",
       "  </tbody>\n",
       "</table>\n",
       "</div>"
      ],
      "text/plain": [
       "        id  Clump Thickness  Uniformity of Cell Size  \\\n",
       "0  1000025                5                        1   \n",
       "1  1002945                5                        4   \n",
       "2  1015425                3                        1   \n",
       "3  1016277                6                        8   \n",
       "4  1017023                4                        1   \n",
       "\n",
       "   Uniformity of Cell Shape  Marginal Adhesion  Single Epithelial Cell Size  \\\n",
       "0                         1                  1                            2   \n",
       "1                         4                  5                            7   \n",
       "2                         1                  1                            2   \n",
       "3                         8                  1                            3   \n",
       "4                         1                  3                            2   \n",
       "\n",
       "  Bare Nuclei  Bland Chromatin  Normal Nucleoli  Mitoses  Class  \n",
       "0           1                3                1        1      2  \n",
       "1          10                3                2        1      2  \n",
       "2           2                3                1        1      2  \n",
       "3           4                3                7        1      2  \n",
       "4           1                3                1        1      2  "
      ]
     },
     "execution_count": 7,
     "metadata": {},
     "output_type": "execute_result"
    }
   ],
   "source": [
    "path = \"datas/breast-cancer-wisconsin.data\"\n",
    "names = ['id','Clump Thickness','Uniformity of Cell Size','Uniformity of Cell Shape',\n",
    "         'Marginal Adhesion','Single Epithelial Cell Size','Bare Nuclei','Bland Chromatin','Normal Nucleoli','Mitoses','Class']\n",
    "\n",
    "df = pd.read_csv(path, header=None,sep=',',names=names)  # —— names ：标题 ，重给了标题\n",
    "\n",
    "datas = df.replace('?', np.nan).dropna(how = 'any')\n",
    "datas.head(5)"
   ]
  },
  {
   "cell_type": "markdown",
   "metadata": {},
   "source": [
    "##### 2、数据划分 + 数据分割"
   ]
  },
  {
   "cell_type": "code",
   "execution_count": 19,
   "metadata": {},
   "outputs": [],
   "source": [
    "X = datas[names[1:10]]   # 第0列是id列，不要\n",
    "Y = datas[names[-1]]   # 或Y = datas.columns[10]\n",
    "\n",
    "X_train,X_test,Y_train,Y_test = train_test_split(X,Y,test_size=0.1,random_state=0)"
   ]
  },
  {
   "cell_type": "markdown",
   "metadata": {},
   "source": [
    "##### 3、数据预处理 - 标准化"
   ]
  },
  {
   "cell_type": "code",
   "execution_count": 20,
   "metadata": {
    "collapsed": true
   },
   "outputs": [],
   "source": [
    "ss = StandardScaler()\n",
    "X_train = ss.fit_transform(X_train)\n",
    "X_test = ss.transform(X_test)"
   ]
  },
  {
   "cell_type": "markdown",
   "metadata": {},
   "source": [
    "##### 4、模型构建（CV） + 训练 + 预测\n",
    "—— LogisticRegressionCV() 逻辑回归算法（交叉验证型）\n",
    "    \n",
    "    -》multi_class: 多元分类方式；ovr(默认)、multinomial；这两种方式在二元分类问题中，效果是一样的；在多元分类问题中，效果不一样\n",
    "    ①、ovr: one-vs-rest，对于多元分类的问题，先将其看做二元分类，分类完成后，再对其中一类继续进行二元分类，依次迭代\n",
    "    ②、multinomial: many-vs-many（MVM）,对于多元分类问题，如果模型有T类，我们每次在所有的T类样本里面选择两类样本出来，进行二元逻辑回归。一共需要T(T-1)/2次分类\n",
    "\n",
    "    -》Cs: 正则化强度的反比\n",
    "    -》penalty: 惩罚项（正则项），过拟合解决方案,参数等于 l1 或 l2\n",
    "    -》solver: 参数优化方式 \n",
    "    ①、当penalty为l1的时候，solver只能是liblinear(坐标轴下降法)，lbfgs和cg都是关于目标函数的二阶泰勒展开\n",
    "    ②、当penalty为l2的时候，solver可以是seg(mini-batch梯度下降)、lbfgs(拟牛顿法)、newton-cg(牛顿法变种)\n",
    "    维度<10000时，lbfgs法比较好 ；维度>10000时， cg法比较好 ；显卡计算时，lbfgs和cg都比seg快\n",
    "\n",
    "    -》tol: 标准公差阈值，小于该数时，迭代停止"
   ]
  },
  {
   "cell_type": "code",
   "execution_count": 21,
   "metadata": {
    "collapsed": true
   },
   "outputs": [],
   "source": [
    "lr = LogisticRegressionCV(multi_class='ovr',fit_intercept=True, cv=2, Cs=np.logspace(-2, 2, 20), penalty='l2', solver='lbfgs', tol=0.01)\n",
    "lr.fit(X_train, Y_train)\n",
    "\n",
    "Y_predict = lr.predict(X_test)"
   ]
  },
  {
   "cell_type": "markdown",
   "metadata": {},
   "source": [
    "##### 5、模型评估\n",
    "假定在一个k分类问题中，测试集中共有n个样本。则：\n",
    "\n",
    "—— predict 返回的是一个n行1列的数组，一维数组中的第i个值为模型预测的第i个样本的预测标签；\n",
    "\n",
    "—— predict_proba 返回的是一个n行k列的数组，第i行第j列上的数值是模型预测的第i个预测样本的标签为j的概率；每行的概率和为1。\n",
    "可以理解为，返回预测属于某标签的概率，有多少个分类结果，每行就有多少个概率"
   ]
  },
  {
   "cell_type": "code",
   "execution_count": 22,
   "metadata": {},
   "outputs": [
    {
     "name": "stdout",
     "output_type": "stream",
     "text": [
      "R^2（准确率）： 0.970684039088\n",
      "参数： [[ 1.3926311   0.17397478  0.65749877  0.8929026   0.36507062  1.36092964\n",
      "   0.91444624  0.63198866  0.75459326]]\n",
      "截距： [-1.02717163]\n",
      "稀疏化特征比率：0.00%\n",
      "[[ 0.99402766  0.00597234]\n",
      " [ 0.99481448  0.00518552]\n",
      " [ 0.1017864   0.8982136 ]\n",
      " [ 0.0169779   0.9830221 ]\n",
      " [ 0.99866407  0.00133593]]\n"
     ]
    }
   ],
   "source": [
    "print (\"R^2（准确率）：\", lr.score(X_train, Y_train))\n",
    "print (\"参数：\",lr.coef_)\n",
    "print (\"截距：\",lr.intercept_)   # 偏置项\n",
    "print (\"稀疏化特征比率：%.2f%%\" % (np.mean(lr.coef_.ravel() == 0) * 100))   # 相连的 %% 用于表示 %\n",
    "\n",
    "print(lr.predict_proba(X_test)[0:5])   # 二分类时，概率大的为当前标签。"
   ]
  },
  {
   "cell_type": "markdown",
   "metadata": {},
   "source": [
    "##### 附加  模型相关信息保存 + 加载"
   ]
  },
  {
   "cell_type": "code",
   "execution_count": 12,
   "metadata": {},
   "outputs": [
    {
     "data": {
      "text/plain": [
       "['datas/logistic/lr.model']"
      ]
     },
     "execution_count": 12,
     "metadata": {},
     "output_type": "execute_result"
    }
   ],
   "source": [
    "from sklearn.externals import joblib\n",
    "# 要求文件夹必须存在\n",
    "joblib.dump(ss, \"datas/logistic/ss.model\")   ## 保存标准化模型\n",
    "joblib.dump(lr, \"datas/logistic/lr.model\")   ## 保存模型"
   ]
  },
  {
   "cell_type": "code",
   "execution_count": 13,
   "metadata": {
    "collapsed": true
   },
   "outputs": [],
   "source": [
    "# 模型加载\n",
    "oss = joblib.load(\"datas/logistic/ss.model\")\n",
    "olr = joblib.load(\"datas/logistic/lr.model\")"
   ]
  },
  {
   "cell_type": "markdown",
   "metadata": {},
   "source": [
    "##### 6、绘制图形"
   ]
  },
  {
   "cell_type": "code",
   "execution_count": 14,
   "metadata": {},
   "outputs": [
    {
     "data": {
      "image/png": "[encoded data removed]",
      "text/plain": [
       "<matplotlib.figure.Figure at 0x1ad2875f128>"
      ]
     },
     "metadata": {},
     "output_type": "display_data"
    }
   ],
   "source": [
    "x_len = range(len(X_test))\n",
    "\n",
    "plt.figure(figsize=(14,7), facecolor='w')\n",
    "plt.ylim(0,6)\n",
    "\n",
    "plt.plot(x_len, Y_test, 'ro',markersize = 8, zorder=3, label='真实值')   # —— markersize 标记大小\n",
    "plt.plot(x_len, Y_predict, 'go', markersize = 14, zorder=2, label='预测值,$R^2$=%.3f' % lr.score(X_test, Y_test))\n",
    "plt.legend(loc = 'upper left')\n",
    "\n",
    "plt.xlabel('数据编号', fontsize=18)   # x轴一般都是数据编号，只是测试值的特征值长度，没有实际物理意义\n",
    "plt.ylabel('乳腺癌类型', fontsize=18)\n",
    "plt.title('Logistic回归算法对数据进行分类', fontsize=20)\n",
    "plt.show()"
   ]
  },
  {
   "cell_type": "markdown",
   "metadata": {},
   "source": [
    "# logistic算法预测实例"
   ]
  },
  {
   "cell_type": "code",
   "execution_count": 40,
   "metadata": {},
   "outputs": [
    {
     "name": "stdout",
     "output_type": "stream",
     "text": [
      "[3 3 2]\n",
      "[[0.34703037 0.65296963]\n",
      " [0.01330503 0.98669497]\n",
      " [0.73670066 0.26329934]]\n"
     ]
    },
    {
     "name": "stderr",
     "output_type": "stream",
     "text": [
      "C:\\4_IT\\Anaconda\\lib\\site-packages\\sklearn\\linear_model\\logistic.py:433: FutureWarning: Default solver will be changed to 'lbfgs' in 0.22. Specify a solver to silence this warning.\n",
      "  FutureWarning)\n"
     ]
    }
   ],
   "source": [
    "from sklearn.linear_model import LogisticRegression\n",
    "import numpy as np\n",
    "\n",
    "x_train = np.array([[1,2,3],\n",
    "                    [1,3,4],\n",
    "                    [2,1,2],\n",
    "                    [4,5,6],\n",
    "                    [3,5,3],\n",
    "                    [1,7,2]])\n",
    "\n",
    "y_train = np.array([3, 3, 3, 3, 2, 2])   # 由于标签只有2，3两种，所以predict_proba只会是两列矩阵，第一列表示小的那个数2的预测值概率\n",
    "\n",
    "x_test = np.array([[2,2,2],\n",
    "                   [3,2,6],\n",
    "                   [1,7,4]])\n",
    "\n",
    "clf = LogisticRegression()\n",
    "clf.fit(x_train, y_train)\n",
    " \n",
    "print(clf.predict(x_test))\n",
    "print(clf.predict_proba(x_test))\n",
    "\n",
    "# 分析结果：\n",
    "# 预测[2,2,2]的标签是2的概率为0.56651809，3的概率为0.43348191\n",
    "# 预测[3,2,6]的标签是2的概率为0.15598162，3的概率为0.84401838\n",
    "# 预测[1,7,4]的标签是2的概率为0.86852502，3的概率为0.13147498"
   ]
  },
  {
   "cell_type": "markdown",
   "metadata": {},
   "source": [
    "若希望预测结果直接是某预测标签，则用predict\n",
    "\n",
    "若希望预测结果是标签的概率，则用predict_proba"
   ]
  },
  {
   "cell_type": "code",
   "execution_count": 41,
   "metadata": {},
   "outputs": [
    {
     "name": "stdout",
     "output_type": "stream",
     "text": [
      "[2 3 2 2]\n",
      "[[0.55676059 0.44323941]\n",
      " [0.16753876 0.83246124]\n",
      " [0.89302673 0.10697327]\n",
      " [0.78879495 0.21120505]]\n"
     ]
    },
    {
     "name": "stderr",
     "output_type": "stream",
     "text": [
      "C:\\4_IT\\Anaconda\\lib\\site-packages\\sklearn\\linear_model\\logistic.py:433: FutureWarning: Default solver will be changed to 'lbfgs' in 0.22. Specify a solver to silence this warning.\n",
      "  FutureWarning)\n"
     ]
    }
   ],
   "source": [
    "from sklearn.linear_model import LogisticRegression\n",
    "import numpy as np\n",
    "\n",
    "x_train = np.array([[1,2,3,1],\n",
    "                    [1,3,4,2],\n",
    "                    [2,1,2,3],\n",
    "                    [4,5,6,4],\n",
    "                    [3,5,3,3],\n",
    "                    [1,7,2,1]])\n",
    "\n",
    "y_train = np.array([3, 3, 3, 2, 2, 2])\n",
    "\n",
    "x_test = np.array([[2,2,2,2],\n",
    "                   [3,2,6,3],\n",
    "                   [1,7,4,1],\n",
    "                   [2,5,4,1]])\n",
    "\n",
    "clf = LogisticRegression()\n",
    "clf.fit(x_train, y_train)\n",
    " \n",
    "print(clf.predict(x_test))\n",
    "print(clf.predict_proba(x_test))\n",
    "\n",
    "# 分析结果：\n",
    "# 预测[2,2,2]的标签是2的概率为0.56651809，3的概率为0.43348191\n",
    "# 预测[3,2,6]的标签是2的概率为0.15598162，3的概率为0.84401838\n",
    "# 预测[1,7,4]的标签是2的概率为0.86852502，3的概率为0.13147498"
   ]
  },
  {
   "cell_type": "code",
   "execution_count": null,
   "metadata": {
    "collapsed": true
   },
   "outputs": [],
   "source": []
  }
 ],
 "metadata": {
  "kernelspec": {
   "display_name": "Python 3",
   "language": "python",
   "name": "python3"
  },
  "language_info": {
   "codemirror_mode": {
    "name": "ipython",
    "version": 3
   },
   "file_extension": ".py",
   "mimetype": "text/x-python",
   "name": "python",
   "nbconvert_exporter": "python",
   "pygments_lexer": "ipython3",
   "version": "3.6.2"
  }
 },
 "nbformat": 4,
 "nbformat_minor": 1
}
