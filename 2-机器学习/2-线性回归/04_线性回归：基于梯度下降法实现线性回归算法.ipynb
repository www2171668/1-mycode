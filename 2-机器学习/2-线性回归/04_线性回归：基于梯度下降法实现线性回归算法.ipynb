{
 "cells": [
  {
   "cell_type": "markdown",
   "metadata": {},
   "source": [
    "构造一个完整的梯度下降算法\n",
    "==="
   ]
  },
  {
   "cell_type": "markdown",
   "metadata": {},
   "source": [
    "##### 数据校验"
   ]
  },
  {
   "cell_type": "code",
   "execution_count": 7,
   "metadata": {},
   "outputs": [],
   "source": [
    "def validate(X, Y):\n",
    "    if len(X) != len(Y):   # 保证X和Y的维度相同\n",
    "        raise Exception(\"参数异常\")   # —— raise 抛出异常\n",
    "    else:\n",
    "        m = len(X[0])   # 获取行的长度，即维度\n",
    "        for L in X:\n",
    "            if len(L) != m:   # 保证X每一行的数据相同，是一个完整的矩阵\n",
    "                raise Exception(\"参数异常\")\n",
    "        if len(Y[0]) != L:   # 保证Y只有1列，即1维度\n",
    "            raise Exception(\"参数异常\")"
   ]
  },
  {
   "cell_type": "markdown",
   "metadata": {},
   "source": [
    "##### 计算预测值和实际值的差值，即 ax - y 的值"
   ]
  },
  {
   "cell_type": "code",
   "execution_count": 8,
   "metadata": {},
   "outputs": [],
   "source": [
    "def calcDiffe(x, y, a):\n",
    "    lx = len(x)\n",
    "    la = len(a)\n",
    "    if lx == la:   # 保证a和x的维度相同，可以进行相乘\n",
    "        result = 0\n",
    "        for i in range(lx):\n",
    "            result += x[i] * a[i]\n",
    "        return y - result   # 返回的是b的值\n",
    "    \n",
    "    elif lx + 1 == la:\n",
    "        result = 0\n",
    "        for i in range(lx):\n",
    "            result += x[i] * a[i]\n",
    "        result += 1 * a[lx] # 加上常数项\n",
    "        return y - result\n",
    "    \n",
    "    else :\n",
    "        raise Exception(\"参数异常\")"
   ]
  },
  {
   "cell_type": "markdown",
   "metadata": {},
   "source": [
    "##### 模型训练"
   ]
  },
  {
   "cell_type": "code",
   "execution_count": 9,
   "metadata": {},
   "outputs": [],
   "source": [
    "def fit(X, Y, alphas, threshold=1e-6, maxIter=200, addConstantItem=True):   # theate矩阵 * X = Y\n",
    "    '''\n",
    "    X是m*n二维矩阵，m为样本数目，n是特征数量\n",
    "    '''\n",
    "    # maxIter 迭代次数 ；实现了CV的功能，即选出最优alphas\n",
    "    # threshold 阈值，收敛次数\n",
    "    \n",
    "    import math\n",
    "    import numpy as np\n",
    "    \n",
    "    ## 校验\n",
    "    validate(X, Y)\n",
    "    \n",
    "    ## 开始模型构建\n",
    "    L = len(alphas)   # 样本个数\n",
    "    m = len(Y)   # Y的维度\n",
    "    n = len(X[0]) + 1 if addConstantItem else len(X[0])   # 特征的数量\n",
    "    B = [True for i in range(L)]   # 模型的格式：控制最优模型\n",
    "    \n",
    "    ## 损失值初始化\n",
    "    J = [np.nan for i in range(L)]   # loss函数的值 J = [np.nan]\n",
    "    \n",
    "    # 1. 初始化L*n的list\n",
    "    a = [[0 for j in range(n)] for i in range(L)]   # a是theta矩阵，模型的系数；这是一个L行n列的向量\n",
    "    \n",
    "    # 2. 开始计算\n",
    "    for times in range(maxIter):\n",
    "        for i in range(L):   # 针对每个样本得到一个解\n",
    "            if not B[i]:   # 如果当前alpha的值已经计算到最优解了，那么不进行继续计算continue进入下一个循环\n",
    "                continue\n",
    "            \n",
    "            ta = a[i]   # 获取一行，即ta是一个1行n列的向量\n",
    "            for j in range(n): \n",
    "                alpha = alphas[i]   # 对每一个特征，得到它的alpha值\n",
    "                ts = 0\n",
    "                for k in range(m):\n",
    "                    if j == n - 1 and addConstantItem:\n",
    "                        ts += alpha*calcDiffe(X[k], Y[k][0], a[i]) * 1\n",
    "                    else:\n",
    "                        ts += alpha*calcDiffe(X[k], Y[k][0], a[i]) * X[k][j]\n",
    "                t = ta[j] + ts·\n",
    "                ta[j] = t\n",
    "                \n",
    "            ## 计算完一个alpha值的0的损失函数\n",
    "            flag = True\n",
    "            js = 0\n",
    "            for k in range(m):\n",
    "                js += math.pow(calcDiffe(X[k], Y[k][0], a[i]),2)+a[i][j]   # js 误差 ；a[i][j]实质上是常数项\n",
    "                if js > J[i]:\n",
    "                    flag = False\n",
    "                    break;\n",
    "            if flag:\n",
    "                J[i] = js\n",
    "                for j in range(n):\n",
    "                    a[i][j] = ta[j]\n",
    "            else:\n",
    "                # 标记当前alpha的值不需要再计算了\n",
    "                B[i] = False     \n",
    "        \n",
    "        ## 计算完一个迭代，当目标函数/损失函数值有一个小于threshold时就结束循环，即舍去小于10^-6的theata\n",
    "        r = [0 for j in J if j <= threshold]\n",
    "        if len(r) > 0:\n",
    "            break\n",
    "            \n",
    "        # 如果全部alphas的值都结算到最后解了，则结束计算，跳出循环\n",
    "        r = [0 for b in B if not b]\n",
    "        if len(r) > 0:\n",
    "            break\n",
    "\n",
    "    # 3. 获取最优的alphas的值以及对应的theata值\n",
    "    min_a = a[0]\n",
    "    min_j = J[0]\n",
    "    min_alpha = alphas[0]\n",
    "    for i in range(L):\n",
    "        if J[i] < min_j:\n",
    "            min_j = J[i]\n",
    "            min_a = a[i]\n",
    "            min_alpha = alphas[i]\n",
    "    \n",
    "    print(\"最优的alpha值为:\",min_alpha)\n",
    "    \n",
    "    # 4. 返回最终的theata值\n",
    "    return min_a"
   ]
  },
  {
   "cell_type": "markdown",
   "metadata": {},
   "source": [
    "##### 预测结果"
   ]
  },
  {
   "cell_type": "code",
   "execution_count": 10,
   "metadata": {},
   "outputs": [],
   "source": [
    "def predict(X,a):   # 这个a就理解成theata\n",
    "    Y = []\n",
    "    n = len(a) - 1\n",
    "    for x in X:\n",
    "        result = 0\n",
    "        for i in range(n):\n",
    "            result += x[i] * a[i]\n",
    "        result += a[n]   # 最后一个theata没有xi\n",
    "        Y.append(result)\n",
    "    return Y"
   ]
  },
  {
   "cell_type": "markdown",
   "metadata": {},
   "source": [
    "##### 计算实际值和预测值之间的相关性"
   ]
  },
  {
   "cell_type": "code",
   "execution_count": 11,
   "metadata": {},
   "outputs": [],
   "source": [
    "def calcRScore(y,py):\n",
    "    if len(y) != len(py):   # 保证实际Y值和预测Y值维度相同\n",
    "        raise Exception(\"参数异常\")\n",
    "        \n",
    "    import math \n",
    "    import numpy as np\n",
    "    \n",
    "    avgy = np.average(y)   # range是从0开始算的，len是从1开始算的\n",
    "    m = len(y)\n",
    "    rss = 0.0\n",
    "    tss = 0\n",
    "    for i in range(m):\n",
    "        rss += math.pow(y[i] - py[i], 2)   # —— pow(x,y)： 返回 x^y\n",
    "        tss += math.pow(y[i] - avgy, 2)\n",
    "    r = 1.0 - 1.0 * rss / tss   # 回归算法R^2计算公式\n",
    "    return r"
   ]
  },
  {
   "cell_type": "markdown",
   "metadata": {},
   "source": [
    "# 梯度下降法"
   ]
  },
  {
   "cell_type": "code",
   "execution_count": 5,
   "metadata": {},
   "outputs": [],
   "source": [
    "import numpy as np\n",
    "import pandas as pd\n",
    "import matplotlib as mpl\n",
    "import matplotlib.pyplot as plt\n",
    "\n",
    "import warnings\n",
    "\n",
    "import sklearn\n",
    "from sklearn.pipeline import Pipeline\n",
    "from sklearn.preprocessing import PolynomialFeatures\n",
    "from sklearn.linear_model import LinearRegression,Ridge, LassoCV, RidgeCV, ElasticNetCV\n",
    "\n",
    "from sklearn.linear_model.coordinate_descent import ConvergenceWarning"
   ]
  },
  {
   "cell_type": "code",
   "execution_count": 6,
   "metadata": {},
   "outputs": [],
   "source": [
    "## 设置字符集，防止中文乱码\n",
    "mpl.rcParams['font.sans-serif']=[u'simHei']\n",
    "mpl.rcParams['axes.unicode_minus']=False\n",
    "\n",
    "warnings.filterwarnings(action = 'ignore', category=ConvergenceWarning)"
   ]
  },
  {
   "cell_type": "markdown",
   "metadata": {},
   "source": [
    "##### 1、创建训练数据和测试数据"
   ]
  },
  {
   "cell_type": "code",
   "execution_count": 11,
   "metadata": {},
   "outputs": [
    {
     "data": {
      "text/plain": [
       "<Figure size 864x432 with 0 Axes>"
      ]
     },
     "execution_count": 11,
     "metadata": {},
     "output_type": "execute_result"
    },
    {
     "data": {
      "text/plain": [
       "<Figure size 864x432 with 0 Axes>"
      ]
     },
     "metadata": {},
     "output_type": "display_data"
    }
   ],
   "source": [
    "np.random.seed(0)\n",
    "\n",
    "# 创建训练数据\n",
    "N = 10\n",
    "x = np.linspace(0, 6, N) + np.random.randn(N)   # 加上了一个随机数\n",
    "y = 1.8*x**3 + x**2 - 14*x - 7 + np.random.randn(N)\n",
    "x.shape = (-1, 1)\n",
    "y.shape = (-1, 1)\n",
    "\n",
    "# 创建测试数据\n",
    "x_test = np.linspace(x.min(), x.max(), num=100)\n",
    "x_test.shape = (-1,1)\n",
    "\n",
    "plt.figure(figsize=(12,6), facecolor='w')"
   ]
  },
  {
   "cell_type": "markdown",
   "metadata": {},
   "source": [
    "##### 2.1、Python自带模型\n",
    "\n",
    "    模型自带了梯度下降功能"
   ]
  },
  {
   "cell_type": "code",
   "execution_count": 9,
   "metadata": {},
   "outputs": [
    {
     "name": "stdout",
     "output_type": "stream",
     "text": [
      "0.8374376988248429\n",
      "参数列表: [[72.0576022]]\n",
      "截距: [-163.71132966]\n"
     ]
    }
   ],
   "source": [
    "model = LinearRegression()\n",
    "model.fit(x,y)\n",
    "\n",
    "y_predict = model.predict(x_test)\n",
    "s1 = model.score(x,y)\n",
    "\n",
    "print(s1)\n",
    "print(\"参数列表:\", model.coef_)\n",
    "print(\"截距:\", model.intercept_)"
   ]
  },
  {
   "cell_type": "markdown",
   "metadata": {},
   "source": [
    "##### 2.2、自定义线性模型"
   ]
  },
  {
   "cell_type": "code",
   "execution_count": 25,
   "metadata": {},
   "outputs": [
    {
     "name": "stdout",
     "output_type": "stream",
     "text": [
      "最优的alpha值为: 0.01\n",
      "自定义实现模型=============\n",
      "参数列表: [70.87936393633888, -158.4997458365991]\n"
     ]
    }
   ],
   "source": [
    "ma = fit(x,y,np.logspace(-4,-2,100), addConstantItem=True)\n",
    "y_predict2 = predict(x_test, ma)\n",
    "\n",
    "s2 = calcRScore(y, predict(x,ma))\n",
    "print (\"自定义实现模型=============\")\n",
    "print (\"参数列表:\", ma)"
   ]
  },
  {
   "cell_type": "markdown",
   "metadata": {},
   "source": [
    "##### 3、绘制自定义线性模型和python模型对比图"
   ]
  },
  {
   "cell_type": "code",
   "execution_count": 32,
   "metadata": {},
   "outputs": [
    {
     "data": {
      "image/png": "[encoded data removed]",
      "text/plain": [
       "<Figure size 432x288 with 1 Axes>"
      ]
     },
     "metadata": {
      "needs_background": "light"
     },
     "output_type": "display_data"
    }
   ],
   "source": [
    "plt.plot(x, y, 'ro', ms=10, zorder=3)\n",
    "plt.plot(x_test, y_predict, color='red', lw=2, alpha=0.75, label='Python模型，$R^2$:%.3f' % s1, zorder=2)  # $  $ ：更换之间的运算符 ★\n",
    "plt.plot(x_test, y_predict2, color='#6d49b6', lw=6, alpha=1, label='自己实现模型，$R^2$:%.3f' % s2, zorder=1)\n",
    "plt.legend(loc = 'upper left')\n",
    "\n",
    "plt.grid(True)\n",
    "plt.xlabel('X', fontsize=16)\n",
    "plt.ylabel('Y', fontsize=16)\n",
    "\n",
    "plt.suptitle(u'自定义的线性模型和模块中的线性模型比较', fontsize=16)\n",
    "plt.show()"
   ]
  },
  {
   "cell_type": "code",
   "execution_count": 16,
   "metadata": {},
   "outputs": [
    {
     "name": "stdout",
     "output_type": "stream",
     "text": [
      "自带梯度下降法R方: 0.9999999989274823\n"
     ]
    },
    {
     "data": {
      "image/png": "[encoded data removed]",
      "text/plain": [
       "<Figure size 432x288 with 1 Axes>"
      ]
     },
     "metadata": {
      "needs_background": "light"
     },
     "output_type": "display_data"
    }
   ],
   "source": [
    "from sklearn.ensemble import GradientBoostingRegressor\n",
    "\n",
    "clf = GradientBoostingRegressor()\n",
    "y1 = y.ravel()\n",
    "clf.fit(x,y1)\n",
    "print (\"自带梯度下降法R方:\", clf.score(x,y1))\n",
    "y_predict3=clf.predict(x_test)\n",
    "s3=calcRScore(y, clf.predict(x))\n",
    "\n",
    "## 开始画图\n",
    "plt.plot(x, y, 'ro', ms=10, zorder=3)\n",
    "plt.plot(x_test, y_predict, color='#b624db', lw=2, alpha=0.75, label=u'Python模型，$R^2$:%.3f' % s1, zorder=2)\n",
    "plt.plot(x_test, y_predict2, color='#6d49b6', lw=2, alpha=0.75, label=u'自己实现模型，$R^2$:%.3f' % s2, zorder=1)\n",
    "plt.plot(x_test, y_predict3, color='#6daaba', lw=2, alpha=0.75, label=u'自带梯度下降方法，$R^2$:%.3f' % s3, zorder=1)\n",
    "plt.legend(loc = 'upper left')\n",
    "plt.grid(True)\n",
    "plt.xlabel('X', fontsize=16)\n",
    "plt.ylabel('Y', fontsize=16)\n",
    "\n",
    "plt.suptitle(u'自定义的线性模型和模块中的线性模型比较', fontsize=22)\n",
    "plt.show()"
   ]
  },
  {
   "cell_type": "code",
   "execution_count": null,
   "metadata": {},
   "outputs": [],
   "source": []
  }
 ],
 "metadata": {
  "kernelspec": {
   "display_name": "Python 3",
   "language": "python",
   "name": "python3"
  },
  "language_info": {
   "codemirror_mode": {
    "name": "ipython",
    "version": 3
   },
   "file_extension": ".py",
   "mimetype": "text/x-python",
   "name": "python",
   "nbconvert_exporter": "python",
   "pygments_lexer": "ipython3",
   "version": "3.7.1"
  }
 },
 "nbformat": 4,
 "nbformat_minor": 1
}
