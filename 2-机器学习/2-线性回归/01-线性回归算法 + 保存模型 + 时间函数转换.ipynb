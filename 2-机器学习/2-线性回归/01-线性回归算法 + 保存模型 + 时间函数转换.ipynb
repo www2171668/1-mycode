{
 "cells": [
  {
   "cell_type": "code",
   "execution_count": 16,
   "metadata": {
    "collapsed": true
   },
   "outputs": [],
   "source": [
    "import numpy as np\n",
    "import pandas as pd\n",
    "\n",
    "from sklearn.model_selection import train_test_split\n",
    "from sklearn.preprocessing import StandardScaler      # 预处理\n",
    "from sklearn.linear_model import LinearRegression\n",
    "from sklearn.linear_model import SGDRegressor\n",
    "\n",
    "import matplotlib as mpl\n",
    "import matplotlib.pyplot as plt\n",
    "\n",
    "import time"
   ]
  },
  {
   "cell_type": "markdown",
   "metadata": {},
   "source": [
    "##### 设置字符集，防止中文乱码"
   ]
  },
  {
   "cell_type": "code",
   "execution_count": 2,
   "metadata": {
    "collapsed": true
   },
   "outputs": [],
   "source": [
    "mpl.rcParams['font.sans-serif']=[u'simHei']\n",
    "mpl.rcParams['axes.unicode_minus']=False"
   ]
  },
  {
   "cell_type": "markdown",
   "metadata": {},
   "source": [
    "##### 1、加载数据\n",
    "—— 没有混合类型的时候可以通过 low_memory=F 调用更多内存，加快效率）"
   ]
  },
  {
   "cell_type": "code",
   "execution_count": 3,
   "metadata": {
    "collapsed": true
   },
   "outputs": [],
   "source": [
    "path1='datas/household_power_consumption_1000.txt'\n",
    "df = pd.read_csv(path1, sep=';', low_memory=False)    # 从txt文件中加载数据"
   ]
  },
  {
   "cell_type": "code",
   "execution_count": 4,
   "metadata": {
    "scrolled": true
   },
   "outputs": [
    {
     "data": {
      "text/html": [
       "<div>\n",
       "<style>\n",
       "    .dataframe thead tr:only-child th {\n",
       "        text-align: right;\n",
       "    }\n",
       "\n",
       "    .dataframe thead th {\n",
       "        text-align: left;\n",
       "    }\n",
       "\n",
       "    .dataframe tbody tr th {\n",
       "        vertical-align: top;\n",
       "    }\n",
       "</style>\n",
       "<table border=\"1\" class=\"dataframe\">\n",
       "  <thead>\n",
       "    <tr style=\"text-align: right;\">\n",
       "      <th></th>\n",
       "      <th>Date</th>\n",
       "      <th>Time</th>\n",
       "      <th>Global_active_power</th>\n",
       "      <th>Global_reactive_power</th>\n",
       "      <th>Voltage</th>\n",
       "      <th>Global_intensity</th>\n",
       "      <th>Sub_metering_1</th>\n",
       "      <th>Sub_metering_2</th>\n",
       "      <th>Sub_metering_3</th>\n",
       "    </tr>\n",
       "  </thead>\n",
       "  <tbody>\n",
       "    <tr>\n",
       "      <th>0</th>\n",
       "      <td>16/12/2006</td>\n",
       "      <td>17:24:00</td>\n",
       "      <td>4.216</td>\n",
       "      <td>0.418</td>\n",
       "      <td>234.84</td>\n",
       "      <td>18.4</td>\n",
       "      <td>0.0</td>\n",
       "      <td>1.0</td>\n",
       "      <td>17.0</td>\n",
       "    </tr>\n",
       "    <tr>\n",
       "      <th>1</th>\n",
       "      <td>16/12/2006</td>\n",
       "      <td>17:25:00</td>\n",
       "      <td>5.360</td>\n",
       "      <td>0.436</td>\n",
       "      <td>233.63</td>\n",
       "      <td>23.0</td>\n",
       "      <td>0.0</td>\n",
       "      <td>1.0</td>\n",
       "      <td>16.0</td>\n",
       "    </tr>\n",
       "    <tr>\n",
       "      <th>2</th>\n",
       "      <td>16/12/2006</td>\n",
       "      <td>17:26:00</td>\n",
       "      <td>5.374</td>\n",
       "      <td>0.498</td>\n",
       "      <td>233.29</td>\n",
       "      <td>23.0</td>\n",
       "      <td>0.0</td>\n",
       "      <td>2.0</td>\n",
       "      <td>17.0</td>\n",
       "    </tr>\n",
       "    <tr>\n",
       "      <th>3</th>\n",
       "      <td>16/12/2006</td>\n",
       "      <td>17:27:00</td>\n",
       "      <td>5.388</td>\n",
       "      <td>0.502</td>\n",
       "      <td>233.74</td>\n",
       "      <td>23.0</td>\n",
       "      <td>0.0</td>\n",
       "      <td>1.0</td>\n",
       "      <td>17.0</td>\n",
       "    </tr>\n",
       "    <tr>\n",
       "      <th>4</th>\n",
       "      <td>16/12/2006</td>\n",
       "      <td>17:28:00</td>\n",
       "      <td>3.666</td>\n",
       "      <td>0.528</td>\n",
       "      <td>235.68</td>\n",
       "      <td>15.8</td>\n",
       "      <td>0.0</td>\n",
       "      <td>1.0</td>\n",
       "      <td>17.0</td>\n",
       "    </tr>\n",
       "  </tbody>\n",
       "</table>\n",
       "</div>"
      ],
      "text/plain": [
       "         Date      Time  Global_active_power  Global_reactive_power  Voltage  \\\n",
       "0  16/12/2006  17:24:00                4.216                  0.418   234.84   \n",
       "1  16/12/2006  17:25:00                5.360                  0.436   233.63   \n",
       "2  16/12/2006  17:26:00                5.374                  0.498   233.29   \n",
       "3  16/12/2006  17:27:00                5.388                  0.502   233.74   \n",
       "4  16/12/2006  17:28:00                3.666                  0.528   235.68   \n",
       "\n",
       "   Global_intensity  Sub_metering_1  Sub_metering_2  Sub_metering_3  \n",
       "0              18.4             0.0             1.0            17.0  \n",
       "1              23.0             0.0             1.0            16.0  \n",
       "2              23.0             0.0             2.0            17.0  \n",
       "3              23.0             0.0             1.0            17.0  \n",
       "4              15.8             0.0             1.0            17.0  "
      ]
     },
     "execution_count": 4,
     "metadata": {},
     "output_type": "execute_result"
    }
   ],
   "source": [
    "df.head() # 获取前五行数据查看查看。columns分别为日期、时间、有功功率、无功功率、电压、电流、厨房用电功率、洗衣服用电功率、热水器用电功率"
   ]
  },
  {
   "cell_type": "markdown",
   "metadata": {},
   "source": [
    "##### 2、数据处理 过滤异常数据"
   ]
  },
  {
   "cell_type": "code",
   "execution_count": 5,
   "metadata": {
    "collapsed": true
   },
   "outputs": [],
   "source": [
    "new_df = df.replace('?', np.nan)  # 将 ? 替换为Nan\n",
    "datas = new_df.dropna(how = 'any') "
   ]
  },
  {
   "cell_type": "markdown",
   "metadata": {},
   "source": [
    "###### 创建一个时间函数格式化字符串\n",
    "—— time.strptime(str,format) 转换时间格式 \n",
    "\n",
    "    format：%d/%m/%Y %H:%M:%S \n",
    "\n",
    "    返回struct_time元组，通过tm结构来获得日期和时间：\n",
    "    tm_sec / tm_min / tm_hour 秒分时int类型"
   ]
  },
  {
   "cell_type": "markdown",
   "metadata": {},
   "source": [
    "—— str1.join(seq) 用str1来连接 字符串序列 / 列表 / 元组 / 字典\n",
    "\n",
    "    str = \"-\";\n",
    "    seq = (\"a\", \"b\", \"c\"); # 字符串序列\n",
    "    print str.join( seq );   # 输出：a-b-c"
   ]
  },
  {
   "cell_type": "code",
   "execution_count": 6,
   "metadata": {
    "collapsed": true
   },
   "outputs": [],
   "source": [
    "def Date_format(dt):\n",
    "    t = time.strptime(' '.join(dt), '%d/%m/%Y %H:%M:%S')   # 通过空格来连接字符，将字符串形式的时间转换为标准的 日月年，时分秒 格式\n",
    "                                                            # 通过这种方式，将每一个时间符号拆开\n",
    "    return (t.tm_year, t.tm_mon, t.tm_mday, t.tm_hour, t.tm_min, t.tm_sec)   # 返回 年月日，时分秒 格式 的时间元祖，保证不同时间单位分开显示"
   ]
  },
  {
   "cell_type": "markdown",
   "metadata": {},
   "source": [
    "##### 3、获取 样本X-时间 和 标签Y-功率变量"
   ]
  },
  {
   "cell_type": "code",
   "execution_count": 7,
   "metadata": {
    "scrolled": true
   },
   "outputs": [
    {
     "name": "stdout",
     "output_type": "stream",
     "text": [
      "         Date      Time\n",
      "0  16/12/2006  17:24:00\n",
      "1  16/12/2006  17:25:00\n",
      "\n",
      "      0   1   2   3   4  5\n",
      "0  2006  12  16  17  24  0\n",
      "1  2006  12  16  17  25  0\n"
     ]
    }
   ],
   "source": [
    "X = datas.iloc[:,0:2]   # 获取第0、1列的数据\n",
    "print(X.head(2))\n",
    "X = X.apply(lambda x: pd.Series(data = Date_format(x)), axis=1)   # 未定义columns\n",
    "\n",
    "print()\n",
    "print(X.head(2))   # 从这里可以看出，时间元祖被拆分成了矩阵"
   ]
  },
  {
   "cell_type": "code",
   "execution_count": 8,
   "metadata": {
    "collapsed": true,
    "scrolled": true
   },
   "outputs": [],
   "source": [
    "Y = datas['Global_active_power']"
   ]
  },
  {
   "cell_type": "markdown",
   "metadata": {},
   "source": [
    "##### 4、数据分割\n",
    "—— train_test_split(X,Y,test_size,random_state) \n",
    "\n",
    "    X是训练集，Y是测试集，X_train是训练集中的特征数据，Y_train是训练集中的结果数据。\n",
    "    X,Y可以是lists, numpy arrays, scipy-sparse matrices or pandas dataframes.\n",
    "    返回的类型和传入的X,Y类型保持一致。在后续的操作中，list、DadaFrame、Series都不会影响，columns是什么也不会构成影响\n",
    "    test_size 或 train_size：测试集合的数据占比。它是一个(0,1)之间的float类型的值\n",
    "    random_state: 随机数种子"
   ]
  },
  {
   "cell_type": "code",
   "execution_count": 9,
   "metadata": {
    "collapsed": true
   },
   "outputs": [],
   "source": [
    "X_train,X_test,Y_train,Y_test = train_test_split(X, Y, test_size=0.2, random_state=0)"
   ]
  },
  {
   "cell_type": "code",
   "execution_count": 10,
   "metadata": {},
   "outputs": [
    {
     "name": "stdout",
     "output_type": "stream",
     "text": [
      "(800, 6)\n",
      "(200, 6)\n",
      "(800,)\n",
      "(200,)\n"
     ]
    }
   ],
   "source": [
    "print(X_train.shape)   # 训练集中，有800条数据，6个维度\n",
    "print(X_test.shape)\n",
    "print(Y_train.shape)\n",
    "print(Y_test.shape)"
   ]
  },
  {
   "cell_type": "markdown",
   "metadata": {},
   "source": [
    "##### 5、数据预处理 - 标准化训练\n",
    "—— StandardScaler() 将数据转换为均值μ为0 标准差σ^2为1的数据集(数据映射)\n",
    "\n",
    "    with_mean：在进行数据转换的过程中，是否将数据转换为均值为0的数据(默认为True，表示是)\n",
    "    with_std：在进行数据转换的过程中，是否将数据转换为标准差为1的数据(默认为True，表示是)\n",
    "\n",
    "-》如果一个API名字有fit，那么就有模型训练的含义。简单来说，就是求得训练集X的均值、方差、最大值、最小值\n",
    "\n",
    "-》如果一个API名字中有transform， 那么就表示对数据具有转换的含义操作。简单来说，就是在Fit的基础上，通过找中心和缩放等，进行标准化、降维、归一化等操作\n",
    "\n",
    "-》如果一个API名字中有predict，那么就表示进行数据预测，会有一个预测结果输出\n",
    "\n",
    "    在训练集上调用fit_transform()时，可以得到其均值μ和方差σ^2，即我们已经找到了转换规则，然后我们把这个规则用在训练集上。同样，我们直接将其运用到测试集上（甚至交叉验证集）。所以在测试集上的处理，我们只需要标准化数据而不需要再次拟合数据"
   ]
  },
  {
   "cell_type": "code",
   "execution_count": 11,
   "metadata": {
    "collapsed": true
   },
   "outputs": [],
   "source": [
    "ss = StandardScaler()\n",
    "X_train = ss.fit_transform(X_train)  # 训练并转换 ，即先拟合数据，然后将其转化为标准形式\n",
    "X_test = ss.transform(X_test)  # 仅对特征数据做标准化转换\n",
    "\n",
    "# X_train = StandardScaler().fit_transform(X_train) 上面两步实际上是这样的"
   ]
  },
  {
   "cell_type": "code",
   "execution_count": 12,
   "metadata": {},
   "outputs": [
    {
     "data": {
      "text/html": [
       "<div>\n",
       "<style>\n",
       "    .dataframe thead tr:only-child th {\n",
       "        text-align: right;\n",
       "    }\n",
       "\n",
       "    .dataframe thead th {\n",
       "        text-align: left;\n",
       "    }\n",
       "\n",
       "    .dataframe tbody tr th {\n",
       "        vertical-align: top;\n",
       "    }\n",
       "</style>\n",
       "<table border=\"1\" class=\"dataframe\">\n",
       "  <thead>\n",
       "    <tr style=\"text-align: right;\">\n",
       "      <th></th>\n",
       "      <th>count</th>\n",
       "      <th>mean</th>\n",
       "      <th>std</th>\n",
       "      <th>min</th>\n",
       "      <th>25%</th>\n",
       "      <th>50%</th>\n",
       "      <th>75%</th>\n",
       "      <th>max</th>\n",
       "    </tr>\n",
       "  </thead>\n",
       "  <tbody>\n",
       "    <tr>\n",
       "      <th>0</th>\n",
       "      <td>800.0</td>\n",
       "      <td>0.000000e+00</td>\n",
       "      <td>0.000000</td>\n",
       "      <td>0.000000</td>\n",
       "      <td>0.000000</td>\n",
       "      <td>0.000000</td>\n",
       "      <td>0.000000</td>\n",
       "      <td>0.000000</td>\n",
       "    </tr>\n",
       "    <tr>\n",
       "      <th>1</th>\n",
       "      <td>800.0</td>\n",
       "      <td>0.000000e+00</td>\n",
       "      <td>0.000000</td>\n",
       "      <td>0.000000</td>\n",
       "      <td>0.000000</td>\n",
       "      <td>0.000000</td>\n",
       "      <td>0.000000</td>\n",
       "      <td>0.000000</td>\n",
       "    </tr>\n",
       "    <tr>\n",
       "      <th>2</th>\n",
       "      <td>800.0</td>\n",
       "      <td>2.445821e-15</td>\n",
       "      <td>1.000626</td>\n",
       "      <td>-1.221561</td>\n",
       "      <td>-1.221561</td>\n",
       "      <td>0.818625</td>\n",
       "      <td>0.818625</td>\n",
       "      <td>0.818625</td>\n",
       "    </tr>\n",
       "    <tr>\n",
       "      <th>3</th>\n",
       "      <td>800.0</td>\n",
       "      <td>-8.604228e-17</td>\n",
       "      <td>1.000626</td>\n",
       "      <td>-1.333814</td>\n",
       "      <td>-0.837742</td>\n",
       "      <td>-0.341670</td>\n",
       "      <td>1.022529</td>\n",
       "      <td>1.518601</td>\n",
       "    </tr>\n",
       "    <tr>\n",
       "      <th>4</th>\n",
       "      <td>800.0</td>\n",
       "      <td>8.104628e-17</td>\n",
       "      <td>1.000626</td>\n",
       "      <td>-1.722545</td>\n",
       "      <td>-0.853268</td>\n",
       "      <td>0.016009</td>\n",
       "      <td>0.885286</td>\n",
       "      <td>1.696611</td>\n",
       "    </tr>\n",
       "    <tr>\n",
       "      <th>5</th>\n",
       "      <td>800.0</td>\n",
       "      <td>0.000000e+00</td>\n",
       "      <td>0.000000</td>\n",
       "      <td>0.000000</td>\n",
       "      <td>0.000000</td>\n",
       "      <td>0.000000</td>\n",
       "      <td>0.000000</td>\n",
       "      <td>0.000000</td>\n",
       "    </tr>\n",
       "  </tbody>\n",
       "</table>\n",
       "</div>"
      ],
      "text/plain": [
       "   count          mean       std       min       25%       50%       75%  \\\n",
       "0  800.0  0.000000e+00  0.000000  0.000000  0.000000  0.000000  0.000000   \n",
       "1  800.0  0.000000e+00  0.000000  0.000000  0.000000  0.000000  0.000000   \n",
       "2  800.0  2.445821e-15  1.000626 -1.221561 -1.221561  0.818625  0.818625   \n",
       "3  800.0 -8.604228e-17  1.000626 -1.333814 -0.837742 -0.341670  1.022529   \n",
       "4  800.0  8.104628e-17  1.000626 -1.722545 -0.853268  0.016009  0.885286   \n",
       "5  800.0  0.000000e+00  0.000000  0.000000  0.000000  0.000000  0.000000   \n",
       "\n",
       "        max  \n",
       "0  0.000000  \n",
       "1  0.000000  \n",
       "2  0.818625  \n",
       "3  1.518601  \n",
       "4  1.696611  \n",
       "5  0.000000  "
      ]
     },
     "execution_count": 12,
     "metadata": {},
     "output_type": "execute_result"
    }
   ],
   "source": [
    "pd.DataFrame(X_train).describe().T   # 最主要的就是std中的变化"
   ]
  },
  {
   "cell_type": "markdown",
   "metadata": {},
   "source": [
    "##### 6、模型训练 + 预测 + 评估\n",
    "—— LinearRegression() 线性回归模型\n",
    "\n",
    "    fit_intercept: 训练的模型是否包含截距，默认为为True，表示包含\n",
    "    coef_ ：模型训练好后的参数矩阵，即theta们的值 ；注意还有一个下划线\n",
    "    intercept_: 截距值\n",
    "\n",
    "—— .score(X,Y) 计算准确率  R^2"
   ]
  },
  {
   "cell_type": "code",
   "execution_count": 23,
   "metadata": {
    "scrolled": true
   },
   "outputs": [
    {
     "name": "stdout",
     "output_type": "stream",
     "text": [
      "训练集准确率R**2: 0.231659610244\n",
      "测试集准确率R**2: 0.128847229601\n",
      "MSE: 1.34994931642\n"
     ]
    }
   ],
   "source": [
    "# 模型训练\n",
    "# lr = LinearRegression()   # 得到模型 lr，该模型求最优线性回归\n",
    "lr = SGDRegressor(learning_rate='constant')\n",
    "lr.fit(X_train, Y_train) # 训练模型，拟合线性回归模型，获得X与Y之间的关系模型。lr可以理解为训练完成的模型，再用这个模型去预测、评估\n",
    "# lr = LinearRegression().fit(X_train, Y_train) 上面两步实际上是这样的，lr就是标准化后的模型\n",
    "\n",
    "# 预测结果\n",
    "y_predict = lr.predict(X_test)   # 训练好的模型形成了一个目标函数，用该目标函数去预测测试值\n",
    "\n",
    "# 模型评估\n",
    "print(\"训练集准确率R**2:\",lr.score(X_train, Y_train))   # 获取训练集的准确率\n",
    "print(\"测试集准确率R**2:\",lr.score(X_test, Y_test))    # 获取测试集的准确率\n",
    "MSE = np.average((y_predict-Y_test)**2)   # 看预测结果与实际结果的MSE差值\n",
    "print(\"MSE:\",MSE)"
   ]
  },
  {
   "cell_type": "markdown",
   "metadata": {},
   "source": [
    "##### 模型的部署，即保存模型\n",
    "机器学习的部署方法：方法一，将模型进行输出；方法二，将预测结果输出\n",
    "\n",
    "—— .dump() 保存模型\n",
    "\n",
    "—— .load() 加载模型"
   ]
  },
  {
   "cell_type": "code",
   "execution_count": 14,
   "metadata": {
    "collapsed": true
   },
   "outputs": [],
   "source": [
    "from sklearn.externals import joblib\n",
    "\n",
    "joblib.dump(ss, \"data_ss.model\") ## 保存标准化模型\n",
    "joblib.dump(lr, \"data_lr.model\") ## 保存模型\n",
    "\n",
    "ss = joblib.load(\"data_ss.model\") ## 加载标准化模型\n",
    "lr = joblib.load(\"data_lr.model\") ## 加载模型"
   ]
  },
  {
   "cell_type": "markdown",
   "metadata": {},
   "source": [
    "##### 使用部署好的模型进行预测"
   ]
  },
  {
   "cell_type": "code",
   "execution_count": 15,
   "metadata": {},
   "outputs": [
    {
     "name": "stdout",
     "output_type": "stream",
     "text": [
      "[[ 0.          0.          0.81862454  0.15440249 -0.27374978  0.        ]]\n"
     ]
    },
    {
     "data": {
      "text/plain": [
       "array([1.16996393])"
      ]
     },
     "execution_count": 15,
     "metadata": {},
     "output_type": "execute_result"
    }
   ],
   "source": [
    "data1 = [[2006, 12, 17, 12, 25, 0]]\n",
    "data1 = ss.transform(data1)   # 标准化时间样本\n",
    "print(data1)\n",
    "\n",
    "lr.predict(data1)   # 输出预测值"
   ]
  },
  {
   "cell_type": "markdown",
   "metadata": {},
   "source": [
    "##### 6、预测值和实际值画图比较"
   ]
  },
  {
   "cell_type": "code",
   "execution_count": 16,
   "metadata": {
    "scrolled": true
   },
   "outputs": [
    {
     "data": {
      "image/png": "[encoded data removed]",
      "text/plain": [
       "<Figure size 432x288 with 1 Axes>"
      ]
     },
     "metadata": {},
     "output_type": "display_data"
    }
   ],
   "source": [
    "plt.figure(facecolor='w')   # 建一个画布，facecolor是背景色\n",
    "\n",
    "t=np.arange(len(X_test))   # 用测试值范围（时间坐标）做x坐标\n",
    "plt.plot(t, Y_test, 'r-', linewidth=2, label='真实值')\n",
    "plt.plot(t, y_predict, 'g-', linewidth=2, label='预测值')\n",
    "\n",
    "plt.legend(loc = 'upper left')  # 设置图例的位置\n",
    "plt.title(\"线性回归预测时间和功率之间的关系\", fontsize=20)\n",
    "plt.grid()   # 加网格\n",
    "\n",
    "plt.show()"
   ]
  },
  {
   "cell_type": "markdown",
   "metadata": {},
   "source": [
    "# 功率和电流之间的关系"
   ]
  },
  {
   "cell_type": "code",
   "execution_count": 17,
   "metadata": {},
   "outputs": [
    {
     "name": "stdout",
     "output_type": "stream",
     "text": [
      "电流预测准确率:  0.9920420609708968\n",
      "电流参数: [5.07744316 0.07191391]\n"
     ]
    },
    {
     "data": {
      "image/png": "[encoded data removed]",
      "text/plain": [
       "<Figure size 432x288 with 1 Axes>"
      ]
     },
     "metadata": {},
     "output_type": "display_data"
    }
   ],
   "source": [
    "X2 = datas.iloc[:,2:4]\n",
    "Y2 = datas.iloc[:,5]\n",
    "\n",
    "# 1、数据分割\n",
    "X2_train,X2_test,Y2_train,Y2_test = train_test_split(X2, Y2, test_size=0.2, random_state=0)\n",
    "\n",
    "# 2、数据标准化（归一化）\n",
    "scaler2 = StandardScaler()\n",
    "X2_train = scaler2.fit_transform(X2_train) # 训练并转换\n",
    "X2_test = scaler2.transform(X2_test) ## 直接使用在模型构建数据上进行一个数据标准化操作 \n",
    "\n",
    "# 3、模型训练\n",
    "lr2 = LinearRegression()\n",
    "lr2.fit(X2_train, Y2_train)\n",
    "\n",
    "# 4、结果预测\n",
    "Y2_predict = lr2.predict(X2_test)\n",
    "\n",
    "# 5、模型评估\n",
    "print(\"电流预测准确率: \", lr2.score(X2_test,Y2_test))\n",
    "print(\"电流参数:\", lr2.coef_)\n",
    "\n",
    "# 6、绘制图表——电流关系\n",
    "t=np.arange(len(X2_test))   # 把X2_test数值压缩在x坐标上，方便查看 \n",
    "\n",
    "plt.figure(facecolor='w')\n",
    "plt.plot(t, Y2_test, 'r-', linewidth=2, label='真实值')   # 红线\n",
    "plt.plot(t, Y2_predict, 'g-', linewidth=2, label='预测值')   # 绿线\n",
    "plt.legend(loc = 'lower right')\n",
    "plt.title(u\"线性回归预测功率与电流之间的关系\", fontsize=20)\n",
    "plt.grid(b=True)\n",
    "plt.show()"
   ]
  }
 ],
 "metadata": {
  "anaconda-cloud": {},
  "kernelspec": {
   "display_name": "Python 3",
   "language": "python",
   "name": "python3"
  },
  "language_info": {
   "codemirror_mode": {
    "name": "ipython",
    "version": 3
   },
   "file_extension": ".py",
   "mimetype": "text/x-python",
   "name": "python",
   "nbconvert_exporter": "python",
   "pygments_lexer": "ipython3",
   "version": "3.6.2"
  }
 },
 "nbformat": 4,
 "nbformat_minor": 1
}
