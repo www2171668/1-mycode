{
 "cells": [
  {
   "cell_type": "code",
   "execution_count": 1,
   "metadata": {
    "collapsed": true
   },
   "outputs": [],
   "source": [
    "import numpy as np\n",
    "import pandas as pd\n",
    "import matplotlib as mpl\n",
    "import matplotlib.colors\n",
    "import matplotlib.pyplot as plt\n",
    "\n",
    "from sklearn.mixture import GaussianMixture\n",
    "from sklearn.model_selection import train_test_split"
   ]
  },
  {
   "cell_type": "code",
   "execution_count": 2,
   "metadata": {
    "collapsed": true
   },
   "outputs": [],
   "source": [
    "# 解决中文显示问题\n",
    "mpl.rcParams['font.sans-serif'] = [u'SimHei']\n",
    "mpl.rcParams['axes.unicode_minus'] = False"
   ]
  },
  {
   "cell_type": "code",
   "execution_count": 3,
   "metadata": {
    "collapsed": true
   },
   "outputs": [],
   "source": [
    "# 设置在jupyter中matplotlib的显示情况（默认inline是内嵌显示，通过设置为tk表示不内嵌显示）\n",
    "%matplotlib tk"
   ]
  },
  {
   "cell_type": "code",
   "execution_count": 4,
   "metadata": {
    "collapsed": false
   },
   "outputs": [
    {
     "name": "stdout",
     "output_type": "stream",
     "text": [
      "数据样本数量:114, 特征数量:3\n"
     ]
    },
    {
     "data": {
      "text/html": [
       "<div>\n",
       "<table border=\"1\" class=\"dataframe\">\n",
       "  <thead>\n",
       "    <tr style=\"text-align: right;\">\n",
       "      <th></th>\n",
       "      <th>Sex</th>\n",
       "      <th>Height(cm)</th>\n",
       "      <th>Weight(kg)</th>\n",
       "    </tr>\n",
       "  </thead>\n",
       "  <tbody>\n",
       "    <tr>\n",
       "      <th>0</th>\n",
       "      <td>0</td>\n",
       "      <td>156.0</td>\n",
       "      <td>50.0</td>\n",
       "    </tr>\n",
       "    <tr>\n",
       "      <th>1</th>\n",
       "      <td>0</td>\n",
       "      <td>160.0</td>\n",
       "      <td>60.0</td>\n",
       "    </tr>\n",
       "    <tr>\n",
       "      <th>2</th>\n",
       "      <td>0</td>\n",
       "      <td>162.0</td>\n",
       "      <td>54.0</td>\n",
       "    </tr>\n",
       "    <tr>\n",
       "      <th>3</th>\n",
       "      <td>0</td>\n",
       "      <td>162.0</td>\n",
       "      <td>55.0</td>\n",
       "    </tr>\n",
       "    <tr>\n",
       "      <th>4</th>\n",
       "      <td>0</td>\n",
       "      <td>160.5</td>\n",
       "      <td>56.0</td>\n",
       "    </tr>\n",
       "  </tbody>\n",
       "</table>\n",
       "</div>"
      ],
      "text/plain": [
       "   Sex  Height(cm)  Weight(kg)\n",
       "0    0       156.0        50.0\n",
       "1    0       160.0        60.0\n",
       "2    0       162.0        54.0\n",
       "3    0       162.0        55.0\n",
       "4    0       160.5        56.0"
      ]
     },
     "execution_count": 4,
     "metadata": {},
     "output_type": "execute_result"
    }
   ],
   "source": [
    "## 数据加载\n",
    "data = pd.read_csv('datas/HeightWeight.csv')\n",
    "print (\"数据样本数量:%d, 特征数量:%d\" % data.shape)\n",
    "data_x = data[data.columns[1:]]\n",
    "data_y = data[data.columns[0]]\n",
    "data.head()"
   ]
  },
  {
   "cell_type": "code",
   "execution_count": 5,
   "metadata": {
    "collapsed": true
   },
   "outputs": [],
   "source": [
    "## 数据分割\n",
    "x, x_test, y, y_test = train_test_split(data_x, data_y, train_size=0.6, random_state=0)"
   ]
  },
  {
   "cell_type": "code",
   "execution_count": 6,
   "metadata": {
    "collapsed": false
   },
   "outputs": [
    {
     "data": {
      "text/plain": [
       "GaussianMixture(covariance_type='full', init_params='kmeans', max_iter=100,\n",
       "        means_init=None, n_components=2, n_init=1, precisions_init=None,\n",
       "        random_state=28, reg_covar=1e-06, tol=0.001, verbose=0,\n",
       "        verbose_interval=10, warm_start=False, weights_init=None)"
      ]
     },
     "execution_count": 6,
     "metadata": {},
     "output_type": "execute_result"
    }
   ],
   "source": [
    "## 模型创建及训练\n",
    "gmm = GaussianMixture(n_components=2, covariance_type='full', random_state=28)\n",
    "gmm.fit(x, y)"
   ]
  },
  {
   "cell_type": "code",
   "execution_count": 7,
   "metadata": {
    "collapsed": false
   },
   "outputs": [
    {
     "name": "stdout",
     "output_type": "stream",
     "text": [
      "均值 = \n",
      " [[173.50243688  65.03359308]\n",
      " [160.13983374  55.93370575]]\n",
      "方差 = \n",
      " [[[ 23.22794989  28.48688647]\n",
      "  [ 28.48688647 105.81824734]]\n",
      "\n",
      " [[ 18.82128194  12.30370549]\n",
      "  [ 12.30370549  31.23596113]]]\n"
     ]
    }
   ],
   "source": [
    "## 模型相关参数输出\n",
    "print ('均值 = \\n', gmm.means_)\n",
    "print ('方差 = \\n', gmm.covariances_)"
   ]
  },
  {
   "cell_type": "code",
   "execution_count": 8,
   "metadata": {
    "collapsed": false
   },
   "outputs": [
    {
     "name": "stdout",
     "output_type": "stream",
     "text": [
      "训练集准确率：77.94%\n",
      "测试集准确率：82.61%\n"
     ]
    }
   ],
   "source": [
    "## 获取推测值及计算准确率\n",
    "\n",
    "# 获取预测值\n",
    "y_hat = gmm.predict(x)\n",
    "y_test_hat = gmm.predict(x_test)\n",
    "\n",
    "# 查看一下类别是否需要更改一下\n",
    "change = (gmm.means_[0][0] > gmm.means_[1][0])\n",
    "if change:\n",
    "    z = y_hat == 0\n",
    "    y_hat[z] = 1\n",
    "    y_hat[~z] = 0\n",
    "    z = y_test_hat == 0\n",
    "    y_test_hat[z] = 1\n",
    "    y_test_hat[~z] = 0\n",
    "\n",
    "# 计算准确率\n",
    "acc = np.mean(y_hat.ravel() == y.ravel())\n",
    "acc_test = np.mean(y_test_hat.ravel() == y_test.ravel())\n",
    "acc_str = u'训练集准确率：%.2f%%' % (acc * 100)\n",
    "acc_test_str = u'测试集准确率：%.2f%%' % (acc_test * 100)\n",
    "print (acc_str)\n",
    "print (acc_test_str)"
   ]
  },
  {
   "cell_type": "code",
   "execution_count": 10,
   "metadata": {
    "collapsed": false,
    "scrolled": false
   },
   "outputs": [
    {
     "name": "stdout",
     "output_type": "stream",
     "text": [
      "预测概率:\n",
      " [[1.93708432e-06 9.99998063e-01]\n",
      " [1.86096898e-06 9.99998139e-01]\n",
      " [1.78850013e-06 9.99998211e-01]\n",
      " ...\n",
      " [1.00000000e+00 9.76068785e-12]\n",
      " [1.00000000e+00 8.93577443e-12]\n",
      " [1.00000000e+00 8.17757876e-12]]\n"
     ]
    }
   ],
   "source": [
    "## 画图\n",
    "cm_light = mpl.colors.ListedColormap(['#FFA0A0', '#A0FFA0'])\n",
    "cm_dark = mpl.colors.ListedColormap(['r', 'g'])\n",
    "\n",
    "# 获取数据的最大值和最小值\n",
    "x1_min, x2_min = np.min(data_x)\n",
    "x1_max, x2_max = np.max(data_x)\n",
    "x1_d = (x1_max - x1_min) * 0.05\n",
    "x1_min -= x1_d\n",
    "x1_max += x1_d\n",
    "x2_d = (x2_max - x2_min) * 0.05\n",
    "x2_min -= x2_d\n",
    "x2_max += x2_d\n",
    "\n",
    "# 获取网格预测数据\n",
    "x1, x2 = np.mgrid[x1_min:x1_max:500j, x2_min:x2_max:500j]\n",
    "grid_test = np.stack((x1.flat, x2.flat), axis=1)\n",
    "grid_hat = gmm.predict(grid_test)\n",
    "grid_hat = grid_hat.reshape(x1.shape)\n",
    "# 如果预测的结果需要进行更改\n",
    "if change:\n",
    "    z = grid_hat == 0\n",
    "    grid_hat[z] = 1\n",
    "    grid_hat[~z] = 0\n",
    "\n",
    "# 画图开始\n",
    "plt.figure(figsize=(8, 6), facecolor='w')\n",
    "\n",
    "# 画区域图\n",
    "plt.pcolormesh(x1, x2, grid_hat, cmap=cm_light)\n",
    "\n",
    "# 画点图\n",
    "plt.scatter(x[x.columns[0]], x[x.columns[1]], s=50, c=y, marker='o', cmap=cm_dark, edgecolors='k')\n",
    "plt.scatter(x_test[x_test.columns[0]], x_test[x_test.columns[1]], s=60, c=y_test, marker='^', cmap=cm_dark, edgecolors='k')\n",
    "\n",
    "# 获取预测概率\n",
    "aaa = gmm.predict_proba(grid_test)\n",
    "print (\"预测概率:\\n\", aaa)\n",
    "p = aaa[:, 0].reshape(x1.shape)\n",
    "# 根据概率画出曲线图（画出不同概率情况下的预测结果值）\n",
    "CS = plt.contour(x1, x2, p, levels=(0.1, 0.3, 0.5, 0.8), colors=list('crgb'), linewidths=2)\n",
    "plt.clabel(CS, fontsize=15, fmt='%.1f', inline=True)\n",
    "\n",
    "# 设置值\n",
    "ax1_min, ax1_max, ax2_min, ax2_max = plt.axis()\n",
    "xx = 0.9*ax1_min + 0.1*ax1_max\n",
    "yy = 0.1*ax2_min + 0.9*ax2_max\n",
    "plt.text(xx, yy, acc_str, fontsize=18)\n",
    "yy = 0.15*ax2_min + 0.85*ax2_max\n",
    "plt.text(xx, yy, acc_test_str, fontsize=18)\n",
    "\n",
    "# 设置范围及标签\n",
    "plt.xlim((x1_min, x1_max))\n",
    "plt.ylim((x2_min, x2_max))\n",
    "plt.xlabel(u'身高(cm)', fontsize='large')\n",
    "plt.ylabel(u'体重(kg)', fontsize='large')\n",
    "plt.title(u'GMM算法及不同比率值下的算法模型', fontsize=20)\n",
    "plt.grid()\n",
    "plt.show()"
   ]
  },
  {
   "cell_type": "code",
   "execution_count": null,
   "metadata": {
    "collapsed": true
   },
   "outputs": [],
   "source": []
  }
 ],
 "metadata": {
  "kernelspec": {
   "display_name": "Python 3",
   "language": "python",
   "name": "python3"
  },
  "language_info": {
   "codemirror_mode": {
    "name": "ipython",
    "version": 3
   },
   "file_extension": ".py",
   "mimetype": "text/x-python",
   "name": "python",
   "nbconvert_exporter": "python",
   "pygments_lexer": "ipython3",
   "version": "3.6.0"
  }
 },
 "nbformat": 4,
 "nbformat_minor": 2
}
