{
 "cells": [
  {
   "cell_type": "code",
   "execution_count": 3,
   "metadata": {
    "collapsed": true
   },
   "outputs": [],
   "source": [
    "import numpy as np\n",
    "import pandas as pd"
   ]
  },
  {
   "cell_type": "markdown",
   "metadata": {},
   "source": [
    "# 多层Series"
   ]
  },
  {
   "cell_type": "code",
   "execution_count": 78,
   "metadata": {},
   "outputs": [
    {
     "data": {
      "text/plain": [
       "2016  苹果    100\n",
       "      香蕉    200\n",
       "      西瓜    122\n",
       "2017  苹果    150\n",
       "      西瓜    180\n",
       "dtype: int64"
      ]
     },
     "execution_count": 78,
     "metadata": {},
     "output_type": "execute_result"
    }
   ],
   "source": [
    "data = pd.Series([100,200,122,150,180],\n",
    "                 index = [\n",
    "                     ['2016','2016','2016','2017','2017'],\n",
    "                     ['苹果','香蕉','西瓜','苹果','西瓜']   #双层index\n",
    "                 ])\n",
    "data"
   ]
  },
  {
   "cell_type": "code",
   "execution_count": 79,
   "metadata": {},
   "outputs": [
    {
     "data": {
      "text/plain": [
       "苹果    100\n",
       "香蕉    200\n",
       "西瓜    122\n",
       "dtype: int64"
      ]
     },
     "execution_count": 79,
     "metadata": {},
     "output_type": "execute_result"
    }
   ],
   "source": [
    "data['2016']   #对于第一列index，和普通方法一样，直接索引"
   ]
  },
  {
   "cell_type": "code",
   "execution_count": 80,
   "metadata": {},
   "outputs": [
    {
     "name": "stdout",
     "output_type": "stream",
     "text": [
      "100\n",
      "\n",
      "2016    100\n",
      "2017    150\n",
      "dtype: int64\n"
     ]
    }
   ],
   "source": [
    "# data['苹果']  # 对于多层index数据，使用第n列index值时，必须保证[ ，, ...]结构，即花式索引结构，以索引后续列之前的列index值\n",
    "print(data['2016','苹果'])\n",
    "print()\n",
    "print(data[:,'苹果'])"
   ]
  },
  {
   "cell_type": "markdown",
   "metadata": {},
   "source": [
    "—— ﹡.swaplevel() 重排分级顺序\n",
    "\n",
    "—— ﹡.swaplevel().sort_index() 交换分层索引"
   ]
  },
  {
   "cell_type": "code",
   "execution_count": 81,
   "metadata": {},
   "outputs": [
    {
     "data": {
      "text/plain": [
       "苹果  2016    100\n",
       "    2017    150\n",
       "西瓜  2016    122\n",
       "    2017    180\n",
       "香蕉  2016    200\n",
       "dtype: int64"
      ]
     },
     "execution_count": 81,
     "metadata": {},
     "output_type": "execute_result"
    }
   ],
   "source": [
    "data01 = data.swaplevel().sort_index()\n",
    "data01"
   ]
  },
  {
   "cell_type": "markdown",
   "metadata": {},
   "source": [
    "—— unstack(level = ) 删除level列index\n",
    "\n",
    "—— stack(level = ) 将level行columns转换为index\n",
    "\n",
    "转变为DataFrame 索引的堆"
   ]
  },
  {
   "cell_type": "code",
   "execution_count": 83,
   "metadata": {},
   "outputs": [
    {
     "data": {
      "text/html": [
       "<div>\n",
       "<style scoped>\n",
       "    .dataframe tbody tr th:only-of-type {\n",
       "        vertical-align: middle;\n",
       "    }\n",
       "\n",
       "    .dataframe tbody tr th {\n",
       "        vertical-align: top;\n",
       "    }\n",
       "\n",
       "    .dataframe thead th {\n",
       "        text-align: right;\n",
       "    }\n",
       "</style>\n",
       "<table border=\"1\" class=\"dataframe\">\n",
       "  <thead>\n",
       "    <tr style=\"text-align: right;\">\n",
       "      <th></th>\n",
       "      <th>2016</th>\n",
       "      <th>2017</th>\n",
       "    </tr>\n",
       "  </thead>\n",
       "  <tbody>\n",
       "    <tr>\n",
       "      <th>苹果</th>\n",
       "      <td>100.0</td>\n",
       "      <td>150.0</td>\n",
       "    </tr>\n",
       "    <tr>\n",
       "      <th>西瓜</th>\n",
       "      <td>122.0</td>\n",
       "      <td>180.0</td>\n",
       "    </tr>\n",
       "    <tr>\n",
       "      <th>香蕉</th>\n",
       "      <td>200.0</td>\n",
       "      <td>NaN</td>\n",
       "    </tr>\n",
       "  </tbody>\n",
       "</table>\n",
       "</div>"
      ],
      "text/plain": [
       "     2016   2017\n",
       "苹果  100.0  150.0\n",
       "西瓜  122.0  180.0\n",
       "香蕉  200.0    NaN"
      ]
     },
     "execution_count": 83,
     "metadata": {},
     "output_type": "execute_result"
    }
   ],
   "source": [
    "data02 = data.unstack(level = 0 )   #level=0，删除第0列的index\n",
    "data02"
   ]
  },
  {
   "cell_type": "code",
   "execution_count": 63,
   "metadata": {},
   "outputs": [
    {
     "name": "stdout",
     "output_type": "stream",
     "text": [
      "苹果  2016    100.0\n",
      "    2017    150.0\n",
      "西瓜  2016    122.0\n",
      "    2017    180.0\n",
      "香蕉  2016    200.0\n",
      "dtype: float64\n",
      "\n",
      "2016  苹果    100.0\n",
      "      西瓜    122.0\n",
      "      香蕉    200.0\n",
      "2017  苹果    150.0\n",
      "      西瓜    180.0\n",
      "dtype: float64\n"
     ]
    }
   ],
   "source": [
    "data02 = data02.stack(level = 0)\n",
    "print(data02)\n",
    "print()\n",
    "print(data02.swaplevel().sort_index())"
   ]
  },
  {
   "cell_type": "markdown",
   "metadata": {},
   "source": [
    "# DataFrame层次索引"
   ]
  },
  {
   "cell_type": "markdown",
   "metadata": {},
   "source": [
    "—— *.set_index([]) 将指定列设置为index"
   ]
  },
  {
   "cell_type": "code",
   "execution_count": 4,
   "metadata": {},
   "outputs": [
    {
     "data": {
      "text/html": [
       "<div>\n",
       "<style>\n",
       "    .dataframe thead tr:only-child th {\n",
       "        text-align: right;\n",
       "    }\n",
       "\n",
       "    .dataframe thead th {\n",
       "        text-align: left;\n",
       "    }\n",
       "\n",
       "    .dataframe tbody tr th {\n",
       "        vertical-align: top;\n",
       "    }\n",
       "</style>\n",
       "<table border=\"1\" class=\"dataframe\">\n",
       "  <thead>\n",
       "    <tr style=\"text-align: right;\">\n",
       "      <th></th>\n",
       "      <th>fruit</th>\n",
       "      <th>production</th>\n",
       "      <th>profits</th>\n",
       "      <th>year</th>\n",
       "    </tr>\n",
       "  </thead>\n",
       "  <tbody>\n",
       "    <tr>\n",
       "      <th>0</th>\n",
       "      <td>apple</td>\n",
       "      <td>2345</td>\n",
       "      <td>233.44</td>\n",
       "      <td>2010</td>\n",
       "    </tr>\n",
       "    <tr>\n",
       "      <th>1</th>\n",
       "      <td>banana</td>\n",
       "      <td>3214</td>\n",
       "      <td>355.23</td>\n",
       "      <td>2010</td>\n",
       "    </tr>\n",
       "    <tr>\n",
       "      <th>2</th>\n",
       "      <td>apple</td>\n",
       "      <td>5663</td>\n",
       "      <td>566.45</td>\n",
       "      <td>2012</td>\n",
       "    </tr>\n",
       "    <tr>\n",
       "      <th>3</th>\n",
       "      <td>banana</td>\n",
       "      <td>2341</td>\n",
       "      <td>678.56</td>\n",
       "      <td>2012</td>\n",
       "    </tr>\n",
       "    <tr>\n",
       "      <th>4</th>\n",
       "      <td>apple</td>\n",
       "      <td>3523</td>\n",
       "      <td>755.89</td>\n",
       "      <td>2013</td>\n",
       "    </tr>\n",
       "  </tbody>\n",
       "</table>\n",
       "</div>"
      ],
      "text/plain": [
       "    fruit  production  profits  year\n",
       "0   apple        2345   233.44  2010\n",
       "1  banana        3214   355.23  2010\n",
       "2   apple        5663   566.45  2012\n",
       "3  banana        2341   678.56  2012\n",
       "4   apple        3523   755.89  2013"
      ]
     },
     "execution_count": 4,
     "metadata": {},
     "output_type": "execute_result"
    }
   ],
   "source": [
    "df = pd.DataFrame({\n",
    "    'year':[2010,2010,2012,2012,2013],\n",
    "    'fruit':['apple','banana','apple','banana','apple'],\n",
    "    'production':[2345,3214,5663,2341,3523],\n",
    "    'profits':[233.44,355.23,566.45,678.56,755.89]\n",
    "})\n",
    "df"
   ]
  },
  {
   "cell_type": "code",
   "execution_count": 5,
   "metadata": {},
   "outputs": [
    {
     "data": {
      "text/html": [
       "<div>\n",
       "<style>\n",
       "    .dataframe thead tr:only-child th {\n",
       "        text-align: right;\n",
       "    }\n",
       "\n",
       "    .dataframe thead th {\n",
       "        text-align: left;\n",
       "    }\n",
       "\n",
       "    .dataframe tbody tr th {\n",
       "        vertical-align: top;\n",
       "    }\n",
       "</style>\n",
       "<table border=\"1\" class=\"dataframe\">\n",
       "  <thead>\n",
       "    <tr style=\"text-align: right;\">\n",
       "      <th></th>\n",
       "      <th></th>\n",
       "      <th>production</th>\n",
       "      <th>profits</th>\n",
       "    </tr>\n",
       "    <tr>\n",
       "      <th>year</th>\n",
       "      <th>fruit</th>\n",
       "      <th></th>\n",
       "      <th></th>\n",
       "    </tr>\n",
       "  </thead>\n",
       "  <tbody>\n",
       "    <tr>\n",
       "      <th rowspan=\"2\" valign=\"top\">2010</th>\n",
       "      <th>apple</th>\n",
       "      <td>2345</td>\n",
       "      <td>233.44</td>\n",
       "    </tr>\n",
       "    <tr>\n",
       "      <th>banana</th>\n",
       "      <td>3214</td>\n",
       "      <td>355.23</td>\n",
       "    </tr>\n",
       "    <tr>\n",
       "      <th rowspan=\"2\" valign=\"top\">2012</th>\n",
       "      <th>apple</th>\n",
       "      <td>5663</td>\n",
       "      <td>566.45</td>\n",
       "    </tr>\n",
       "    <tr>\n",
       "      <th>banana</th>\n",
       "      <td>2341</td>\n",
       "      <td>678.56</td>\n",
       "    </tr>\n",
       "    <tr>\n",
       "      <th>2013</th>\n",
       "      <th>apple</th>\n",
       "      <td>3523</td>\n",
       "      <td>755.89</td>\n",
       "    </tr>\n",
       "  </tbody>\n",
       "</table>\n",
       "</div>"
      ],
      "text/plain": [
       "             production  profits\n",
       "year fruit                      \n",
       "2010 apple         2345   233.44\n",
       "     banana        3214   355.23\n",
       "2012 apple         5663   566.45\n",
       "     banana        2341   678.56\n",
       "2013 apple         3523   755.89"
      ]
     },
     "execution_count": 5,
     "metadata": {},
     "output_type": "execute_result"
    }
   ],
   "source": [
    "df = df.set_index(['year','fruit'])   # 此时会自动删除系统默认提供的index(行索引)\n",
    "df   # 这里的year和fruit不是columns，而是index的header"
   ]
  },
  {
   "cell_type": "code",
   "execution_count": 6,
   "metadata": {},
   "outputs": [
    {
     "name": "stdout",
     "output_type": "stream",
     "text": [
      "production    2345.00\n",
      "profits        233.44\n",
      "Name: (2010, apple), dtype: float64\n",
      "\n",
      "2345.0\n"
     ]
    }
   ],
   "source": [
    "print(df.loc[2010,'apple'])   #行索引\n",
    "print()\n",
    "print(df.loc[2010,'apple']['production'])   # 非花式索引"
   ]
  },
  {
   "cell_type": "code",
   "execution_count": 17,
   "metadata": {},
   "outputs": [
    {
     "data": {
      "text/html": [
       "<div>\n",
       "<style>\n",
       "    .dataframe thead tr:only-child th {\n",
       "        text-align: right;\n",
       "    }\n",
       "\n",
       "    .dataframe thead th {\n",
       "        text-align: left;\n",
       "    }\n",
       "\n",
       "    .dataframe tbody tr th {\n",
       "        vertical-align: top;\n",
       "    }\n",
       "</style>\n",
       "<table border=\"1\" class=\"dataframe\">\n",
       "  <thead>\n",
       "    <tr style=\"text-align: right;\">\n",
       "      <th></th>\n",
       "      <th>production</th>\n",
       "      <th>profits</th>\n",
       "    </tr>\n",
       "    <tr>\n",
       "      <th>fruit</th>\n",
       "      <th></th>\n",
       "      <th></th>\n",
       "    </tr>\n",
       "  </thead>\n",
       "  <tbody>\n",
       "    <tr>\n",
       "      <th>apple</th>\n",
       "      <td>3843.666667</td>\n",
       "      <td>518.593333</td>\n",
       "    </tr>\n",
       "    <tr>\n",
       "      <th>banana</th>\n",
       "      <td>2777.500000</td>\n",
       "      <td>516.895000</td>\n",
       "    </tr>\n",
       "  </tbody>\n",
       "</table>\n",
       "</div>"
      ],
      "text/plain": [
       "         production     profits\n",
       "fruit                          \n",
       "apple   3843.666667  518.593333\n",
       "banana  2777.500000  516.895000"
      ]
     },
     "execution_count": 17,
     "metadata": {},
     "output_type": "execute_result"
    }
   ],
   "source": [
    "df.mean(level = 'fruit')   # 由于DataFrame中的index有header，所以可以用level = header 来获取相应index列"
   ]
  },
  {
   "cell_type": "code",
   "execution_count": null,
   "metadata": {
    "collapsed": true
   },
   "outputs": [],
   "source": []
  }
 ],
 "metadata": {
  "kernelspec": {
   "display_name": "Python 3",
   "language": "python",
   "name": "python3"
  },
  "language_info": {
   "codemirror_mode": {
    "name": "ipython",
    "version": 3
   },
   "file_extension": ".py",
   "mimetype": "text/x-python",
   "name": "python",
   "nbconvert_exporter": "python",
   "pygments_lexer": "ipython3",
   "version": "3.6.2"
  }
 },
 "nbformat": 4,
 "nbformat_minor": 2
}
