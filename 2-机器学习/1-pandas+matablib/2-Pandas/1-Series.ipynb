{
 "cells": [
  {
   "cell_type": "code",
   "execution_count": 1,
   "metadata": {
    "collapsed": true
   },
   "outputs": [],
   "source": [
    "import numpy as np\n",
    "import pandas as pd"
   ]
  },
  {
   "cell_type": "markdown",
   "metadata": {},
   "source": [
    "# Series的创建"
   ]
  },
  {
   "cell_type": "code",
   "execution_count": 2,
   "metadata": {},
   "outputs": [
    {
     "name": "stdout",
     "output_type": "stream",
     "text": [
      "Series([], dtype: float64)\n"
     ]
    }
   ],
   "source": [
    "ser01 = pd.Series()   #创建一个空的Series\n",
    "print(ser01)"
   ]
  },
  {
   "cell_type": "markdown",
   "metadata": {},
   "source": [
    "##### 1、通过 数组array 创建Serise\n",
    "—— pd.Series(data,index,dtype) 一维标记数组,能够保存任何类型的数据\n",
    "\n",
    "    data 数据\n",
    "    index 索引,轴标签"
   ]
  },
  {
   "cell_type": "code",
   "execution_count": 3,
   "metadata": {},
   "outputs": [
    {
     "name": "stdout",
     "output_type": "stream",
     "text": [
      "0       a\n",
      "1       2\n",
      "2     nan\n",
      "3    10.0\n",
      "dtype: object\n",
      "0      a\n",
      "1      2\n",
      "2    NaN\n",
      "3     10\n",
      "dtype: object\n"
     ]
    }
   ],
   "source": [
    "data = np.array(['a',2,np.NaN,10.0])\n",
    "ser02 = pd.Series(data)\n",
    "print(ser02)   # 默认以从0开始的序列作为索引\n",
    "\n",
    "ser03 = pd.Series(data = ['a',2,np.NaN,10.0])\n",
    "print(ser03)"
   ]
  },
  {
   "cell_type": "code",
   "execution_count": 4,
   "metadata": {},
   "outputs": [
    {
     "name": "stdout",
     "output_type": "stream",
     "text": [
      "语文    70\n",
      "数学    80\n",
      "英语    90\n",
      "dtype: int64\n",
      "\n"
     ]
    }
   ],
   "source": [
    "ser04 = pd.Series(data = [70,80,90],index = ['语文','数学','英语'])   # 可以加上 dtype = np.float64\n",
    "# ser04 = pd.Series([70,80,90],['语文','数学','英语'])   # 不写data和index也可以\n",
    "print(ser04)\n",
    "print()"
   ]
  },
  {
   "cell_type": "markdown",
   "metadata": {},
   "source": [
    "##### 2、通过字典创建Series，字典的key是Series列中的index"
   ]
  },
  {
   "cell_type": "code",
   "execution_count": 9,
   "metadata": {
    "scrolled": true
   },
   "outputs": [
    {
     "name": "stdout",
     "output_type": "stream",
     "text": [
      "a    1\n",
      "b    2\n",
      "c    3\n",
      "dtype: int64\n"
     ]
    }
   ],
   "source": [
    "data = {'a':1,'b':2,'c':3}\n",
    "ser05 = pd.Series(data)\n",
    "print(ser05)"
   ]
  },
  {
   "cell_type": "markdown",
   "metadata": {},
   "source": [
    "# Series的属性\n",
    "—— .dtype / .index / .values  查看series的元素类型 / 索引 / 值\n",
    "\n",
    "    只有在元素全是int的情况下，dtype才会默认为int，否则都被默认转为字符串类型"
   ]
  },
  {
   "cell_type": "code",
   "execution_count": 18,
   "metadata": {},
   "outputs": [
    {
     "name": "stdout",
     "output_type": "stream",
     "text": [
      "object\n",
      "RangeIndex(start=0, stop=4, step=1)\n",
      "['a' 2 nan 10.0]\n"
     ]
    }
   ],
   "source": [
    "ser02 = pd.Series(data = ['a',2,np.NaN,10.0])\n",
    "print(ser02.dtype)\n",
    "print(ser02.index)\n",
    "print(ser02.values)"
   ]
  },
  {
   "cell_type": "markdown",
   "metadata": {},
   "source": [
    "##### 1、获取series数据\n",
    "—— Ser名[ 索引号 ] / Ser名[ 索引名 ]\n",
    "\n",
    "—— 字典式索引"
   ]
  },
  {
   "cell_type": "code",
   "execution_count": 22,
   "metadata": {
    "scrolled": false
   },
   "outputs": [
    {
     "name": "stdout",
     "output_type": "stream",
     "text": [
      "语文    70\n",
      "数学    80\n",
      "英语    90\n",
      "dtype: int64\n",
      "\n",
      "70\n",
      "\n",
      "70\n",
      "90\n",
      "\n",
      "语文    70\n",
      "数学    80\n",
      "dtype: int64\n",
      "\n",
      "语文    70\n",
      "数学    80\n",
      "英语    90\n",
      "dtype: int64\n"
     ]
    }
   ],
   "source": [
    "ser06 = pd.Series(data = [70,80,90],index = ['语文','数学','英语'])\n",
    "print(ser06)\n",
    "print()\n",
    "\n",
    "#1、通过索引方式获取 —— 字典key\n",
    "print(ser06['语文'])\n",
    "print()\n",
    "\n",
    "#2、通过索引方式获取 —— 下标\n",
    "print(ser06[0])   # 由于Series是一维数据，不能使用ser06[0,:]，不要被索引列迷惑了\n",
    "print(ser06[-1])   # 获取最后一行\n",
    "print()\n",
    "\n",
    "#3、通过切片方式获取\n",
    "print(ser06[:2])  #前包后不包\n",
    "print()\n",
    "print(ser06['语文':'英语'])  #前后都包，字典型跨距索引属于特殊情况"
   ]
  },
  {
   "cell_type": "markdown",
   "metadata": {},
   "source": [
    "##### 2、增加、修改Series数据"
   ]
  },
  {
   "cell_type": "code",
   "execution_count": 24,
   "metadata": {},
   "outputs": [
    {
     "name": "stdout",
     "output_type": "stream",
     "text": [
      "语文     70\n",
      "数学     80\n",
      "英语     50\n",
      "地理    100\n",
      "dtype: int64\n"
     ]
    }
   ],
   "source": [
    "ser06['地理'] = 100   # 增加数据\n",
    "ser06[2] = 50   # 修改数据\n",
    "print(ser06)"
   ]
  },
  {
   "cell_type": "markdown",
   "metadata": {},
   "source": [
    "##### 3、缺失值检测  ★\n",
    "通过index进行检测，用isnull进行bool判定，获得bool矩阵后检索相应缺失值\n",
    "\n",
    "—— pd.isnull(*) 返回一个区分“NaN(不是一个数字)”的布尔类型Series。和np.isnull一致"
   ]
  },
  {
   "cell_type": "code",
   "execution_count": 36,
   "metadata": {},
   "outputs": [
    {
     "name": "stdout",
     "output_type": "stream",
     "text": [
      "tom      70.0\n",
      "joe      80.0\n",
      "susan    90.0\n",
      "anne      NaN\n",
      "dtype: float64\n"
     ]
    }
   ],
   "source": [
    "scores = pd.Series({'tom':70,'joe':80,'susan':90})\n",
    "new_index = ['tom','joe','susan','anne']   # 增加了一个缺失值 - 只有索引没有值\n",
    "\n",
    "scores = pd.Series(scores,index = new_index)  #1、检测缺失值\n",
    "print(scores)"
   ]
  },
  {
   "cell_type": "code",
   "execution_count": 31,
   "metadata": {
    "scrolled": true
   },
   "outputs": [
    {
     "name": "stdout",
     "output_type": "stream",
     "text": [
      "tom      False\n",
      "joe      False\n",
      "susan    False\n",
      "anne      True\n",
      "dtype: bool\n",
      "\n",
      "anne   NaN\n",
      "dtype: float64\n"
     ]
    }
   ],
   "source": [
    "#2、获取缺省值\n",
    "boolnull = pd.isnull(scores)  # 或 notnull\n",
    "print(boolnull)\n",
    "print()\n",
    "\n",
    "#3、过滤出缺失值\n",
    "print(scores[boolnull])"
   ]
  },
  {
   "cell_type": "markdown",
   "metadata": {},
   "source": [
    "# Series的标题\n",
    "—— .name Series标题\n",
    "\n",
    "—— .index.name 索引标题"
   ]
  },
  {
   "cell_type": "code",
   "execution_count": 49,
   "metadata": {},
   "outputs": [
    {
     "data": {
      "text/plain": [
       "科目\n",
       "tom      70\n",
       "joe      80\n",
       "susan    90\n",
       "Name: 考试成绩, dtype: int64"
      ]
     },
     "execution_count": 49,
     "metadata": {},
     "output_type": "execute_result"
    }
   ],
   "source": [
    "scores = pd.Series({'tom':70,'joe':80,'susan':90})\n",
    "scores.name = '考试成绩'\n",
    "scores.index.name = '科目'\n",
    "scores"
   ]
  },
  {
   "cell_type": "markdown",
   "metadata": {},
   "source": [
    "—— .head(*) 获取前5组数据\n",
    "\n",
    "—— .tail(*) 获取后5组数据"
   ]
  },
  {
   "cell_type": "code",
   "execution_count": 32,
   "metadata": {},
   "outputs": [
    {
     "name": "stdout",
     "output_type": "stream",
     "text": [
      "tom    70.0\n",
      "joe    80.0\n",
      "dtype: float64\n",
      "\n",
      "susan    90.0\n",
      "anne      NaN\n",
      "dtype: float64\n"
     ]
    }
   ],
   "source": [
    "print(scores.head(2))   # （2）获取前两组数据\n",
    "print()\n",
    "print(scores.tail(2))   # （2）获取前两组数据"
   ]
  },
  {
   "cell_type": "markdown",
   "metadata": {},
   "source": [
    "# Series的运算 + 逻辑 + 聚合\n",
    "Series可以使用numpy的属性和方法"
   ]
  },
  {
   "cell_type": "code",
   "execution_count": 34,
   "metadata": {},
   "outputs": [
    {
     "name": "stdout",
     "output_type": "stream",
     "text": [
      "a    1\n",
      "b    2\n",
      "c    3\n",
      "dtype: int64\n",
      "a    11\n",
      "b    12\n",
      "c    13\n",
      "dtype: int64\n",
      "b    2\n",
      "c    3\n",
      "dtype: int64\n",
      "3\n"
     ]
    }
   ],
   "source": [
    "series = pd.Series({'a':1,'b':2,'c':3})\n",
    "print(series)\n",
    "print(series+10)\n",
    "print(series[series>1])\n",
    "print(np.max(series))"
   ]
  },
  {
   "cell_type": "markdown",
   "metadata": {},
   "source": [
    "##### Series与Series相加"
   ]
  },
  {
   "cell_type": "code",
   "execution_count": 64,
   "metadata": {},
   "outputs": [
    {
     "data": {
      "text/plain": [
       "a     991\n",
       "b     231\n",
       "c    9557\n",
       "dtype: int64"
      ]
     },
     "execution_count": 64,
     "metadata": {},
     "output_type": "execute_result"
    }
   ],
   "source": [
    "series1 = pd.Series({'a':1,'b':2,'c':3})\n",
    "series2 = pd.Series({'a':10,'b':20,'c':30})\n",
    "print(series1+series2)"
   ]
  },
  {
   "cell_type": "code",
   "execution_count": 37,
   "metadata": {},
   "outputs": [
    {
     "name": "stdout",
     "output_type": "stream",
     "text": [
      "a     991.0\n",
      "b     231.0\n",
      "c    9557.0\n",
      "d       NaN\n",
      "e       NaN\n",
      "dtype: float64\n"
     ]
    }
   ],
   "source": [
    "series1 = pd.Series({'a':981,'b':211,'c':9527,'d':100})\n",
    "series2 = pd.Series({'a':10,'b':20,'c':30,'e':200})\n",
    "print(series1+series2)   #无交集的将会丧失原值"
   ]
  },
  {
   "cell_type": "code",
   "execution_count": null,
   "metadata": {
    "collapsed": true
   },
   "outputs": [],
   "source": []
  }
 ],
 "metadata": {
  "kernelspec": {
   "display_name": "Python 3",
   "language": "python",
   "name": "python3"
  },
  "language_info": {
   "codemirror_mode": {
    "name": "ipython",
    "version": 3
   },
   "file_extension": ".py",
   "mimetype": "text/x-python",
   "name": "python",
   "nbconvert_exporter": "python",
   "pygments_lexer": "ipython3",
   "version": "3.6.2"
  }
 },
 "nbformat": 4,
 "nbformat_minor": 2
}
