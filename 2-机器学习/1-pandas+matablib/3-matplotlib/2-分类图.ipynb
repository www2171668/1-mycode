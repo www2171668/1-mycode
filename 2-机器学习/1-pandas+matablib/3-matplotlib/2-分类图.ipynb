{
 "cells": [
  {
   "cell_type": "code",
   "execution_count": 1,
   "metadata": {
    "collapsed": true
   },
   "outputs": [],
   "source": [
    "import numpy as np\n",
    "import matplotlib.pyplot as plt"
   ]
  },
  {
   "cell_type": "markdown",
   "metadata": {},
   "source": [
    "##### 分类图\n",
    "—— meshgrid(x,y)  返回由x,y重构的两个list二维数组，通常作为x轴和y轴的网格采样点，\n",
    "    \n",
    "    返回的数组：\n",
    "    grid_x：axis=0广播, 每一行元素跟上一行相同，行数为y的维度\n",
    "    grid_y：axis=1广播, 每一列元素跟上一列相同，列数为x的维度\n",
    "    grid_x和grid_y形状一样的\n",
    "    \n",
    "    和 stack((grid_x,grid_y),axis =1)配合使用，构成栅格点阵坐标   ★★★\n",
    "    和 pcolormesh(grid_x,grid_y,grid_label)配合使用，绘制分类图\n",
    "—— plt.pcolormesh(grid_x,grid_y,grid_label,camp) 由栅格点阵坐标和其点阵标签构成，进行颜色填充，绘制分类图\n",
    "\n",
    "    grid_label：属性标签值，这些值会被cmap映射，作为底色\n",
    "    cmap :着色方案，常用 cmap=plt.cm.Paired 或 cmap='gray' ★"
   ]
  },
  {
   "cell_type": "code",
   "execution_count": 13,
   "metadata": {},
   "outputs": [
    {
     "name": "stdout",
     "output_type": "stream",
     "text": [
      "[[1 2 3 4]\n",
      " [1 2 3 4]\n",
      " [1 2 3 4]\n",
      " [1 2 3 4]] \n",
      " [[-1 -1 -1 -1]\n",
      " [-2 -2 -2 -2]\n",
      " [-3 -3 -3 -3]\n",
      " [-4 -4 -4 -4]]\n"
     ]
    },
    {
     "data": {
      "image/png": "[encoded data removed]",
      "text/plain": [
       "<matplotlib.figure.Figure at 0x17f17a58390>"
      ]
     },
     "metadata": {},
     "output_type": "display_data"
    }
   ],
   "source": [
    "#1、案例一\n",
    "x = np.array([1, 2, 3 ,4])\n",
    "y = np.array([-1, -2, -3, -4])\n",
    "grid_x,grid_y = np.meshgrid(x, y)  # 构成点阵坐标\n",
    "print(grid_x,'\\n',grid_y)\n",
    "\n",
    "gird_label = np.array([[3,0,0],[2,4,2],[1,1,1]])   # 虽然后面都是要求gird_label和grid_x的形状相同，但是实际上有效的行列都要少1\n",
    "# 数字不代表某一具体的颜色，只是用来区分不同色块的编号\n",
    "\n",
    "plt.pcolormesh(grid_x, grid_y, gird_label, cmap='gray')   # 以左上角为原点，grid_x表示点横坐标，grid_y表示纵坐标，gird_label为颜色标签\n",
    "plt.show()"
   ]
  },
  {
   "cell_type": "code",
   "execution_count": 15,
   "metadata": {},
   "outputs": [
    {
     "data": {
      "image/png": "[encoded data removed]",
      "text/plain": [
       "<matplotlib.figure.Figure at 0x17f1712f9e8>"
      ]
     },
     "metadata": {},
     "output_type": "display_data"
    }
   ],
   "source": [
    "plt.plot(grid_x,grid_y)\n",
    "plt.show()"
   ]
  },
  {
   "cell_type": "markdown",
   "metadata": {},
   "source": [
    "    [array([[1, 2, 3],             \n",
    "            [1, 2, 3],\n",
    "            [1, 2, 3],\n",
    "            [1, 2, 3]])        grid_x\n",
    "    array([[-1, -1, -1],\n",
    "           [-2, -2, -2],\n",
    "           [-3, -3, -3],\n",
    "           [-4, -4, -4]])      grid_y\n",
    "plt.pcolormesh(grid_x,grid_y,...)            \n",
    "            \n",
    "            |---1------2------3---->    (grid_x,grid_y)组成的坐标点(x,y)将覆盖并形成(1<=x<=3,-4<=y<=-1)区间组成的2*3的矩形\n",
    "            |                           由于填充时是按格子填充的，所以实际填充时，只要填充2*3区域即可\n",
    "           -1  (1,-1) (2,-1) (3,-1)     但是为了方便评估数据，通常会用3*4数据\n",
    "            |\n",
    "           -2  (1,-2) (2,-2) (3,-2)\n",
    "            |\n",
    "           -3  (1,-3) (2,-3) (3,-3)\n",
    "            |\n",
    "           -4  (1,-4) (2,-4) (3,-4)\n",
    "            |\n",
    "            '''"
   ]
  },
  {
   "cell_type": "markdown",
   "metadata": {},
   "source": [
    "—— np.stack((list1,list2),axis ) 将列表合并。axis=1时，按行遍历\n",
    "\n",
    "—— plt.scatter(x,y,c,...) 绘制点\n",
    "\n",
    "    -》x,y为点坐标，（x,y）和 c 是一一对应的\n",
    "    -》c ：点颜色。当c作为属性标签值时，和camp配合使用，这些标签值会被cmap映射。这个c要写出来\n",
    "    \n",
    "    -》edgecolors ：点边框色\n",
    "    -》s ：点的大小\n",
    "    -》marker ：点形状，默认为圆，*为星星"
   ]
  },
  {
   "cell_type": "code",
   "execution_count": 19,
   "metadata": {},
   "outputs": [
    {
     "name": "stdout",
     "output_type": "stream",
     "text": [
      "(1800, 1440)\n",
      "(1800, 1440)\n"
     ]
    },
    {
     "data": {
      "image/png": "[encoded data removed]",
      "text/plain": [
       "<matplotlib.figure.Figure at 0x17f198be208>"
      ]
     },
     "metadata": {},
     "output_type": "display_data"
    }
   ],
   "source": [
    "#2、案例二\n",
    "import sklearn.linear_model as lm\n",
    "\n",
    "x = np.array([\n",
    "        [4, 7],\n",
    "        [3.5, 8],\n",
    "        [3.1, 6.2],\n",
    "        [0.5, 1],\n",
    "        [1, 2],\n",
    "        [1.2, 1.9],\n",
    "        [4, 2],\n",
    "        [5.7, 1.5],\n",
    "        [5.4, 2.2]])                                             # 散点[x,y]\n",
    "y = np.array([0, 0, 0, 1, 1, 1, 2, 2, 2])                        # 多元分类 3类\n",
    "\n",
    "# 逻辑回归分类器\n",
    "model = lm.LogisticRegression(solver='liblinear', C=50)          # C\n",
    "model.fit(x, y)\n",
    "\n",
    "plt.figure('Logistic Classification', facecolor='lightgray')\n",
    "plt.title('Logistic Classification', fontsize=14)\n",
    "plt.xlabel('x', fontsize=14)\n",
    "plt.ylabel('y', fontsize=14)\n",
    "plt.tick_params(labelsize=10)\n",
    "\n",
    "'''\n",
    "pcolormesh参数设置：\n",
    "'''\n",
    "l, r, h = x[:, 0].min() - 1, x[:, 0].max() + 1, 0.005            # 左边界，右边界，水平方向点间距，组成点阵的x坐标\n",
    "b, t, v = x[:, 1].min() - 1, x[:, 1].max() + 1, 0.005            # 下边界，上边界，垂直方向点间距，组成点阵的y坐标\n",
    "\n",
    "#print(np.arange(l, r, h).shape, np.arange(b, t, v).shape)       # (1440,) (1800,) shape不同，不能直接作为输入,转为\n",
    "grid_x,grid_y = np.meshgrid(np.arange(l, r, h), np.arange(b, t, v))     # (m-array,n-array)--> list(x1(m,n), x2(m,n))\n",
    "# 也可以用一个grid接收，用grid[0]和[1]来表示\n",
    "\n",
    "print(grid_x.shape)                                                 # x[i, j]  (1800, 1440) <class 'numpy.ndarray'> \n",
    "print(grid_y.shape)                                                 # y[i, j]  (1800, 1440) <class 'numpy.ndarray'> \n",
    "\n",
    "flat_x = np.stack((grid_x.ravel(), grid_y.ravel()),axis = 1)          # 对散点进行两两组合，形成点阵坐标集flat_x\n",
    "flat_y = model.predict(flat_x)                                              # 输入栅格点阵坐标，对点阵进行模型预测，以获得点阵分类集flat_y\n",
    "\n",
    "grid_label = flat_y.reshape(grid_x.shape)                                    # 分类标签用做pcolormesh栅格着色的依据\n",
    "#最终目的是，生成与grid_x形状相同的分类标签\n",
    "\n",
    "# print(grid_label)\n",
    "#[[1 1 1 ... 2 2 2]             # 0, 1, 2 分别代表三种不同颜色\n",
    "# [1 1 1 ... 2 2 2]\n",
    "# [1 1 1 ... 2 2 2]\n",
    "# ...\n",
    "# [0 0 0 ... 0 0 0]\n",
    "# [0 0 0 ... 0 0 0]\n",
    "# [0 0 0 ... 0 0 0]]\n",
    "\n",
    "# pcolormesh: 分类图 pcolormesh(X, Y, C) \n",
    "# X,Y均为2-D array，X和Y构成网格点阵；如果X,Y为1-D 会自动广播，\n",
    "# X,Y对应位置元素x[i,j]和y[i,j]组成一个坐标点(x[i,j],y[i,j])，对样本周围（包括样本所在坐标）的四个坐标点进行着色，C代表着色方案\n",
    "plt.pcolormesh(grid_x, grid_y, grid_label, cmap='gray')       # gray_r 与gray的色带相反\n",
    "\n",
    "plt.scatter(x[:, 0], x[:, 1], c=y, cmap='brg', s=60)            # 点图，颜色映射\n",
    "plt.show()"
   ]
  },
  {
   "cell_type": "code",
   "execution_count": null,
   "metadata": {
    "collapsed": true
   },
   "outputs": [],
   "source": []
  }
 ],
 "metadata": {
  "kernelspec": {
   "display_name": "Python 3",
   "language": "python",
   "name": "python3"
  },
  "language_info": {
   "codemirror_mode": {
    "name": "ipython",
    "version": 3
   },
   "file_extension": ".py",
   "mimetype": "text/x-python",
   "name": "python",
   "nbconvert_exporter": "python",
   "pygments_lexer": "ipython3",
   "version": "3.6.2"
  }
 },
 "nbformat": 4,
 "nbformat_minor": 2
}
