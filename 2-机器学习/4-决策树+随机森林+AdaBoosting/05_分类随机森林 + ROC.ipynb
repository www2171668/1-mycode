{
 "cells": [
  {
   "cell_type": "code",
   "execution_count": 1,
   "metadata": {
    "collapsed": true
   },
   "outputs": [],
   "source": [
    "import numpy as np\n",
    "import pandas as pd\n",
    "import matplotlib.pyplot as plt\n",
    "import matplotlib as mpl\n",
    "\n",
    "from sklearn.model_selection import train_test_split\n",
    "\n",
    "from sklearn.pipeline import Pipeline\n",
    "from sklearn.preprocessing import Imputer   # 数据预处理 - 填补缺省值\n",
    "from sklearn.preprocessing import MinMaxScaler\n",
    "from sklearn.decomposition import PCA\n",
    "from sklearn.ensemble import RandomForestClassifier\n",
    "from sklearn.model_selection import GridSearchCV\n",
    "\n",
    "from sklearn.preprocessing import label_binarize\n",
    "\n",
    "from sklearn import metrics"
   ]
  },
  {
   "cell_type": "code",
   "execution_count": 2,
   "metadata": {
    "collapsed": true
   },
   "outputs": [],
   "source": [
    "mpl.rcParams['font.sans-serif'] = [u'SimHei']\n",
    "mpl.rcParams['axes.unicode_minus'] = False"
   ]
  },
  {
   "cell_type": "markdown",
   "metadata": {},
   "source": [
    "##### 1、数据加载"
   ]
  },
  {
   "cell_type": "code",
   "execution_count": 3,
   "metadata": {},
   "outputs": [
    {
     "data": {
      "text/html": [
       "<div>\n",
       "<style scoped>\n",
       "    .dataframe tbody tr th:only-of-type {\n",
       "        vertical-align: middle;\n",
       "    }\n",
       "\n",
       "    .dataframe tbody tr th {\n",
       "        vertical-align: top;\n",
       "    }\n",
       "\n",
       "    .dataframe thead th {\n",
       "        text-align: right;\n",
       "    }\n",
       "</style>\n",
       "<table border=\"1\" class=\"dataframe\">\n",
       "  <thead>\n",
       "    <tr style=\"text-align: right;\">\n",
       "      <th></th>\n",
       "      <th>Age</th>\n",
       "      <th>Number of sexual partners</th>\n",
       "      <th>First sexual intercourse</th>\n",
       "      <th>Num of pregnancies</th>\n",
       "      <th>Smokes</th>\n",
       "      <th>Smokes (years)</th>\n",
       "      <th>Smokes (packs/year)</th>\n",
       "      <th>Hormonal Contraceptives</th>\n",
       "      <th>Hormonal Contraceptives (years)</th>\n",
       "      <th>IUD</th>\n",
       "      <th>...</th>\n",
       "      <th>STDs: Time since first diagnosis</th>\n",
       "      <th>STDs: Time since last diagnosis</th>\n",
       "      <th>Dx:Cancer</th>\n",
       "      <th>Dx:CIN</th>\n",
       "      <th>Dx:HPV</th>\n",
       "      <th>Dx</th>\n",
       "      <th>Hinselmann</th>\n",
       "      <th>Schiller</th>\n",
       "      <th>Citology</th>\n",
       "      <th>Biopsy</th>\n",
       "    </tr>\n",
       "  </thead>\n",
       "  <tbody>\n",
       "    <tr>\n",
       "      <th>0</th>\n",
       "      <td>18</td>\n",
       "      <td>4.0</td>\n",
       "      <td>15.0</td>\n",
       "      <td>1.0</td>\n",
       "      <td>0.0</td>\n",
       "      <td>0.0</td>\n",
       "      <td>0.0</td>\n",
       "      <td>0.0</td>\n",
       "      <td>0.0</td>\n",
       "      <td>0.0</td>\n",
       "      <td>...</td>\n",
       "      <td>?</td>\n",
       "      <td>?</td>\n",
       "      <td>0</td>\n",
       "      <td>0</td>\n",
       "      <td>0</td>\n",
       "      <td>0</td>\n",
       "      <td>0</td>\n",
       "      <td>0</td>\n",
       "      <td>0</td>\n",
       "      <td>0</td>\n",
       "    </tr>\n",
       "    <tr>\n",
       "      <th>1</th>\n",
       "      <td>15</td>\n",
       "      <td>1.0</td>\n",
       "      <td>14.0</td>\n",
       "      <td>1.0</td>\n",
       "      <td>0.0</td>\n",
       "      <td>0.0</td>\n",
       "      <td>0.0</td>\n",
       "      <td>0.0</td>\n",
       "      <td>0.0</td>\n",
       "      <td>0.0</td>\n",
       "      <td>...</td>\n",
       "      <td>?</td>\n",
       "      <td>?</td>\n",
       "      <td>0</td>\n",
       "      <td>0</td>\n",
       "      <td>0</td>\n",
       "      <td>0</td>\n",
       "      <td>0</td>\n",
       "      <td>0</td>\n",
       "      <td>0</td>\n",
       "      <td>0</td>\n",
       "    </tr>\n",
       "    <tr>\n",
       "      <th>2</th>\n",
       "      <td>34</td>\n",
       "      <td>1.0</td>\n",
       "      <td>?</td>\n",
       "      <td>1.0</td>\n",
       "      <td>0.0</td>\n",
       "      <td>0.0</td>\n",
       "      <td>0.0</td>\n",
       "      <td>0.0</td>\n",
       "      <td>0.0</td>\n",
       "      <td>0.0</td>\n",
       "      <td>...</td>\n",
       "      <td>?</td>\n",
       "      <td>?</td>\n",
       "      <td>0</td>\n",
       "      <td>0</td>\n",
       "      <td>0</td>\n",
       "      <td>0</td>\n",
       "      <td>0</td>\n",
       "      <td>0</td>\n",
       "      <td>0</td>\n",
       "      <td>0</td>\n",
       "    </tr>\n",
       "    <tr>\n",
       "      <th>3</th>\n",
       "      <td>52</td>\n",
       "      <td>5.0</td>\n",
       "      <td>16.0</td>\n",
       "      <td>4.0</td>\n",
       "      <td>1.0</td>\n",
       "      <td>37.0</td>\n",
       "      <td>37.0</td>\n",
       "      <td>1.0</td>\n",
       "      <td>3.0</td>\n",
       "      <td>0.0</td>\n",
       "      <td>...</td>\n",
       "      <td>?</td>\n",
       "      <td>?</td>\n",
       "      <td>1</td>\n",
       "      <td>0</td>\n",
       "      <td>1</td>\n",
       "      <td>0</td>\n",
       "      <td>0</td>\n",
       "      <td>0</td>\n",
       "      <td>0</td>\n",
       "      <td>0</td>\n",
       "    </tr>\n",
       "    <tr>\n",
       "      <th>4</th>\n",
       "      <td>46</td>\n",
       "      <td>3.0</td>\n",
       "      <td>21.0</td>\n",
       "      <td>4.0</td>\n",
       "      <td>0.0</td>\n",
       "      <td>0.0</td>\n",
       "      <td>0.0</td>\n",
       "      <td>1.0</td>\n",
       "      <td>15.0</td>\n",
       "      <td>0.0</td>\n",
       "      <td>...</td>\n",
       "      <td>?</td>\n",
       "      <td>?</td>\n",
       "      <td>0</td>\n",
       "      <td>0</td>\n",
       "      <td>0</td>\n",
       "      <td>0</td>\n",
       "      <td>0</td>\n",
       "      <td>0</td>\n",
       "      <td>0</td>\n",
       "      <td>0</td>\n",
       "    </tr>\n",
       "  </tbody>\n",
       "</table>\n",
       "<p>5 rows × 36 columns</p>\n",
       "</div>"
      ],
      "text/plain": [
       "   Age Number of sexual partners First sexual intercourse Num of pregnancies  \\\n",
       "0   18                       4.0                     15.0                1.0   \n",
       "1   15                       1.0                     14.0                1.0   \n",
       "2   34                       1.0                        ?                1.0   \n",
       "3   52                       5.0                     16.0                4.0   \n",
       "4   46                       3.0                     21.0                4.0   \n",
       "\n",
       "  Smokes Smokes (years) Smokes (packs/year) Hormonal Contraceptives  \\\n",
       "0    0.0            0.0                 0.0                     0.0   \n",
       "1    0.0            0.0                 0.0                     0.0   \n",
       "2    0.0            0.0                 0.0                     0.0   \n",
       "3    1.0           37.0                37.0                     1.0   \n",
       "4    0.0            0.0                 0.0                     1.0   \n",
       "\n",
       "  Hormonal Contraceptives (years)  IUD  ...    \\\n",
       "0                             0.0  0.0  ...     \n",
       "1                             0.0  0.0  ...     \n",
       "2                             0.0  0.0  ...     \n",
       "3                             3.0  0.0  ...     \n",
       "4                            15.0  0.0  ...     \n",
       "\n",
       "  STDs: Time since first diagnosis STDs: Time since last diagnosis Dx:Cancer  \\\n",
       "0                                ?                               ?         0   \n",
       "1                                ?                               ?         0   \n",
       "2                                ?                               ?         0   \n",
       "3                                ?                               ?         1   \n",
       "4                                ?                               ?         0   \n",
       "\n",
       "  Dx:CIN Dx:HPV Dx Hinselmann Schiller Citology Biopsy  \n",
       "0      0      0  0          0        0        0      0  \n",
       "1      0      0  0          0        0        0      0  \n",
       "2      0      0  0          0        0        0      0  \n",
       "3      0      1  0          0        0        0      0  \n",
       "4      0      0  0          0        0        0      0  \n",
       "\n",
       "[5 rows x 36 columns]"
      ]
     },
     "execution_count": 3,
     "metadata": {},
     "output_type": "execute_result"
    }
   ],
   "source": [
    "names = [u'Age', u'Number of sexual partners', u'First sexual intercourse',\n",
    "       u'Num of pregnancies', u'Smokes', u'Smokes (years)',\n",
    "       u'Smokes (packs/year)', u'Hormonal Contraceptives',\n",
    "       u'Hormonal Contraceptives (years)', u'IUD', u'IUD (years)', u'STDs',\n",
    "       u'STDs (number)', u'STDs:condylomatosis',\n",
    "       u'STDs:cervical condylomatosis', u'STDs:vaginal condylomatosis',\n",
    "       u'STDs:vulvo-perineal condylomatosis', u'STDs:syphilis',\n",
    "       u'STDs:pelvic inflammatory disease', u'STDs:genital herpes',\n",
    "       u'STDs:molluscum contagiosum', u'STDs:AIDS', u'STDs:HIV',\n",
    "       u'STDs:Hepatitis B', u'STDs:HPV', u'STDs: Number of diagnosis',\n",
    "       u'STDs: Time since first diagnosis', u'STDs: Time since last diagnosis',\n",
    "       u'Dx:Cancer', u'Dx:CIN', u'Dx:HPV', u'Dx', \n",
    "       u'Hinselmann', u'Schiller',u'Citology', u'Biopsy']\n",
    "\n",
    "path = \"datas/risk_factors_cervical_cancer.csv\"\n",
    "data = pd.read_csv(path)\n",
    "data.head()"
   ]
  },
  {
   "cell_type": "markdown",
   "metadata": {},
   "source": [
    "##### 2、数据预处理 - 缺省值替换 + 数据分割"
   ]
  },
  {
   "cell_type": "code",
   "execution_count": 5,
   "metadata": {
    "collapsed": true
   },
   "outputs": [],
   "source": [
    "X = data[names[0:-4]]   # data自带columns，所以用names来划分\n",
    "Y = data[names[-4:]]   # 随机森林可以处理多个目标变量的情况"
   ]
  },
  {
   "cell_type": "markdown",
   "metadata": {},
   "source": [
    "—— sklearn.preprocessing.Imputer(missing_values=’NaN’, strategy=’mean’, axis , copy) 填补缺失值   ★\n",
    "\n",
    "    -》missing_values：待替换值，可以为整数或NaN\n",
    "    -》strategy：替换策略\n",
    "    ①若为mean时，用特征列的均值替换，默认为mean\n",
    "    ②若为median时，用特征列的中位数替换\n",
    "    ③若为most_frequent时，用特征列的众数替换\n",
    "\n",
    "    -》copy：默认为True，代表不在原数据集上修改。设置为False时，对原数据进行修改"
   ]
  },
  {
   "cell_type": "code",
   "execution_count": 6,
   "metadata": {},
   "outputs": [
    {
     "name": "stdout",
     "output_type": "stream",
     "text": [
      "训练样本数量:686,特征属性数目:32,目标属性数目:4\n",
      "测试样本数量:172\n"
     ]
    },
    {
     "name": "stderr",
     "output_type": "stream",
     "text": [
      "C:\\4_IT\\Anaconda\\lib\\site-packages\\sklearn\\utils\\deprecation.py:58: DeprecationWarning: Class Imputer is deprecated; Imputer was deprecated in version 0.20 and will be removed in 0.22. Import impute.SimpleImputer from sklearn instead.\n",
      "  warnings.warn(msg, category=DeprecationWarning)\n"
     ]
    }
   ],
   "source": [
    "X = X.replace(\"?\", np.NAN)   # 空值的处理，将 ？ 替换为 NaN\n",
    "\n",
    "imputer = Imputer(missing_values=\"NaN\")   # 对缺省值以列进行数据填充\n",
    "X = imputer.fit_transform(X)   # 缺省处理\n",
    "\n",
    "x_train,x_test,y_train,y_test = train_test_split(X, Y, test_size=0.2, random_state=0)\n",
    "print (\"训练样本数量:%d,特征属性数目:%d,目标属性数目:%d\" % (x_train.shape[0],x_train.shape[1],y_train.shape[1]))\n",
    "print (\"测试样本数量:%d\" % x_test.shape[0])"
   ]
  },
  {
   "cell_type": "markdown",
   "metadata": {},
   "source": [
    "##### 3、数据预处理 - 标准化训练"
   ]
  },
  {
   "cell_type": "code",
   "execution_count": 117,
   "metadata": {},
   "outputs": [
    {
     "data": {
      "text/plain": [
       "(686, 32)"
      ]
     },
     "execution_count": 117,
     "metadata": {},
     "output_type": "execute_result"
    }
   ],
   "source": [
    "ss = MinMaxScaler()\n",
    "x_train = ss.fit_transform(x_train, y_train)\n",
    "x_test = ss.transform(x_test)\n",
    "x_train.shape"
   ]
  },
  {
   "cell_type": "markdown",
   "metadata": {},
   "source": [
    "##### 3.1降维"
   ]
  },
  {
   "cell_type": "code",
   "execution_count": 12,
   "metadata": {
    "collapsed": true
   },
   "outputs": [],
   "source": [
    "pca = PCA(n_components=2)\n",
    "x_train = pca.fit_transform(x_train)\n",
    "x_test = pca.transform(x_test)"
   ]
  },
  {
   "cell_type": "markdown",
   "metadata": {},
   "source": [
    "##### 4、模型构建 + 训练 + 评估 + 预测\n",
    "—— RandomForestClassifier() 随机森林分类模型\n",
    "\n",
    "    -》n_estimators：最大决策树数量，即最大迭代次数。默认100\n",
    "    -》max_features：允许单个决策树使用特征的最大数量。\n",
    "\n",
    "    Auto：简单地选取所有特征，每颗树都可以利用他们\n",
    "    sqrt：每颗子树可以利用总特征数的平方根个。例如，如果变量（特征）的总数是100，所以每颗子树只能取其中的10个。\n",
    "    小数：若等于0.2：此选项允许每个随机森林的子树可以利用变量（特征）数的20％\n",
    "    \n",
    "    -》min_sample_leaf：最小样本叶片大小。 较小的叶子使模型更容易捕捉训练数据中的噪声，一般来说，可将最小叶子节点数目设置为大于50。"
   ]
  },
  {
   "cell_type": "code",
   "execution_count": 16,
   "metadata": {},
   "outputs": [
    {
     "name": "stdout",
     "output_type": "stream",
     "text": [
      "准确率:89.53%\n"
     ]
    },
    {
     "data": {
      "text/plain": [
       "array([[0.95487409, 0.04512591],\n",
       "       [0.81246186, 0.18753814],\n",
       "       [0.95453628, 0.04546372],\n",
       "       [0.95010091, 0.04989909],\n",
       "       [0.95407713, 0.04592287]])"
      ]
     },
     "execution_count": 16,
     "metadata": {},
     "output_type": "execute_result"
    }
   ],
   "source": [
    "forest = RandomForestClassifier(n_estimators=100, criterion='gini', max_depth=1, random_state=0)\n",
    "forest.fit(x_train, y_train)\n",
    "score = forest.score(x_test, y_test)\n",
    "print (\"准确率:%.2f%%\" % (score * 100))\n",
    "\n",
    "y_predict_class = forest.predict_proba(x_test)   # 概率矩阵，注意Y有4列\n",
    "y_predict_class[0][:5]   # 可以通过 .value_counts() 来确定标签类型，但是没必要"
   ]
  },
  {
   "cell_type": "markdown",
   "metadata": {},
   "source": [
    "##### ROC曲线"
   ]
  },
  {
   "cell_type": "code",
   "execution_count": 28,
   "metadata": {},
   "outputs": [
    {
     "name": "stdout",
     "output_type": "stream",
     "text": [
      "0    170\n",
      "1      2\n",
      "Name: Hinselmann, dtype: int64\n"
     ]
    }
   ],
   "source": [
    "y1_test_class = label_binarize(y_test[names[-4]],classes=(0,1,2))  # 虽然classes=(0,1,2)，但是实际值只有0和1，最后一列是没有用的，要删去\n",
    "y2_test_calss = label_binarize(y_test[names[-3]],classes=(0,1,2))\n",
    "y3_test_calss = label_binarize(y_test[names[-2]],classes=(0,1,2))\n",
    "y4_test_calss = label_binarize(y_test[names[-1]],classes=(0,1,2))\n",
    "\n",
    "y1_test_class[0:5]"
   ]
  },
  {
   "cell_type": "code",
   "execution_count": 18,
   "metadata": {},
   "outputs": [
    {
     "name": "stdout",
     "output_type": "stream",
     "text": [
      "0    170\n",
      "1      2\n",
      "Name: Hinselmann, dtype: int64\n",
      "4\n"
     ]
    },
    {
     "data": {
      "text/plain": [
       "(172, 2)"
      ]
     },
     "execution_count": 18,
     "metadata": {},
     "output_type": "execute_result"
    }
   ],
   "source": [
    "forest_fpr1, forest_tpr1, threshold1 = metrics.roc_curve(y1_test_class[:,0:-1].ravel(), y_predict_class[0].ravel())\n",
    "forest_fpr2, forest_tpr2, threshold2 = metrics.roc_curve(y2_test_class[:,0:-1].ravel(), y_predict_class[1].ravel())\n",
    "forest_fpr3, forest_tpr3, threshold3 = metrics.roc_curve(y3_test_class[:,0:-1].ravel(), y_predict_class[2].ravel())\n",
    "forest_fpr4, forest_tpr4, threshold4 = metrics.roc_curve(y4_test_class[:,0:-1].ravel(), y_predict_class[3].ravel())"
   ]
  },
  {
   "cell_type": "code",
   "execution_count": 121,
   "metadata": {},
   "outputs": [
    {
     "name": "stdout",
     "output_type": "stream",
     "text": [
      "y1 Hinselmann目标属性AUC值： 0.9901974040021634\n",
      "y2 Schiller目标属性AUC值： 0.9559221200648998\n",
      "y3 Citology目标属性AUC值： 0.9637979989183343\n",
      "y4 Biopsy目标属性AUC值： 0.9568685776095187\n"
     ]
    }
   ],
   "source": [
    "auc1 = metrics.auc(forest_fpr1, forest_tpr1)\n",
    "auc2 = metrics.auc(forest_fpr2, forest_tpr2)\n",
    "auc3 = metrics.auc(forest_fpr3, forest_tpr3)\n",
    "auc4 = metrics.auc(forest_fpr4, forest_tpr4)\n",
    "\n",
    "print (\"y1 Hinselmann目标属性AUC值：\", auc1)\n",
    "print (\"y2 Schiller目标属性AUC值：\", auc2)\n",
    "print (\"y3 Citology目标属性AUC值：\", auc3)\n",
    "print (\"y4 Biopsy目标属性AUC值：\", auc4)"
   ]
  },
  {
   "cell_type": "markdown",
   "metadata": {},
   "source": [
    "##### 5、画图"
   ]
  },
  {
   "cell_type": "code",
   "execution_count": 122,
   "metadata": {
    "scrolled": true
   },
   "outputs": [
    {
     "data": {
      "image/png": "[encoded data removed]",
      "text/plain": [
       "<Figure size 576x432 with 1 Axes>"
      ]
     },
     "metadata": {},
     "output_type": "display_data"
    }
   ],
   "source": [
    "plt.figure(figsize=(8, 6), facecolor='w')\n",
    "\n",
    "plt.plot(forest_fpr1,forest_tpr1,c='r',lw=2,label='Hinselmann目标属性,AUC=%.3f' % auc1)\n",
    "plt.plot(forest_fpr2,forest_tpr2,c='b',lw=2,label='Schiller目标属性,AUC=%.3f' % auc2)\n",
    "plt.plot(forest_fpr3,forest_tpr3,c='g',lw=2,label='Citology目标属性,AUC=%.3f' % auc3)\n",
    "plt.plot(forest_fpr4,forest_tpr4,c='y',lw=2,label='Biopsy目标属性,AUC=%.3f' % auc4)\n",
    "plt.plot((0,1),(0,1),c='#a0a0a0',lw=2,ls='--')\n",
    "plt.legend(loc='lower right', fancybox=True, framealpha=0.8, fontsize=12)\n",
    "\n",
    "plt.xlim(-0.001, 1.001)\n",
    "plt.ylim(-0.001, 1.001)\n",
    "plt.xticks(np.arange(0, 1.1, 0.1))\n",
    "plt.yticks(np.arange(0, 1.1, 0.1))\n",
    "plt.xlabel('False Positive Rate(FPR)', fontsize=16)\n",
    "plt.ylabel('True Positive Rate(TPR)', fontsize=16)\n",
    "plt.grid(b=True, ls=':')\n",
    "plt.title(u'随机森林多目标属性分类ROC曲线', fontsize=18)\n",
    "plt.show()"
   ]
  },
  {
   "cell_type": "markdown",
   "metadata": {},
   "source": [
    "# 参数优化"
   ]
  },
  {
   "cell_type": "markdown",
   "metadata": {},
   "source": [
    "##### 比较不同 树数目、树最大深度 的随机森林错误率\n",
    "随机森林和Boosting一般都用错误率来评估"
   ]
  },
  {
   "cell_type": "code",
   "execution_count": 31,
   "metadata": {},
   "outputs": [
    {
     "name": "stdout",
     "output_type": "stream",
     "text": [
      "训练样本数量429，测试样本数量:429\n"
     ]
    }
   ],
   "source": [
    "x_train2,x_test2,y_train2,y_test2 = train_test_split(X, Y, test_size=0.5, random_state=0)\n",
    "print (\"训练样本数量%d，测试样本数量:%d\" % (x_train2.shape[0], x_test2.shape[0]))"
   ]
  },
  {
   "cell_type": "code",
   "execution_count": 35,
   "metadata": {},
   "outputs": [
    {
     "name": "stdout",
     "output_type": "stream",
     "text": [
      "决策树个数：0\t 最大深度：1\t 错误率：13.52%\n",
      "决策树个数：0\t 最大深度：2\t 错误率：13.05%\n",
      "决策树个数：0\t 最大深度：3\t 错误率：15.38%\n",
      "决策树个数：0\t 最大深度：7\t 错误率：17.25%\n",
      "决策树个数：0\t 最大深度：15\t 错误率：21.91%\n",
      "决策树个数：0\t 最大深度：1\t 错误率：13.29%\n",
      "决策树个数：0\t 最大深度：2\t 错误率：13.52%\n",
      "决策树个数：0\t 最大深度：3\t 错误率：13.52%\n",
      "决策树个数：0\t 最大深度：7\t 错误率：13.75%\n",
      "决策树个数：0\t 最大深度：15\t 错误率：15.62%\n",
      "决策树个数：0\t 最大深度：1\t 错误率：13.05%\n",
      "决策树个数：0\t 最大深度：2\t 错误率：13.75%\n",
      "决策树个数：0\t 最大深度：3\t 错误率：13.52%\n",
      "决策树个数：0\t 最大深度：7\t 错误率：13.75%\n",
      "决策树个数：0\t 最大深度：15\t 错误率：14.92%\n",
      "决策树个数：0\t 最大深度：1\t 错误率：13.52%\n",
      "决策树个数：0\t 最大深度：2\t 错误率：13.52%\n",
      "决策树个数：0\t 最大深度：3\t 错误率：13.52%\n",
      "决策树个数：0\t 最大深度：7\t 错误率：13.75%\n",
      "决策树个数：0\t 最大深度：15\t 错误率：15.15%\n"
     ]
    },
    {
     "data": {
      "text/plain": [
       "(4, 5)"
      ]
     },
     "execution_count": 35,
     "metadata": {},
     "output_type": "execute_result"
    }
   ],
   "source": [
    "estimators = [1,50,100,500]   # 子树的数量，也是迭代数量\n",
    "depth = [1,2,3,7,15]   # 字数深度\n",
    "incorr_list = []   # 存储每次迭代的树的错误率\n",
    "\n",
    "for m in estimators:   # m数量的子树\n",
    "    es_list = []\n",
    "    for d in depth:\n",
    "        model = RandomForestClassifier(n_estimators=m, criterion='gini', max_depth=d, max_features = None, random_state=0)\n",
    "        model.fit(x_train2, y_train2)\n",
    "        score = model.score(x_test2, y_test2)\n",
    "        \n",
    "        es_list.append(1-score)\n",
    "        print (\"决策树个数：%d\\t 最大深度：%d\\t 错误率：%.2f%%\" % (i, d, (1-score) * 100))\n",
    "    incorr_list.append(es_list)\n",
    "\n",
    "np.array(incorr_list).shape"
   ]
  },
  {
   "cell_type": "code",
   "execution_count": 40,
   "metadata": {},
   "outputs": [
    {
     "data": {
      "image/png": "[encoded data removed]",
      "text/plain": [
       "<Figure size 432x288 with 1 Axes>"
      ]
     },
     "metadata": {},
     "output_type": "display_data"
    }
   ],
   "source": [
    "plt.figure(facecolor='w')\n",
    "\n",
    "i = 0   # 控制线颜色和线粗\n",
    "colors = ['r','b','g','y']\n",
    "lw = [1,2,4,3]\n",
    "\n",
    "max_err,min_err = 0,1\n",
    "\n",
    "for m,n in zip(estimators,incorr_list):\n",
    "    plt.plot(depth, n, c=colors[i], lw=lw[i], label='树数目:%d' % m)\n",
    "    max_err = max((max(n),max_err))\n",
    "    min_err = min((min(n),min_err))\n",
    "    i += 1\n",
    "\n",
    "plt.xlim(min(depth),max(depth))\n",
    "plt.ylim(min_err * 0.99, max_err * 1.01)\n",
    "plt.xlabel('树深度', fontsize=16)\n",
    "plt.ylabel('错误率', fontsize=16)\n",
    "plt.legend(loc='upper left', fancybox=True, framealpha=0.8, fontsize=12)\n",
    "plt.grid(True)\n",
    "plt.title('随机森林中树数目、深度和错误率的关系图', fontsize=18)\n",
    "plt.show()"
   ]
  },
  {
   "cell_type": "markdown",
   "metadata": {},
   "source": [
    "### 随机森林图"
   ]
  },
  {
   "cell_type": "code",
   "execution_count": 94,
   "metadata": {
    "collapsed": true
   },
   "outputs": [],
   "source": [
    "from sklearn import tree\n",
    "from IPython.display import Image  \n",
    "import pydotplus\n",
    "k = 0\n",
    "for clf in forest.estimators_:\n",
    "    dot_data = tree.export_graphviz(clf, out_file=None,  \n",
    "                         filled=True, rounded=True,  \n",
    "                         special_characters=True)\n",
    "    graph = pydotplus.graph_from_dot_data(dot_data)\n",
    "    # graph.write_pdf(\"foress_tree_%d.pdf\" % k)\n",
    "    if k == 0:\n",
    "        # 只输出一个，其它的不输出\n",
    "        graph.write_png(\"foress_tree_0.png\")\n",
    "    k += 1"
   ]
  },
  {
   "cell_type": "code",
   "execution_count": null,
   "metadata": {
    "collapsed": true
   },
   "outputs": [],
   "source": []
  }
 ],
 "metadata": {
  "kernelspec": {
   "display_name": "Python 3",
   "language": "python",
   "name": "python3"
  },
  "language_info": {
   "codemirror_mode": {
    "name": "ipython",
    "version": 3
   },
   "file_extension": ".py",
   "mimetype": "text/x-python",
   "name": "python",
   "nbconvert_exporter": "python",
   "pygments_lexer": "ipython3",
   "version": "3.6.2"
  }
 },
 "nbformat": 4,
 "nbformat_minor": 1
}
