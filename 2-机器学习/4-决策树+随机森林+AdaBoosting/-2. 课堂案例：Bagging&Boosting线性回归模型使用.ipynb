{
 "cells": [
  {
   "cell_type": "code",
   "execution_count": 14,
   "metadata": {},
   "outputs": [],
   "source": [
    "import numpy as np\n",
    "import matplotlib as mpl\n",
    "import matplotlib.pyplot as plt\n",
    "import pandas as pd\n",
    "import warnings\n",
    "import sklearn\n",
    "from sklearn.linear_model import LinearRegression\n",
    "from sklearn.model_selection import train_test_split\n",
    "from sklearn.ensemble import BaggingRegressor"
   ]
  },
  {
   "cell_type": "code",
   "execution_count": 15,
   "metadata": {},
   "outputs": [],
   "source": [
    "def notEmpty(s):\n",
    "    return s != ''"
   ]
  },
  {
   "cell_type": "code",
   "execution_count": 16,
   "metadata": {},
   "outputs": [],
   "source": [
    "mpl.rcParams['font.sans-serif']=[u'simHei']\n",
    "mpl.rcParams['axes.unicode_minus']=False"
   ]
  },
  {
   "cell_type": "markdown",
   "metadata": {},
   "source": [
    "##### 1、加载数据"
   ]
  },
  {
   "cell_type": "code",
   "execution_count": 17,
   "metadata": {},
   "outputs": [
    {
     "name": "stdout",
     "output_type": "stream",
     "text": [
      "样本数据量:506, 特征个数：13\n",
      "target样本数据量:506\n"
     ]
    }
   ],
   "source": [
    "names = ['CRIM','ZN', 'INDUS','CHAS','NOX','RM','AGE','DIS','RAD','TAX','PTRATIO','B','LSTAT']\n",
    "path = \"datas/boston_housing.data\"\n",
    "\n",
    "fd = pd.read_csv(path, header=None)\n",
    "data = np.empty((len(fd), 14))\n",
    "for i, d in enumerate(fd.values):\n",
    "    d = map(float, filter(notEmpty, d[0].split(' ')))\n",
    "    data[i] = list(d)\n",
    "\n",
    "x, y = np.split(data, (13,), axis=1)\n",
    "y = y.ravel()\n",
    "\n",
    "print (\"样本数据量:%d, 特征个数：%d\" % x.shape)\n",
    "print (\"target样本数据量:%d\" % y.shape[0])"
   ]
  },
  {
   "cell_type": "markdown",
   "metadata": {},
   "source": [
    "##### 2、数据分割"
   ]
  },
  {
   "cell_type": "code",
   "execution_count": 18,
   "metadata": {},
   "outputs": [
    {
     "name": "stdout",
     "output_type": "stream",
     "text": [
      "训练数据集样本数目：404, 测试数据集样本数目：102\n"
     ]
    },
    {
     "name": "stderr",
     "output_type": "stream",
     "text": [
      "C:\\4_IT\\Anaconda\\lib\\site-packages\\sklearn\\model_selection\\_split.py:2179: FutureWarning: From version 0.21, test_size will always complement train_size unless both are specified.\n",
      "  FutureWarning)\n"
     ]
    }
   ],
   "source": [
    "x_train1, x_test1, y_train1, y_test1 = train_test_split(x, y, train_size=0.8, random_state=14)\n",
    "x_train, x_test, y_train, y_test = x_train1, x_test1, y_train1, y_test1\n",
    "print (\"训练数据集样本数目：%d, 测试数据集样本数目：%d\" % (x_train.shape[0], x_test.shape[0]))"
   ]
  },
  {
   "cell_type": "markdown",
   "metadata": {},
   "source": [
    "##### 3、构建线性回归 + 训练 + 预测 + 评估"
   ]
  },
  {
   "cell_type": "code",
   "execution_count": 19,
   "metadata": {},
   "outputs": [
    {
     "name": "stdout",
     "output_type": "stream",
     "text": [
      "lr: 0.6177265992293737\n"
     ]
    }
   ],
   "source": [
    "lr = LinearRegression()\n",
    "lr.fit(x_train,y_train)\n",
    "lr_y_test_hat = lr.predict(x_test)\n",
    "lr_score = lr.score(x_test, y_test)\n",
    "print (\"lr:\", lr_score)"
   ]
  },
  {
   "cell_type": "markdown",
   "metadata": {},
   "source": [
    "## 使用集成学习方法构建多迭代的线性回归模型"
   ]
  },
  {
   "cell_type": "markdown",
   "metadata": {},
   "source": [
    "##### 3.1、构建Bagging的线性模型 + 训练 + 预测 + 评估\n",
    "—— BaggingRegressor(base_estimator=None, n_estimators=10, max_samples=1.0, max_features=1.0, bootstrap=True, bootstrap_features=False, oob_score=False, warm_start=False, n_jobs=None, random_state=None, verbose=0)[source]¶\n",
    "\n",
    "#base_estimator：用于拟合数据集的随机子集的算法模型。默认为None，CART决策树\n",
    "\n",
    "#max_samples：从X中抽取的用于训练每个基本估计值的样本数，即随机采样数量\n",
    "\n",
    "#max_features：从X中提取的用于训练每个基本估计值的特征数\n",
    "\n",
    "#bootstrap：是否有放回"
   ]
  },
  {
   "cell_type": "code",
   "execution_count": 20,
   "metadata": {},
   "outputs": [
    {
     "name": "stdout",
     "output_type": "stream",
     "text": [
      "Bagging: 0.6274480726092534\n"
     ]
    }
   ],
   "source": [
    "# 在 BaggingRegressor 模型中添加 LinearRegression 回归算法模型 作为 base_estimator 基础模型\n",
    "# lr处也可以直接写训练模型名 LinearRegression()\n",
    "bg = BaggingRegressor(lr, n_estimators=100, max_samples=0.7, max_features=0.8,random_state=28)\n",
    "bg.fit(x_train, y_train)\n",
    "bg_y_test_hat = bg.predict(x_test)\n",
    "bg_score = bg.score(x_test, y_test)\n",
    "print (\"Bagging:\", bg_score)\n",
    "\n",
    "# 实际上还是用的回归模型来训练和预测，只是用BaggingRegressor增加了迭代次数，此时预测值得到了提高\n",
    "# 通常 n_estimators、max_samples和max_features 能够通过交叉验证过得最优参数"
   ]
  },
  {
   "cell_type": "markdown",
   "metadata": {},
   "source": [
    "##### 3.2、构建AdaBoost的线性模型 + 训练 + 预测 + 评估"
   ]
  },
  {
   "cell_type": "code",
   "execution_count": 23,
   "metadata": {},
   "outputs": [
    {
     "name": "stdout",
     "output_type": "stream",
     "text": [
      "Bagging: 0.6148348568514753\n"
     ]
    }
   ],
   "source": [
    "from sklearn.ensemble import AdaBoostRegressor\n",
    "\n",
    "abr = AdaBoostRegressor(lr, n_estimators=50, learning_rate=0.0001, random_state=28)\n",
    "abr.fit(x_train, y_train)\n",
    "abr_y_test_hat = abr.predict(x_test)\n",
    "abr_score = abr.score(x_test, y_test)\n",
    "print (\"Bagging:\", abr_score)"
   ]
  },
  {
   "cell_type": "markdown",
   "metadata": {},
   "source": [
    "##### 4、构建GBDT的线性模型 + 训练 + 预测 + 评估"
   ]
  },
  {
   "cell_type": "code",
   "execution_count": 22,
   "metadata": {},
   "outputs": [
    {
     "name": "stdout",
     "output_type": "stream",
     "text": [
      "Bagging: 0.8668154381095832\n"
     ]
    }
   ],
   "source": [
    "from sklearn.ensemble import GradientBoostingRegressor\n",
    "\n",
    "# GradientBoostingRegressor() 没有基模型概念\n",
    "gbdt = GradientBoostingRegressor(n_estimators=50, learning_rate=0.1, random_state=28)\n",
    "gbdt.fit(x_train, y_train)\n",
    "gbdt_y_test_hat = gbdt.predict(x_test)\n",
    "gbdt_score = gbdt.score(x_test, y_test)\n",
    "print (\"Bagging:\", gbdt_score)"
   ]
  }
 ],
 "metadata": {
  "kernelspec": {
   "display_name": "Python 3",
   "language": "python",
   "name": "python3"
  },
  "language_info": {
   "codemirror_mode": {
    "name": "ipython",
    "version": 3
   },
   "file_extension": ".py",
   "mimetype": "text/x-python",
   "name": "python",
   "nbconvert_exporter": "python",
   "pygments_lexer": "ipython3",
   "version": "3.7.1"
  }
 },
 "nbformat": 4,
 "nbformat_minor": 2
}
