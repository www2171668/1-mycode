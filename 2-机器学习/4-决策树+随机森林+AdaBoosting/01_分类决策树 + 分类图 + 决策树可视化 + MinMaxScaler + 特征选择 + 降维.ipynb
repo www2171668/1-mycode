{
 "cells": [
  {
   "cell_type": "code",
   "execution_count": 1,
   "metadata": {
    "collapsed": true
   },
   "outputs": [],
   "source": [
    "import numpy as np\n",
    "import pandas as pd\n",
    "import matplotlib.pyplot as plt\n",
    "import matplotlib as mpl\n",
    "\n",
    "import warnings\n",
    "\n",
    "from sklearn.model_selection import train_test_split   # 数据划分\n",
    "\n",
    "from sklearn.pipeline import Pipeline # 管道\n",
    "from sklearn.preprocessing import MinMaxScaler  # 数据预处理 - 归一\n",
    "from sklearn.feature_selection import SelectKBest   # 特征选择\n",
    "from sklearn.feature_selection import chi2   # 卡方统计量\n",
    "from sklearn.decomposition import PCA   # 降维 - 主成分分析\n",
    "from sklearn.tree import DecisionTreeClassifier   # 分类树\n",
    "\n",
    "from sklearn.model_selection import GridSearchCV  # 网格搜索交叉验证，用于选择最优的参数"
   ]
  },
  {
   "cell_type": "code",
   "execution_count": 2,
   "metadata": {
    "collapsed": true
   },
   "outputs": [],
   "source": [
    "## 设置属性防止中文乱码\n",
    "mpl.rcParams['font.sans-serif'] = [u'SimHei']\n",
    "mpl.rcParams['axes.unicode_minus'] = False\n",
    "\n",
    "warnings.filterwarnings('ignore', category=FutureWarning)"
   ]
  },
  {
   "cell_type": "code",
   "execution_count": 3,
   "metadata": {
    "collapsed": true
   },
   "outputs": [],
   "source": [
    "names = ['花萼长度', '花萼宽度', '花瓣长度', '花瓣宽度','花型']\n",
    "iris_class = 'Iris-setosa', 'Iris-versicolor', 'Iris-virginica'"
   ]
  },
  {
   "cell_type": "markdown",
   "metadata": {},
   "source": [
    "##### 1、读取数据 "
   ]
  },
  {
   "cell_type": "code",
   "execution_count": 4,
   "metadata": {},
   "outputs": [
    {
     "data": {
      "text/html": [
       "<div>\n",
       "<style>\n",
       "    .dataframe thead tr:only-child th {\n",
       "        text-align: right;\n",
       "    }\n",
       "\n",
       "    .dataframe thead th {\n",
       "        text-align: left;\n",
       "    }\n",
       "\n",
       "    .dataframe tbody tr th {\n",
       "        vertical-align: top;\n",
       "    }\n",
       "</style>\n",
       "<table border=\"1\" class=\"dataframe\">\n",
       "  <thead>\n",
       "    <tr style=\"text-align: right;\">\n",
       "      <th></th>\n",
       "      <th>花萼长度</th>\n",
       "      <th>花萼宽度</th>\n",
       "      <th>花瓣长度</th>\n",
       "      <th>花瓣宽度</th>\n",
       "      <th>花型</th>\n",
       "    </tr>\n",
       "  </thead>\n",
       "  <tbody>\n",
       "    <tr>\n",
       "      <th>0</th>\n",
       "      <td>5.1</td>\n",
       "      <td>3.5</td>\n",
       "      <td>1.4</td>\n",
       "      <td>0.2</td>\n",
       "      <td>Iris-setosa</td>\n",
       "    </tr>\n",
       "    <tr>\n",
       "      <th>1</th>\n",
       "      <td>4.9</td>\n",
       "      <td>3.0</td>\n",
       "      <td>1.4</td>\n",
       "      <td>0.2</td>\n",
       "      <td>Iris-setosa</td>\n",
       "    </tr>\n",
       "    <tr>\n",
       "      <th>2</th>\n",
       "      <td>4.7</td>\n",
       "      <td>3.2</td>\n",
       "      <td>1.3</td>\n",
       "      <td>0.2</td>\n",
       "      <td>Iris-setosa</td>\n",
       "    </tr>\n",
       "    <tr>\n",
       "      <th>3</th>\n",
       "      <td>4.6</td>\n",
       "      <td>3.1</td>\n",
       "      <td>1.5</td>\n",
       "      <td>0.2</td>\n",
       "      <td>Iris-setosa</td>\n",
       "    </tr>\n",
       "    <tr>\n",
       "      <th>4</th>\n",
       "      <td>5.0</td>\n",
       "      <td>3.6</td>\n",
       "      <td>1.4</td>\n",
       "      <td>0.2</td>\n",
       "      <td>Iris-setosa</td>\n",
       "    </tr>\n",
       "  </tbody>\n",
       "</table>\n",
       "</div>"
      ],
      "text/plain": [
       "   花萼长度  花萼宽度  花瓣长度  花瓣宽度           花型\n",
       "0   5.1   3.5   1.4   0.2  Iris-setosa\n",
       "1   4.9   3.0   1.4   0.2  Iris-setosa\n",
       "2   4.7   3.2   1.3   0.2  Iris-setosa\n",
       "3   4.6   3.1   1.5   0.2  Iris-setosa\n",
       "4   5.0   3.6   1.4   0.2  Iris-setosa"
      ]
     },
     "execution_count": 4,
     "metadata": {},
     "output_type": "execute_result"
    }
   ],
   "source": [
    "path = './datas/iris.data'  \n",
    "data = pd.read_csv(path, header=None,names = names)\n",
    "data.head()"
   ]
  },
  {
   "cell_type": "markdown",
   "metadata": {},
   "source": [
    "##### 2、数据处理 + 数据分割\n",
    "—— data[ column ].value_counts()   查看某列的数据类型及数量，在本题中输出 Iris-virginica=50; Iris-versicolor=50; Iris-setosa=50   ★\n",
    "\n",
    "—— pd.Categorical(y).codes   把文本数据进行编码, 把y不同类型的值转换成数字编码类型，从0开始，0,1,2...。通常用于Y的数字标签化   ★\n",
    "\n",
    "    常配合使用"
   ]
  },
  {
   "cell_type": "code",
   "execution_count": 5,
   "metadata": {},
   "outputs": [
    {
     "name": "stdout",
     "output_type": "stream",
     "text": [
      "总样本数目：150;特征属性数目:4\n"
     ]
    }
   ],
   "source": [
    "x=data[names[:-1]]\n",
    "y=data[names[-1]]\n",
    "y=pd.Categorical(y).codes   # 把类型值的y转换成数字编码类型 0,1,2\n",
    "\n",
    "print(\"总样本数目：%d;特征属性数目:%d\" % x.shape)"
   ]
  },
  {
   "cell_type": "markdown",
   "metadata": {},
   "source": [
    "—— .astype(np.int) 转int类型 "
   ]
  },
  {
   "cell_type": "code",
   "execution_count": 6,
   "metadata": {},
   "outputs": [
    {
     "name": "stdout",
     "output_type": "stream",
     "text": [
      "训练数据集样本数目：120, 测试数据集样本数目：30\n"
     ]
    },
    {
     "data": {
      "text/html": [
       "<div>\n",
       "<style>\n",
       "    .dataframe thead tr:only-child th {\n",
       "        text-align: right;\n",
       "    }\n",
       "\n",
       "    .dataframe thead th {\n",
       "        text-align: left;\n",
       "    }\n",
       "\n",
       "    .dataframe tbody tr th {\n",
       "        vertical-align: top;\n",
       "    }\n",
       "</style>\n",
       "<table border=\"1\" class=\"dataframe\">\n",
       "  <thead>\n",
       "    <tr style=\"text-align: right;\">\n",
       "      <th></th>\n",
       "      <th>花萼长度</th>\n",
       "      <th>花萼宽度</th>\n",
       "      <th>花瓣长度</th>\n",
       "      <th>花瓣宽度</th>\n",
       "    </tr>\n",
       "  </thead>\n",
       "  <tbody>\n",
       "    <tr>\n",
       "      <th>39</th>\n",
       "      <td>5.1</td>\n",
       "      <td>3.4</td>\n",
       "      <td>1.5</td>\n",
       "      <td>0.2</td>\n",
       "    </tr>\n",
       "    <tr>\n",
       "      <th>93</th>\n",
       "      <td>5.0</td>\n",
       "      <td>2.3</td>\n",
       "      <td>3.3</td>\n",
       "      <td>1.0</td>\n",
       "    </tr>\n",
       "    <tr>\n",
       "      <th>73</th>\n",
       "      <td>6.1</td>\n",
       "      <td>2.8</td>\n",
       "      <td>4.7</td>\n",
       "      <td>1.2</td>\n",
       "    </tr>\n",
       "    <tr>\n",
       "      <th>14</th>\n",
       "      <td>5.8</td>\n",
       "      <td>4.0</td>\n",
       "      <td>1.2</td>\n",
       "      <td>0.2</td>\n",
       "    </tr>\n",
       "    <tr>\n",
       "      <th>69</th>\n",
       "      <td>5.6</td>\n",
       "      <td>2.5</td>\n",
       "      <td>3.9</td>\n",
       "      <td>1.1</td>\n",
       "    </tr>\n",
       "  </tbody>\n",
       "</table>\n",
       "</div>"
      ],
      "text/plain": [
       "    花萼长度  花萼宽度  花瓣长度  花瓣宽度\n",
       "39   5.1   3.4   1.5   0.2\n",
       "93   5.0   2.3   3.3   1.0\n",
       "73   6.1   2.8   4.7   1.2\n",
       "14   5.8   4.0   1.2   0.2\n",
       "69   5.6   2.5   3.9   1.1"
      ]
     },
     "execution_count": 6,
     "metadata": {},
     "output_type": "execute_result"
    }
   ],
   "source": [
    "x_train1, x_test1, y_train1, y_test1 = train_test_split(x, y, train_size=0.8, random_state=14)\n",
    "\n",
    "x_train, x_test, y_train, y_test = x_train1, x_test1, y_train1, y_test1\n",
    "print (\"训练数据集样本数目：%d, 测试数据集样本数目：%d\" % (x_train.shape[0], x_test.shape[0]))\n",
    "\n",
    "x_train.head()"
   ]
  },
  {
   "cell_type": "markdown",
   "metadata": {},
   "source": [
    "##### 3、数据预处理 - 标准化训练 \n",
    "数据处理后，由DataFrame转为了数组array\n",
    "\n",
    "—— StandardScaler (基于特征矩阵的列，将属性值转换至服从正态分布)\n",
    "    \n",
    "    将样本的特征值转换到同一量纲下\n",
    "    常用于基于正态分布的算法，比如回归\n",
    "\n",
    "—— MinMaxScaler 归一化，将属性缩放到一个指定的最大和最小值（通常是1-0）之间\n",
    "\n",
    "    提升模型收敛速度，提升模型精度\n",
    "    对于方差非常小的属性可以增强其稳定性\n",
    "    维持稀疏矩阵中为0的条目\n",
    "    常见用于神经网络\n",
    "    \n",
    "    -》.min 特征属性的调整最小值\n",
    "    -》.scale 特征属性的缩放数据值\n",
    "\n",
    "—— Normalizer （基于矩阵的行，将样本向量转换为单位向量）\n",
    "    \n",
    "    其目的在于样本向量在点乘运算或其他核函数计算相似性时，拥有统一的标准\n",
    "    常见用于文本分类和聚类，logistic回归中也会使用，可有效防止过拟合\n",
    "    \n",
    "回归模型经常用StandardScaler，分类模型常用MinMaxScaler  ★"
   ]
  },
  {
   "cell_type": "code",
   "execution_count": 7,
   "metadata": {},
   "outputs": [
    {
     "name": "stdout",
     "output_type": "stream",
     "text": [
      "MinMaxScaler标准化后，各特征属性的最小值: [-1.19444444 -0.83333333 -0.18965517 -0.04166667]\n",
      "MinMaxScaler标准化时，各特征属性的缩放数据值: [ 0.27777778  0.41666667  0.17241379  0.41666667]\n"
     ]
    },
    {
     "data": {
      "text/plain": [
       "array([[ 0.22222222,  0.58333333,  0.06896552,  0.04166667],\n",
       "       [ 0.19444444,  0.125     ,  0.37931034,  0.375     ],\n",
       "       [ 0.5       ,  0.33333333,  0.62068966,  0.45833333],\n",
       "       [ 0.41666667,  0.83333333,  0.01724138,  0.04166667],\n",
       "       [ 0.36111111,  0.20833333,  0.48275862,  0.41666667]])"
      ]
     },
     "execution_count": 7,
     "metadata": {},
     "output_type": "execute_result"
    }
   ],
   "source": [
    "ss = MinMaxScaler ()\n",
    "x_train = ss.fit_transform(x_train)\n",
    "x_test = ss.transform(x_test)\n",
    "\n",
    "print (\"MinMaxScaler标准化后，各特征属性的最小值:\",ss.min_)\n",
    "print (\"MinMaxScaler标准化时，各特征属性的缩放数据值:\",ss.scale_)\n",
    "\n",
    "type(x_train)\n",
    "x_train[:5]"
   ]
  },
  {
   "cell_type": "markdown",
   "metadata": {},
   "source": [
    "##### 3.1、特征选择\n",
    "—— SelectKBest（卡方系数,k）：从已有的特征中选择出影响目标值最大的k个特征属性:k默认为10\n",
    "\n",
    "    ①、分类：F统计量、卡方系数，互信息mutual_info_classif\n",
    "    ②、连续：皮尔逊相关系数 F统计量 互信息mutual_info_classif\n",
    "\n",
    "—— get_support(indices=True) ：获取特征筛选结果，返回列编号\n",
    "\n",
    "    也可以通过.scores_方法获取各个特征的分数"
   ]
  },
  {
   "cell_type": "code",
   "execution_count": 8,
   "metadata": {},
   "outputs": [
    {
     "name": "stdout",
     "output_type": "stream",
     "text": [
      "对类别判断影响最大的三个特征属性分布是: [0 2 3]\n"
     ]
    },
    {
     "data": {
      "text/plain": [
       "array([[ 0.22222222,  0.06896552,  0.04166667],\n",
       "       [ 0.19444444,  0.37931034,  0.375     ],\n",
       "       [ 0.5       ,  0.62068966,  0.45833333],\n",
       "       [ 0.41666667,  0.01724138,  0.04166667],\n",
       "       [ 0.36111111,  0.48275862,  0.41666667]])"
      ]
     },
     "execution_count": 8,
     "metadata": {},
     "output_type": "execute_result"
    }
   ],
   "source": [
    "ch2 = SelectKBest(chi2,k=3)   # 从原始的特征属性(共4个)中选出3个\n",
    "x_train = ch2.fit_transform(x_train, y_train)   # 在特征选择中，要引入Y，拟合X和Y的数据，获取X特征属性影响力\n",
    "x_test = ch2.transform(x_test)\n",
    "\n",
    "select_name_index = ch2.get_support(indices=True)\n",
    "print (\"对类别判断影响最大的三个特征属性分布是:\",select_name_index)\n",
    "\n",
    "x_train[:5]"
   ]
  },
  {
   "cell_type": "markdown",
   "metadata": {},
   "source": [
    "##### 3.2、降维 \n",
    "对于数据而言，如果特征属性过多，构建过程会比较复杂，此时考虑将多维（高维）数据映射到低维\n",
    "#常用的方法：\n",
    "\n",
    "—— PCA(n_components)：主成分分析（无监督），降低到 n_components 维度\n",
    "\n",
    "    -》.explained_variance_ratio_ ：表示降维后的 各主成分方差值 占 总方差值 的比例，这个比例越大，则该成分越重要。即单变量方差贡献率\n",
    "—— LDA：线性判别分析（有监督）类内方差最小，人脸识别，通常先做一次PCA"
   ]
  },
  {
   "cell_type": "code",
   "execution_count": 9,
   "metadata": {},
   "outputs": [
    {
     "name": "stdout",
     "output_type": "stream",
     "text": [
      "[ 0.93623786  0.05173032]\n"
     ]
    },
    {
     "data": {
      "text/plain": [
       "array([[-0.64107493, -0.05592058],\n",
       "       [-0.2432057 ,  0.16017604],\n",
       "       [ 0.0948966 , -0.04180635],\n",
       "       [-0.5888552 , -0.22744693],\n",
       "       [-0.07891242,  0.04585431]])"
      ]
     },
     "execution_count": 9,
     "metadata": {},
     "output_type": "execute_result"
    }
   ],
   "source": [
    "pca = PCA(n_components=2)   # 在画图时用2维，平时用默认值\n",
    "x_train = pca.fit_transform(x_train)\n",
    "x_test = pca.transform(x_test)\n",
    "\n",
    "print(pca.explained_variance_ratio_)\n",
    "x_train[:5]"
   ]
  },
  {
   "cell_type": "markdown",
   "metadata": {},
   "source": [
    "##### 4、决策树模型构建 + 模型训练 + 预测 + 评估\n",
    "—— DecisionTreeClassifier() 分类决策树\n",
    "\n",
    "    criterion='gini' ：决策树分割属性标准。默认为gini系数，也就是CART；可选entropy，表示使用信息熵\n",
    "    splitter='best' ：给定选择划分属性时，采用什么方式，默认为best，表示选择最优的方式划分；可选random，表示随机\n",
    "    max_depth=None ：树的最大允许深度，默认不限制\n",
    "    min_samples_split=2 ：阈值，节点样本数小于等于该值时，停止树的构建\n",
    "    \n",
    "—— .classes_ 获取模型标签值（二进制值）"
   ]
  },
  {
   "cell_type": "code",
   "execution_count": 10,
   "metadata": {},
   "outputs": [
    {
     "name": "stdout",
     "output_type": "stream",
     "text": [
      "Score： 0.966666666667\n",
      "Classes: [0 1 2]\n"
     ]
    }
   ],
   "source": [
    "model = DecisionTreeClassifier(criterion='entropy',random_state=0)\n",
    "model.fit(x_train, y_train)   # 模型训练\n",
    "y_predict = model.predict(x_test)   # 模型预测\n",
    "\n",
    "print (\"Score：\", model.score(x_test, y_test))   # R^2 准确率 ；3.1和3.2将准确率提高了\n",
    "print (\"Classes:\", model.classes_)"
   ]
  },
  {
   "cell_type": "code",
   "execution_count": 11,
   "metadata": {},
   "outputs": [
    {
     "name": "stdout",
     "output_type": "stream",
     "text": [
      "准确率:96.67%\n"
     ]
    }
   ],
   "source": [
    "# 分类算法的.score可以看成下面的结果\n",
    "result = (y_test == y_predict)   # 验证准确数量\n",
    "print (\"准确率:%.2f%%\" % (np.mean(result) * 100))   # 准确率"
   ]
  },
  {
   "cell_type": "markdown",
   "metadata": {},
   "source": [
    "##### 5、画图\n",
    "一般不会用flat_x = np.stack((grid_x.ravel(), grid_y.ravel()), axis=1)  待定"
   ]
  },
  {
   "cell_type": "code",
   "execution_count": 19,
   "metadata": {},
   "outputs": [],
   "source": [
    "# 1、通过取值范围获取测试点 - 由于之前做了区间缩放预处理，所以x_train和x_test的范围被压缩了\n",
    "\n",
    "x1_min = np.min((x_train[:,0].min(), x_test[:,0].min()))   # 第一个属性组\n",
    "x1_max = np.max((x_train[:,0].max(), x_test[:,0].max()))\n",
    "x2_min = np.min((x_train[:,1].min(), x_test[:,1].min()))   # 第二个属性组\n",
    "x2_max = np.max((x_train[:,1].max(), x_test[:,1].max()))\n",
    "\n",
    "# x1_min, x2_min = x_train.min()   # DataFrame数据默认按列处理  用上面的方法保证了图形的完整性，但有时也会用下面方法来简单处理\n",
    "# x1_max, x2_max = x_train.max()\n",
    "\n",
    "t1 = np.linspace(x1_min, x1_max, 100)   # x坐标点 (100,)  在横纵坐标各取100点\n",
    "t2 = np.linspace(x2_min, x2_max, 100)   # y坐标点 (100,)\n",
    "\n",
    "grid_x, grid_y = np.meshgrid(t1, t2)  # 2、生成网格采样点 （100*100），覆盖了整个绘图区域\n",
    "flat_x = np.dstack((grid_x.ravel(), grid_y.ravel())).reshape(-1,2)   # 3、对应元素重组，得到栅格点阵坐标。注意删去最外层无用的[]\n",
    "\n",
    "flat_y = model.predict(flat_x)  # 模型预测 - 用训练好的模型对栅格点进行预测，以获得每个点的标签类型\n",
    "grid_label = flat_y.reshape(grid_x.shape)  # 使标签值匹配grid_x / grid_y网格采样点，保持形状一致"
   ]
  },
  {
   "cell_type": "markdown",
   "metadata": {},
   "source": [
    "—— mpl.colors.ListedColormap() 设置颜色类型。注意这里是mpl  ★★★"
   ]
  },
  {
   "cell_type": "code",
   "execution_count": 318,
   "metadata": {},
   "outputs": [
    {
     "data": {
      "image/png": "[encoded data removed]",
      "text/plain": [
       "<Figure size 432x288 with 1 Axes>"
      ]
     },
     "metadata": {},
     "output_type": "display_data"
    }
   ],
   "source": [
    "plt.figure(facecolor='w')\n",
    "\n",
    "plt_light = mpl.colors.ListedColormap(['#A0FFA0', '#FFA0A0', '#A0A0FF'])   # 设置浅色色系，以映射y_show\n",
    "plt_dark = mpl.colors.ListedColormap(['g', 'r', 'b'])   # 深色，以映射y_train\n",
    "\n",
    "plt.pcolormesh(grid_x, grid_y, grid_label, cmap=plt_light)   # 类别区域图，分类底色\n",
    "plt.scatter(x_train[:,0], x_train[:,1], c=y_train, edgecolors='k', s=40, cmap=plt_dark)  # 训练集样本类别情况\n",
    "plt.scatter(x_test[:,0], x_test[:,1], c=y_predict, edgecolors='k', s=150, zorder=10, cmap=plt_dark, marker='*')  # 测试集样本类别情况\n",
    "\n",
    "plt.xlabel('特征属性1', fontsize=15)\n",
    "plt.ylabel('特征属性2', fontsize=15)\n",
    "plt.xlim(x1_min, x1_max)\n",
    "plt.ylim(x2_min, x2_max)\n",
    "plt.grid(True)\n",
    "plt.title('鸢尾花数据的分类决策树', fontsize=18)\n",
    "plt.show()"
   ]
  },
  {
   "cell_type": "markdown",
   "metadata": {},
   "source": [
    "# 在多模型和参数中找最优方案"
   ]
  },
  {
   "cell_type": "markdown",
   "metadata": {},
   "source": [
    "##### 1、管道准备 + 参数字典 + 数据划分（已分好）"
   ]
  },
  {
   "cell_type": "code",
   "execution_count": 249,
   "metadata": {
    "collapsed": true,
    "scrolled": true
   },
   "outputs": [],
   "source": [
    "pipe = Pipeline([\n",
    "            ('mms', MinMaxScaler()),\n",
    "            ('skb', SelectKBest(chi2)),\n",
    "            ('pca', PCA()),\n",
    "            ('decision', DecisionTreeClassifier(random_state=0))\n",
    "        ])\n",
    "\n",
    "parameters = {\n",
    "    \"skb__k\": [1,2,3,4],   # 卡方系数\n",
    "    \"pca__n_components\": [0.5,0.99],   # —— n_components 设置为浮点数（小数）时，表示主成分方差所占最小比例的阈值\n",
    "    \n",
    "    \"decision__criterion\": [\"gini\", \"entropy\"],   # 决策树使用的方法\n",
    "    \"decision__max_depth\": [1,2,3,4,5,6,7,8,9,10]   # 最大深度\n",
    "}\n",
    "\n",
    "x_train2, x_test2, y_train2, y_test2 = x_train1, x_test1, y_train1, y_test1"
   ]
  },
  {
   "cell_type": "markdown",
   "metadata": {},
   "source": [
    "##### 2、(数据预处理 + 模型构建 )+ 训练 + 预测 + 评估"
   ]
  },
  {
   "cell_type": "code",
   "execution_count": 250,
   "metadata": {},
   "outputs": [
    {
     "name": "stdout",
     "output_type": "stream",
     "text": [
      "最优参数列表: {'decision__criterion': 'gini', 'decision__max_depth': 4, 'pca__n_components': 0.99, 'skb__k': 3}\n",
      "score值： 0.95\n"
     ]
    },
    {
     "name": "stderr",
     "output_type": "stream",
     "text": [
      "C:\\4_IT\\Anaconda\\lib\\site-packages\\sklearn\\model_selection\\_search.py:841: DeprecationWarning: The default of the `iid` parameter will change from True to False in version 0.22 and will be removed in 0.24. This will change numeric results when test-set sizes are unequal.\n",
      "  DeprecationWarning)\n"
     ]
    }
   ],
   "source": [
    "gscv = GridSearchCV(pipe, param_grid=parameters,cv=3)   # 通过网格交叉验证，寻找最优参数列表\n",
    "gscv.fit(x_train2, y_train2)   #模型训练\n",
    "y_predict2 = gscv.predict(x_test2)  # 模型预测\n",
    "\n",
    "print(\"最优参数列表:\", gscv.best_params_)\n",
    "print(\"score值：\",gscv.best_score_)"
   ]
  },
  {
   "cell_type": "markdown",
   "metadata": {},
   "source": [
    "## 对交叉结果进行自行验证 应用最优参数看效果"
   ]
  },
  {
   "cell_type": "code",
   "execution_count": 251,
   "metadata": {
    "collapsed": true
   },
   "outputs": [],
   "source": [
    "mms_best = MinMaxScaler()\n",
    "skb_best = SelectKBest(chi2, k=3)\n",
    "pca_best = PCA(n_components=0.99)\n",
    "decision3 = DecisionTreeClassifier(criterion='gini', max_depth=4)"
   ]
  },
  {
   "cell_type": "code",
   "execution_count": 252,
   "metadata": {
    "scrolled": false
   },
   "outputs": [
    {
     "ename": "NotFittedError",
     "evalue": "This DecisionTreeClassifier instance is not fitted yet. Call 'fit' with appropriate arguments before using this method.",
     "output_type": "error",
     "traceback": [
      "\u001b[1;31m---------------------------------------------------------------------------\u001b[0m",
      "\u001b[1;31mNotFittedError\u001b[0m                            Traceback (most recent call last)",
      "\u001b[1;32m<ipython-input-252-480870e0722e>\u001b[0m in \u001b[0;36m<module>\u001b[1;34m\u001b[0m\n\u001b[0;32m      4\u001b[0m \u001b[0mx_test3\u001b[0m \u001b[1;33m=\u001b[0m \u001b[0mpca_best\u001b[0m\u001b[1;33m.\u001b[0m\u001b[0mtransform\u001b[0m\u001b[1;33m(\u001b[0m\u001b[0mskb_best\u001b[0m\u001b[1;33m.\u001b[0m\u001b[0mtransform\u001b[0m\u001b[1;33m(\u001b[0m\u001b[0mmms_best\u001b[0m\u001b[1;33m.\u001b[0m\u001b[0mtransform\u001b[0m\u001b[1;33m(\u001b[0m\u001b[0mx_test3\u001b[0m\u001b[1;33m)\u001b[0m\u001b[1;33m)\u001b[0m\u001b[1;33m)\u001b[0m\u001b[1;33m\u001b[0m\u001b[1;33m\u001b[0m\u001b[0m\n\u001b[0;32m      5\u001b[0m \u001b[1;33m\u001b[0m\u001b[0m\n\u001b[1;32m----> 6\u001b[1;33m \u001b[0mprint\u001b[0m\u001b[1;33m(\u001b[0m\u001b[1;34m\"正确率:\"\u001b[0m\u001b[1;33m,\u001b[0m \u001b[0mdecision3\u001b[0m\u001b[1;33m.\u001b[0m\u001b[0mscore\u001b[0m\u001b[1;33m(\u001b[0m\u001b[0mx_test3\u001b[0m\u001b[1;33m,\u001b[0m \u001b[0my_test3\u001b[0m\u001b[1;33m)\u001b[0m\u001b[1;33m)\u001b[0m\u001b[1;33m\u001b[0m\u001b[1;33m\u001b[0m\u001b[0m\n\u001b[0m",
      "\u001b[1;32mC:\\4_IT\\Anaconda\\lib\\site-packages\\sklearn\\base.py\u001b[0m in \u001b[0;36mscore\u001b[1;34m(self, X, y, sample_weight)\u001b[0m\n\u001b[0;32m    286\u001b[0m         \"\"\"\n\u001b[0;32m    287\u001b[0m         \u001b[1;32mfrom\u001b[0m \u001b[1;33m.\u001b[0m\u001b[0mmetrics\u001b[0m \u001b[1;32mimport\u001b[0m \u001b[0maccuracy_score\u001b[0m\u001b[1;33m\u001b[0m\u001b[1;33m\u001b[0m\u001b[0m\n\u001b[1;32m--> 288\u001b[1;33m         \u001b[1;32mreturn\u001b[0m \u001b[0maccuracy_score\u001b[0m\u001b[1;33m(\u001b[0m\u001b[0my\u001b[0m\u001b[1;33m,\u001b[0m \u001b[0mself\u001b[0m\u001b[1;33m.\u001b[0m\u001b[0mpredict\u001b[0m\u001b[1;33m(\u001b[0m\u001b[0mX\u001b[0m\u001b[1;33m)\u001b[0m\u001b[1;33m,\u001b[0m \u001b[0msample_weight\u001b[0m\u001b[1;33m=\u001b[0m\u001b[0msample_weight\u001b[0m\u001b[1;33m)\u001b[0m\u001b[1;33m\u001b[0m\u001b[1;33m\u001b[0m\u001b[0m\n\u001b[0m\u001b[0;32m    289\u001b[0m \u001b[1;33m\u001b[0m\u001b[0m\n\u001b[0;32m    290\u001b[0m \u001b[1;33m\u001b[0m\u001b[0m\n",
      "\u001b[1;32mC:\\4_IT\\Anaconda\\lib\\site-packages\\sklearn\\tree\\tree.py\u001b[0m in \u001b[0;36mpredict\u001b[1;34m(self, X, check_input)\u001b[0m\n\u001b[0;32m    413\u001b[0m             \u001b[0mThe\u001b[0m \u001b[0mpredicted\u001b[0m \u001b[0mclasses\u001b[0m\u001b[1;33m,\u001b[0m \u001b[1;32mor\u001b[0m \u001b[0mthe\u001b[0m \u001b[0mpredict\u001b[0m \u001b[0mvalues\u001b[0m\u001b[1;33m.\u001b[0m\u001b[1;33m\u001b[0m\u001b[1;33m\u001b[0m\u001b[0m\n\u001b[0;32m    414\u001b[0m         \"\"\"\n\u001b[1;32m--> 415\u001b[1;33m         \u001b[0mcheck_is_fitted\u001b[0m\u001b[1;33m(\u001b[0m\u001b[0mself\u001b[0m\u001b[1;33m,\u001b[0m \u001b[1;34m'tree_'\u001b[0m\u001b[1;33m)\u001b[0m\u001b[1;33m\u001b[0m\u001b[1;33m\u001b[0m\u001b[0m\n\u001b[0m\u001b[0;32m    416\u001b[0m         \u001b[0mX\u001b[0m \u001b[1;33m=\u001b[0m \u001b[0mself\u001b[0m\u001b[1;33m.\u001b[0m\u001b[0m_validate_X_predict\u001b[0m\u001b[1;33m(\u001b[0m\u001b[0mX\u001b[0m\u001b[1;33m,\u001b[0m \u001b[0mcheck_input\u001b[0m\u001b[1;33m)\u001b[0m\u001b[1;33m\u001b[0m\u001b[1;33m\u001b[0m\u001b[0m\n\u001b[0;32m    417\u001b[0m         \u001b[0mproba\u001b[0m \u001b[1;33m=\u001b[0m \u001b[0mself\u001b[0m\u001b[1;33m.\u001b[0m\u001b[0mtree_\u001b[0m\u001b[1;33m.\u001b[0m\u001b[0mpredict\u001b[0m\u001b[1;33m(\u001b[0m\u001b[0mX\u001b[0m\u001b[1;33m)\u001b[0m\u001b[1;33m\u001b[0m\u001b[1;33m\u001b[0m\u001b[0m\n",
      "\u001b[1;32mC:\\4_IT\\Anaconda\\lib\\site-packages\\sklearn\\utils\\validation.py\u001b[0m in \u001b[0;36mcheck_is_fitted\u001b[1;34m(estimator, attributes, msg, all_or_any)\u001b[0m\n\u001b[0;32m    949\u001b[0m \u001b[1;33m\u001b[0m\u001b[0m\n\u001b[0;32m    950\u001b[0m     \u001b[1;32mif\u001b[0m \u001b[1;32mnot\u001b[0m \u001b[0mall_or_any\u001b[0m\u001b[1;33m(\u001b[0m\u001b[1;33m[\u001b[0m\u001b[0mhasattr\u001b[0m\u001b[1;33m(\u001b[0m\u001b[0mestimator\u001b[0m\u001b[1;33m,\u001b[0m \u001b[0mattr\u001b[0m\u001b[1;33m)\u001b[0m \u001b[1;32mfor\u001b[0m \u001b[0mattr\u001b[0m \u001b[1;32min\u001b[0m \u001b[0mattributes\u001b[0m\u001b[1;33m]\u001b[0m\u001b[1;33m)\u001b[0m\u001b[1;33m:\u001b[0m\u001b[1;33m\u001b[0m\u001b[1;33m\u001b[0m\u001b[0m\n\u001b[1;32m--> 951\u001b[1;33m         \u001b[1;32mraise\u001b[0m \u001b[0mNotFittedError\u001b[0m\u001b[1;33m(\u001b[0m\u001b[0mmsg\u001b[0m \u001b[1;33m%\u001b[0m \u001b[1;33m{\u001b[0m\u001b[1;34m'name'\u001b[0m\u001b[1;33m:\u001b[0m \u001b[0mtype\u001b[0m\u001b[1;33m(\u001b[0m\u001b[0mestimator\u001b[0m\u001b[1;33m)\u001b[0m\u001b[1;33m.\u001b[0m\u001b[0m__name__\u001b[0m\u001b[1;33m}\u001b[0m\u001b[1;33m)\u001b[0m\u001b[1;33m\u001b[0m\u001b[1;33m\u001b[0m\u001b[0m\n\u001b[0m\u001b[0;32m    952\u001b[0m \u001b[1;33m\u001b[0m\u001b[0m\n\u001b[0;32m    953\u001b[0m \u001b[1;33m\u001b[0m\u001b[0m\n",
      "\u001b[1;31mNotFittedError\u001b[0m: This DecisionTreeClassifier instance is not fitted yet. Call 'fit' with appropriate arguments before using this method."
     ]
    }
   ],
   "source": [
    "x_train3, x_test3, y_train3, y_test3 = x_train1, x_test1, y_train1, y_test1\n",
    "\n",
    "x_train3 = pca_best.fit_transform(skb_best.fit_transform(mms_best.fit_transform(x_train3), y_train3))\n",
    "x_test3 = pca_best.transform(skb_best.transform(mms_best.transform(x_test3)))\n",
    "\n",
    "print(\"正确率:\", decision3.score(x_test3, y_test3))"
   ]
  },
  {
   "cell_type": "markdown",
   "metadata": {},
   "source": [
    "### GridSearchCV 模型保存和加载"
   ]
  },
  {
   "cell_type": "code",
   "execution_count": null,
   "metadata": {
    "collapsed": true,
    "scrolled": false
   },
   "outputs": [],
   "source": [
    "from sklearn.externals import joblib\n",
    "\n",
    "best_gscv_model = gscv.best_estimator_\n",
    "joblib.dump(best_gscv_model, \"gscv.model\")"
   ]
  },
  {
   "cell_type": "code",
   "execution_count": null,
   "metadata": {
    "collapsed": true
   },
   "outputs": [],
   "source": [
    "# 加载已经预处理了的CV模型\n",
    "best_gscv_model_new = joblib.load(\"gscv.model\")"
   ]
  },
  {
   "cell_type": "markdown",
   "metadata": {},
   "source": [
    "# 决策树可视化"
   ]
  },
  {
   "cell_type": "markdown",
   "metadata": {},
   "source": [
    "##### 方式一：输出形成dot文件，然后使用graphviz的dot命令将dot文件转换为pdf"
   ]
  },
  {
   "cell_type": "code",
   "execution_count": null,
   "metadata": {
    "collapsed": true
   },
   "outputs": [],
   "source": [
    "from sklearn import tree\n",
    "with open('iris.dot', 'w') as f:\n",
    "    f = tree.export_graphviz(model, out_file=f)\n",
    "# 命令行执行dot命令： dot -Tpdf iris.dot -o iris.pdf"
   ]
  },
  {
   "cell_type": "markdown",
   "metadata": {},
   "source": [
    "##### 方式二：直接使用pydotplus插件生成pdf文件"
   ]
  },
  {
   "cell_type": "code",
   "execution_count": null,
   "metadata": {
    "collapsed": true
   },
   "outputs": [],
   "source": [
    "from sklearn import tree\n",
    "import pydotplus \n",
    "dot_data = tree.export_graphviz(model, out_file=None) \n",
    "graph = pydotplus.graph_from_dot_data(dot_data) \n",
    "# graph.write_pdf(\"iris2.pdf\") \n",
    "graph.write_png(\"0.png\")"
   ]
  },
  {
   "cell_type": "markdown",
   "metadata": {},
   "source": [
    "##### 方式三：直接生成图片"
   ]
  },
  {
   "cell_type": "code",
   "execution_count": null,
   "metadata": {
    "collapsed": true,
    "scrolled": true
   },
   "outputs": [],
   "source": [
    "from sklearn import tree\n",
    "from IPython.display import Image\n",
    "import pydotplus\n",
    "\n",
    "dot_data = tree.export_graphviz(model, out_file=None, \n",
    "#                          feature_names=['sepal length', 'sepal width', 'petal length', 'petal width'],  \n",
    "                         feature_names=[u'特征属性1', u'特征属性2'],  \n",
    "                         class_names=['Iris-setosa', 'Iris-versicolor', 'Iris-virginica'],  \n",
    "                         filled=True, rounded=True,  \n",
    "                         special_characters=True)  \n",
    "graph = pydotplus.graph_from_dot_data(dot_data)  \n",
    "Image(graph.create_png()) "
   ]
  },
  {
   "cell_type": "code",
   "execution_count": null,
   "metadata": {
    "collapsed": true
   },
   "outputs": [],
   "source": []
  }
 ],
 "metadata": {
  "anaconda-cloud": {},
  "kernelspec": {
   "display_name": "Python 3",
   "language": "python",
   "name": "python3"
  },
  "language_info": {
   "codemirror_mode": {
    "name": "ipython",
    "version": 3
   },
   "file_extension": ".py",
   "mimetype": "text/x-python",
   "name": "python",
   "nbconvert_exporter": "python",
   "pygments_lexer": "ipython3",
   "version": "3.6.2"
  }
 },
 "nbformat": 4,
 "nbformat_minor": 1
}
