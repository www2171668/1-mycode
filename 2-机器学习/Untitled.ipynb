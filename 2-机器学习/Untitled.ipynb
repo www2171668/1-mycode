{
 "cells": [
  {
   "cell_type": "code",
   "execution_count": 16,
   "metadata": {
    "collapsed": true
   },
   "outputs": [],
   "source": [
    "import numpy as np\n",
    "import tensorflow as tf\n",
    "import gym\n",
    "from gym import spaces, logger"
   ]
  },
  {
   "cell_type": "code",
   "execution_count": 17,
   "metadata": {},
   "outputs": [
    {
     "ename": "SyntaxError",
     "evalue": "keyword can't be an expression (<ipython-input-17-9a1a8e2ef19d>, line 1)",
     "output_type": "error",
     "traceback": [
      "\u001b[1;36m  File \u001b[1;32m\"<ipython-input-17-9a1a8e2ef19d>\"\u001b[1;36m, line \u001b[1;32m1\u001b[0m\n\u001b[1;33m    observation_space = spaces.Box(np.array=[1,1,2], np.array[1,1,2],  dtype=np.float32)\u001b[0m\n\u001b[1;37m                                  ^\u001b[0m\n\u001b[1;31mSyntaxError\u001b[0m\u001b[1;31m:\u001b[0m keyword can't be an expression\n"
     ]
    }
   ],
   "source": [
    "observation_space = spaces.Box(np.array=[1,1,2], np.array[1,1,2],  dtype=np.float32)\n",
    "\n",
    "print(observation_space)"
   ]
  },
  {
   "cell_type": "code",
   "execution_count": 2,
   "metadata": {},
   "outputs": [
    {
     "ename": "SyntaxError",
     "evalue": "invalid syntax (<ipython-input-2-1ea315e9ff73>, line 1)",
     "output_type": "error",
     "traceback": [
      "\u001b[1;36m  File \u001b[1;32m\"<ipython-input-2-1ea315e9ff73>\"\u001b[1;36m, line \u001b[1;32m1\u001b[0m\n\u001b[1;33m    for j, i in jobs\u001b[0m\n\u001b[1;37m                    ^\u001b[0m\n\u001b[1;31mSyntaxError\u001b[0m\u001b[1;31m:\u001b[0m invalid syntax\n"
     ]
    }
   ],
   "source": [
    "for j, i in jobs"
   ]
  },
  {
   "cell_type": "code",
   "execution_count": 8,
   "metadata": {},
   "outputs": [
    {
     "name": "stdout",
     "output_type": "stream",
     "text": [
      "Discrete(8)\n"
     ]
    }
   ],
   "source": [
    "from gym import spaces\n",
    "space = spaces.Discrete(8)\n",
    "print(space)"
   ]
  },
  {
   "cell_type": "code",
   "execution_count": 9,
   "metadata": {},
   "outputs": [
    {
     "name": "stdout",
     "output_type": "stream",
     "text": [
      "2\n"
     ]
    }
   ],
   "source": [
    "a = space.sample()\n",
    "print(a)"
   ]
  },
  {
   "cell_type": "code",
   "execution_count": 10,
   "metadata": {},
   "outputs": [
    {
     "data": {
      "text/plain": [
       "Text(-1, 0, 'ACEACEACE\\n ACEACE\\n ACE')"
      ]
     },
     "execution_count": 10,
     "metadata": {},
     "output_type": "execute_result"
    },
    {
     "data": {
      "image/png": "[encoded data removed]",
      "text/plain": [
       "<Figure size 432x288 with 1 Axes>"
      ]
     },
     "metadata": {
      "needs_background": "light"
     },
     "output_type": "display_data"
    }
   ],
   "source": [
    "import matplotlib.pyplot as plt\n",
    "fig = plt.figure()\n",
    "plt.axis([0, 10, 0, 10])\n",
    "t = (\"ACEACEACE\\n \"\n",
    "     \"ACEACE\\n \"\n",
    "     \"ACE\")\n",
    "plt.text(6, 1, t, ha='left', rotation=15, wrap=True)\n",
    "plt.text(1, 5, t, ha='left', rotation=15, wrap=True)\n",
    "plt.text(5, 5, t, ha='right', rotation=-15, wrap=True)\n",
    "plt.text(5, 10, t, fontsize=18, style='oblique', ha='center',\n",
    "         va='top', wrap=True)\n",
    "plt.text(10, 4, t, family='serif', style='italic', ha='right', wrap=True)\n",
    "plt.text(-1, 0, t, ha='left', rotation=-15, wrap=True)"
   ]
  },
  {
   "cell_type": "code",
   "execution_count": 2,
   "metadata": {},
   "outputs": [
    {
     "name": "stdout",
     "output_type": "stream",
     "text": [
      "1\n",
      "2\n",
      "3\n"
     ]
    }
   ],
   "source": [
    "a = [1,2,3]\n",
    "for i in a:\n",
    "    print(i)"
   ]
  },
  {
   "cell_type": "code",
   "execution_count": 78,
   "metadata": {
    "collapsed": true
   },
   "outputs": [],
   "source": [
    "def get_average(vector, batch=3):\n",
    "    ave = []\n",
    "    for i in range(len(vector)//batch):\n",
    "        start = i * batch\n",
    "        end = (i+1) * batch\n",
    "        vec = vector[start:end]\t\t\t\t\t# 裁剪batch个vector序列\n",
    "        total = sum(vec)\n",
    "        average = total / float(batch)\t\t\t# batch个平均值\n",
    "        ave.append(average)\n",
    "\n",
    "    return ave\t\t\t\t\t\t\t\t\t# 对vectore进行了压缩，得到batch+1个平均值"
   ]
  },
  {
   "cell_type": "code",
   "execution_count": 79,
   "metadata": {},
   "outputs": [
    {
     "name": "stdout",
     "output_type": "stream",
     "text": [
      "[0, 4, 4, 0, 0, 0, 4]\n"
     ]
    }
   ],
   "source": [
    "B = [0,1,1,0,0,0,1]\n",
    "for g in range(3):\n",
    "    if g == 0:\n",
    "        success_all_subgoals = B\n",
    "    else:\n",
    "        for i in range(len(B)):\n",
    "            success_all_subgoals[i] += B[i]\n",
    "\n",
    "print(success_all_subgoals)"
   ]
  },
  {
   "cell_type": "code",
   "execution_count": 80,
   "metadata": {},
   "outputs": [
    {
     "name": "stdout",
     "output_type": "stream",
     "text": [
      "[0.0, 1.0, 1.0, 0.0, 0.0, 0.0, 1.0]\n"
     ]
    }
   ],
   "source": [
    "ave_all_subgoals = []\n",
    "for i in success_all_subgoals:\n",
    "    ave_all_subgoals.append(i/float(4))\n",
    "    \n",
    "print(ave_all_subgoals)"
   ]
  },
  {
   "cell_type": "code",
   "execution_count": 81,
   "metadata": {},
   "outputs": [
    {
     "name": "stdout",
     "output_type": "stream",
     "text": [
      "[0.6666666666666666, 0.0]\n"
     ]
    }
   ],
   "source": [
    "ave_ave_all_subgoals = get_average(ave_all_subgoals)\n",
    "print(ave_ave_all_subgoals)"
   ]
  },
  {
   "cell_type": "code",
   "execution_count": 48,
   "metadata": {},
   "outputs": [
    {
     "name": "stdout",
     "output_type": "stream",
     "text": [
      "[66.66666666666666, 0.0]\n"
     ]
    }
   ],
   "source": [
    "success_percentage_controller = []\n",
    "for i in ave_ave_all_subgoals:\n",
    "    success_percentage_controller.append(i * 100)\n",
    "print(success_percentage_controller)"
   ]
  },
  {
   "cell_type": "code",
   "execution_count": 55,
   "metadata": {},
   "outputs": [
    {
     "name": "stdout",
     "output_type": "stream",
     "text": [
      "[5.0, 10.0, 20.0, 25.0]\n"
     ]
    }
   ],
   "source": [
    "a = [1.0,2.0,4.0,5.0]     #带有float型的列表　\n",
    "my_new_list = [i * 5 for i in a]\n",
    "print(my_new_list)"
   ]
  },
  {
   "cell_type": "code",
   "execution_count": 77,
   "metadata": {},
   "outputs": [
    {
     "name": "stdout",
     "output_type": "stream",
     "text": [
      "[range(0, 120)]\n",
      "[24, 35, 27, 25, 30, 22, 25, 32, 31, 23, 34, 30, 34, 22, 33, 20, 22, 27, 26, 21, 22, 35, 24, 20, 26, 28, 29, 21, 32, 26, 31, 22, 35, 21, 24, 27, 26, 26, 21, 31, 25, 30, 32, 24, 22, 32, 29, 33, 35, 26, 26, 29, 20, 23, 23, 27, 28, 27, 31, 27, 30, 23, 26, 28, 31, 20, 20, 29, 25, 31, 34, 26, 31, 33, 26, 34, 29, 21, 22, 20, 35, 29, 35, 33, 32, 27, 33, 30, 25, 34, 35, 25, 26, 30, 32, 22, 23, 32, 34, 30, 35, 35, 29, 28, 34, 35, 20, 23, 27, 27, 22, 21, 20, 22, 22, 25, 32, 35, 23, 25]\n"
     ]
    }
   ],
   "source": [
    "import random\n",
    "from matplotlib import pyplot  as  plt\n",
    "\n",
    "x = [range(0, 120)]   #➀\n",
    "y = [random.randint(20, 35) for item in range(120)]\n",
    "\n",
    "print(x)\n",
    "print(y)\n",
    "\n",
    "# plt.plot(x, y, color='green') #➁\n",
    "# plt.show()"
   ]
  },
  {
   "cell_type": "code",
   "execution_count": 83,
   "metadata": {},
   "outputs": [
    {
     "name": "stderr",
     "output_type": "stream",
     "text": [
      "usage: ipykernel_launcher.py [-h] [--sparse] [--seed SEED] [--epochs EPOCHS]\n",
      "ipykernel_launcher.py: error: unrecognized arguments: -f C:\\Users\\38497\\AppData\\Roaming\\jupyter\\runtime\\kernel-618b362f-384c-44ac-86f2-3ba38f6cbb20.json\n"
     ]
    },
    {
     "ename": "SystemExit",
     "evalue": "2",
     "output_type": "error",
     "traceback": [
      "An exception has occurred, use %tb to see the full traceback.\n",
      "\u001b[1;31mSystemExit\u001b[0m\u001b[1;31m:\u001b[0m 2\n"
     ]
    }
   ],
   "source": [
    "import argparse\n",
    "\n",
    "parser = argparse.ArgumentParser(description='test')\n",
    "\n",
    "parser.add_argument('--sparse', action='store_true', default=False, help='GAT with sparse version or not.')\n",
    "parser.add_argument('--seed', type=int, default=72, help='Random seed.')\n",
    "parser.add_argument('--epochs', type=int, default=10000, help='Number of epochs to train.')\n",
    "\n",
    "args = parser.parse_args()\n",
    "print(args.sparse)\n",
    "print(args.seed)\n",
    "print(args.epochs)"
   ]
  },
  {
   "cell_type": "code",
   "execution_count": 6,
   "metadata": {
    "scrolled": true
   },
   "outputs": [
    {
     "name": "stdout",
     "output_type": "stream",
     "text": [
      "X_new:\n",
      " [[1 2 3]\n",
      " [4 5 6]\n",
      " [7 8 9]]\n",
      "[[4 5 6]]\n",
      "[[5 6 7]]\n"
     ]
    }
   ],
   "source": [
    "\n",
    "import numpy as np\n",
    "X=np.array([[1,2,3,4],\n",
    "              [5,6,7,8],\n",
    "              [9,10,11,12]])\n",
    " \n",
    "X_new=np.resize(X,(3,3))\n",
    "print(\"X_new:\\n\",X_new) # new X\n",
    "X_new=np.resize(X,(3,3))[1:2,:]\n",
    "print(X_new)\n",
    "# X_new=np.resize(X,(1:2,3))  # 无用\n",
    "# print(X_new)\n",
    "X_new=X[1:2,:3]\n",
    "print(X_new)"
   ]
  },
  {
   "cell_type": "code",
   "execution_count": 4,
   "metadata": {},
   "outputs": [
    {
     "name": "stdout",
     "output_type": "stream",
     "text": [
      "a=123 b=avc\n"
     ]
    }
   ],
   "source": [
    "a = 123\n",
    "b = 'avc'\n",
    "print('a='+str(a),'b='+str(b))"
   ]
  }
 ],
 "metadata": {
  "kernelspec": {
   "display_name": "torch",
   "language": "python",
   "name": "torch"
  },
  "language_info": {
   "codemirror_mode": {
    "name": "ipython",
    "version": 3
   },
   "file_extension": ".py",
   "mimetype": "text/x-python",
   "name": "python",
   "nbconvert_exporter": "python",
   "pygments_lexer": "ipython3",
   "version": "3.6.2"
  }
 },
 "nbformat": 4,
 "nbformat_minor": 2
}
