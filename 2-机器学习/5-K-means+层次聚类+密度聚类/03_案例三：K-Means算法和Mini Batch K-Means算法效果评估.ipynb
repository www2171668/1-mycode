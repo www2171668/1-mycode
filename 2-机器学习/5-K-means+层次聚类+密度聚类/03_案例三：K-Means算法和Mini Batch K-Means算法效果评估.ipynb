{
 "cells": [
  {
   "cell_type": "code",
   "execution_count": 57,
   "metadata": {
    "collapsed": true
   },
   "outputs": [],
   "source": [
    "import numpy as np  \n",
    "import matplotlib.pyplot as plt  \n",
    "import matplotlib as mpl\n",
    "\n",
    "from sklearn.datasets.samples_generator import make_blobs\n",
    "from sklearn.cluster import MiniBatchKMeans, KMeans \n",
    "\n",
    "from sklearn import metrics\n",
    "from sklearn.metrics.pairwise import pairwise_distances_argmin  \n",
    "\n",
    "import time"
   ]
  },
  {
   "cell_type": "code",
   "execution_count": 58,
   "metadata": {
    "collapsed": true
   },
   "outputs": [],
   "source": [
    "## 设置属性防止中文乱码\n",
    "mpl.rcParams['font.sans-serif'] = [u'SimHei']\n",
    "mpl.rcParams['axes.unicode_minus'] = False"
   ]
  },
  {
   "cell_type": "markdown",
   "metadata": {},
   "source": [
    "##### 1、产生模型数据"
   ]
  },
  {
   "cell_type": "code",
   "execution_count": 59,
   "metadata": {},
   "outputs": [
    {
     "data": {
      "text/plain": [
       "(3000, 2)"
      ]
     },
     "execution_count": 59,
     "metadata": {},
     "output_type": "execute_result"
    }
   ],
   "source": [
    "centers = [[1, 1], [-1, -1], [1, -1]] \n",
    "clusters = len(centers)       \n",
    "\n",
    "X, Y = make_blobs(n_samples=3000, centers=centers, cluster_std=0.7, random_state=28)\n",
    "Y # 样本类别，在实际工作中是人工给定的，专门用于判断聚类的效果的一个值\n",
    "X.shape"
   ]
  },
  {
   "cell_type": "markdown",
   "metadata": {},
   "source": [
    "##### 2.1、模型构建 + 训练"
   ]
  },
  {
   "cell_type": "code",
   "execution_count": 60,
   "metadata": {},
   "outputs": [
    {
     "name": "stdout",
     "output_type": "stream",
     "text": [
      "K-Means算法模型训练消耗时间:0.0479s\n"
     ]
    }
   ],
   "source": [
    "k_means = KMeans(init='k-means++', n_clusters=clusters, random_state=28)\n",
    "k_means.fit(X)"
   ]
  },
  {
   "cell_type": "markdown",
   "metadata": {},
   "source": [
    "##### 2.2、模型构建 + 训练\n",
    "—— MiniBatchKMeans()\n",
    "#batch_size：批处理参数，也可以理解为抽样参数，最大值为训练集样本总数"
   ]
  },
  {
   "cell_type": "code",
   "execution_count": 62,
   "metadata": {},
   "outputs": [
    {
     "name": "stdout",
     "output_type": "stream",
     "text": [
      "Mini Batch K-Means算法模型训练消耗时间:0.0359s\n"
     ]
    }
   ],
   "source": [
    "batch_size = 100\n",
    "mbk = MiniBatchKMeans(init='k-means++', n_clusters=clusters, batch_size=batch_size, random_state=28)\n",
    "mbk.fit(X)"
   ]
  },
  {
   "cell_type": "markdown",
   "metadata": {},
   "source": [
    "##### 3、 + 预测"
   ]
  },
  {
   "cell_type": "markdown",
   "metadata": {},
   "source": [
    "labels_ ：获取聚类标签\n",
    "\n",
    "k_means.labels＿，和 k_means.predict(X) 效果是一样的 ★★"
   ]
  },
  {
   "cell_type": "code",
   "execution_count": null,
   "metadata": {
    "collapsed": true
   },
   "outputs": [],
   "source": [
    "# km_y_hat = k_means.labels_\n",
    "# mbkm_y_hat = mbk.labels_\n",
    "# print(km_y_hat) # 样本所属类别\n",
    "\n",
    "km_y_hat = k_means.predict(X)\n",
    "mbkm_y_hat = mbk.predict(X)"
   ]
  },
  {
   "cell_type": "markdown",
   "metadata": {},
   "source": [
    "##### 4.1、簇中心点"
   ]
  },
  {
   "cell_type": "markdown",
   "metadata": {},
   "source": [
    "—— pairwise_distances_argmin(X,Y)：计算点X到点集Y的最小距离,也就是获取样本的类标签"
   ]
  },
  {
   "cell_type": "code",
   "execution_count": 64,
   "metadata": {},
   "outputs": [
    {
     "name": "stdout",
     "output_type": "stream",
     "text": [
      "[0 2 2 ... 1 1 0]\n",
      "[1 0 0 ... 2 2 1]\n"
     ]
    }
   ],
   "source": [
    "order1 = pairwise_distances_argmin(X ,k_means.cluster_centers_)\n",
    "order2 = pairwise_distances_argmin(X ,mbk.cluster_centers_)\n",
    "print(order1)\n",
    "print(order2)"
   ]
  },
  {
   "cell_type": "code",
   "execution_count": 65,
   "metadata": {},
   "outputs": [
    {
     "name": "stdout",
     "output_type": "stream",
     "text": [
      "K-Means算法聚类中心点:\n",
      "center =  [[-1.0600799  -1.05662982]\n",
      " [ 1.02975208 -1.07435837]\n",
      " [ 1.01491055  1.02216649]]\n",
      "\n",
      "Mini Batch K-Means算法聚类中心点:\n",
      "center = [[ 0.99602094  1.10688195]\n",
      " [-1.00828286 -1.05983915]\n",
      " [ 1.07892315 -0.94286826]]\n",
      "\n",
      "[1 2 0]\n"
     ]
    }
   ],
   "source": [
    "print (\"K-Means算法聚类中心点:\\ncenter = \", k_means.cluster_centers_)\n",
    "print()\n",
    "print (\"Mini Batch K-Means算法聚类中心点:\\ncenter =\", mbk.cluster_centers_)\n",
    "print()\n",
    "order = pairwise_distances_argmin(k_means.cluster_centers_ ,mbk.cluster_centers_)\n",
    "# 比较两次聚类的结果的区别，计算KMeans相对于MiniBatchKMeans的索引，即排序作用\n",
    "print(order)"
   ]
  },
  {
   "cell_type": "markdown",
   "metadata": {},
   "source": [
    "##### 4.2、效果评估\n",
    "——metrics.adjusted_rand_score(label_true,label_predict)：ARI\n",
    "\n",
    "——metrics.v_measure_score(label_true,label_predict)：均一性和完整性的加权平均\n",
    "\n",
    "——metrics.adjusted_mutual_info_score(label_true,label_predict)：AMI\n",
    "\n",
    "——metrics.mutual_info_score(label_true,label_predict)：互信息\n",
    "#label_true：真实值（分类效果）\n",
    "#label_predict：预测值"
   ]
  },
  {
   "cell_type": "code",
   "execution_count": 66,
   "metadata": {
    "scrolled": true
   },
   "outputs": [
    {
     "name": "stdout",
     "output_type": "stream",
     "text": [
      "K-Means算法:adjusted_rand_score评估函数计算结果值:0.72526；计算消耗时间:0.004s\n",
      "Mini Batch K-Means算法:adjusted_rand_score评估函数计算结果值:0.72421；计算消耗时间:0.003s\n",
      "\n",
      "K-Means算法:v_measure_score评估函数计算结果值:0.65754；计算消耗时间:0.002s\n",
      "Mini Batch K-Means算法:v_measure_score评估函数计算结果值:0.65780；计算消耗时间:0.002s\n",
      "\n",
      "K-Means算法:adjusted_mutual_info_score评估函数计算结果值:0.65726；计算消耗时间:0.003s\n",
      "Mini Batch K-Means算法:adjusted_mutual_info_score评估函数计算结果值:0.65757；计算消耗时间:0.003s\n",
      "\n",
      "K-Means算法:mutual_info_score评估函数计算结果值:0.72231；计算消耗时间:0.001s\n",
      "Mini Batch K-Means算法:mutual_info_score评估函数计算结果值:0.72264；计算消耗时间:0.002s\n",
      "\n"
     ]
    },
    {
     "name": "stderr",
     "output_type": "stream",
     "text": [
      "C:\\4_IT\\Anaconda\\lib\\site-packages\\sklearn\\metrics\\cluster\\supervised.py:732: FutureWarning: The behavior of AMI will change in version 0.22. To match the behavior of 'v_measure_score', AMI will use average_method='arithmetic' by default.\n",
      "  FutureWarning)\n"
     ]
    }
   ],
   "source": [
    "score_funcs = [\n",
    "    metrics.adjusted_rand_score,   # ARI\n",
    "    metrics.v_measure_score,   # 均一性和完整性的加权平均\n",
    "    metrics.adjusted_mutual_info_score,   # AMI\n",
    "    metrics.mutual_info_score,   # 互信息\n",
    "]\n",
    "\n",
    "# 迭代，对每个评估函数进行评估操作\n",
    "for score_func in score_funcs:\n",
    "    t0 = time.time()\n",
    "    km_scores = score_func(Y,km_y_hat)   # 计算评估值\n",
    "    print(\"K-Means算法:%s评估函数计算结果值:%.5f；计算消耗时间:%0.3fs\" % (score_func.__name__,km_scores, time.time() - t0))\n",
    "    \n",
    "    t0 = time.time()\n",
    "    mbkm_scores = score_func(Y,mbkm_y_hat)\n",
    "    print(\"Mini Batch K-Means算法:%s评估函数计算结果值:%.5f；计算消耗时间:%0.3fs\\n\" % (score_func.__name__,mbkm_scores, time.time() - t0))"
   ]
  },
  {
   "cell_type": "code",
   "execution_count": null,
   "metadata": {
    "collapsed": true
   },
   "outputs": [],
   "source": []
  }
 ],
 "metadata": {
  "kernelspec": {
   "display_name": "Python 3",
   "language": "python",
   "name": "python3"
  },
  "language_info": {
   "codemirror_mode": {
    "name": "ipython",
    "version": 3
   },
   "file_extension": ".py",
   "mimetype": "text/x-python",
   "name": "python",
   "nbconvert_exporter": "python",
   "pygments_lexer": "ipython3",
   "version": "3.6.2"
  }
 },
 "nbformat": 4,
 "nbformat_minor": 1
}
